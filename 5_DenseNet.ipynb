{
  "nbformat": 4,
  "nbformat_minor": 0,
  "metadata": {
    "colab": {
      "provenance": [],
      "collapsed_sections": [
        "kkkhjr1MxwRC",
        "8AASo4CnB50J",
        "UoKMsE9DUdZw",
        "3-2Dxl3vToLy",
        "nkvnVHVTM0XL",
        "xoO3veaHHFDC",
        "TTfRAwlTlMak"
      ],
      "authorship_tag": "ABX9TyMdQmOGxnXYrHANJOe6R3J3",
      "include_colab_link": true
    },
    "kernelspec": {
      "name": "python3",
      "display_name": "Python 3"
    },
    "language_info": {
      "name": "python"
    },
    "accelerator": "GPU",
    "gpuClass": "standard"
  },
  "cells": [
    {
      "cell_type": "markdown",
      "metadata": {
        "id": "view-in-github",
        "colab_type": "text"
      },
      "source": [
        "<a href=\"https://colab.research.google.com/github/Bicchie/Skin-Lesions-Classification/blob/main/5_DenseNet.ipynb\" target=\"_parent\"><img src=\"https://colab.research.google.com/assets/colab-badge.svg\" alt=\"Open In Colab\"/></a>"
      ]
    },
    {
      "cell_type": "markdown",
      "source": [
        "#Skin Lesions Classifications using pretrained network DenseNet"
      ],
      "metadata": {
        "id": "sa07OK_PRi6w"
      }
    },
    {
      "cell_type": "markdown",
      "source": [
        "## Initialization"
      ],
      "metadata": {
        "id": "CYv_HijlhWRu"
      }
    },
    {
      "cell_type": "code",
      "execution_count": null,
      "metadata": {
        "id": "dS0_gw6PLYnb"
      },
      "outputs": [],
      "source": [
        "from google.colab import drive\n",
        "import tensorflow as tf\n",
        "from tensorflow import keras\n",
        "from tensorflow.keras import optimizers\n",
        "from keras import layers\n",
        "from keras import models\n",
        "import os\n",
        "import math\n",
        "import shutil\n",
        "import matplotlib.pyplot as plt\n",
        "from sklearn import metrics\n",
        "from sklearn.metrics import ConfusionMatrixDisplay\n",
        "import numpy as np"
      ]
    },
    {
      "cell_type": "code",
      "source": [
        "drive.mount('/content/gdrive', force_remount=True)"
      ],
      "metadata": {
        "colab": {
          "base_uri": "https://localhost:8080/"
        },
        "id": "eCoZZomfLsT4",
        "outputId": "7b16d4b2-5231-44b5-ed8b-fb38be5100e8"
      },
      "execution_count": null,
      "outputs": [
        {
          "output_type": "stream",
          "name": "stdout",
          "text": [
            "Mounted at /content/gdrive\n"
          ]
        }
      ]
    },
    {
      "cell_type": "code",
      "source": [
        "IMAGE_HEIGHT = 224\n",
        "IMAGE_WIDTH = 224\n",
        "TRAIN_DIR = '/content/gdrive/MyDrive/SkinCancer/OriginalDataset/train'\n",
        "VAL_DIR = '/content/gdrive/MyDrive/SkinCancer/OriginalDataset/val'\n",
        "TEST_DIR = '/content/gdrive/MyDrive/SkinCancer/OriginalDataset/test'\n",
        "MODELS_PATH = '/content/gdrive/MyDrive/SkinCancer/Models'\n",
        "\n",
        "LOCAL_MODELS_FOLDER = \"/content/models\"\n",
        "if not os.path.exists(LOCAL_MODELS_FOLDER):\n",
        "  os.makedirs(LOCAL_MODELS_FOLDER)\n",
        "GLOBAL_MODELS_FOLDER = \"/content/gdrive/MyDrive/SkinCancer/Models/DenseNet\"\n",
        "if not os.path.exists(GLOBAL_MODELS_FOLDER):\n",
        "  os.makedirs(GLOBAL_MODELS_FOLDER)\n",
        "\n",
        "CLASSES = ['Actinic', 'BCC', 'Dermatofibroma', 'Keratosis', 'Melanoma', 'Nevu', 'Vascular']\n",
        "BATCH_SIZE = 32\n",
        "RANDOM_SEED = 42\n",
        "EPOCHS=50\n",
        "DROPOUT = 0.3"
      ],
      "metadata": {
        "id": "4Ak2H8jHLuEt"
      },
      "execution_count": null,
      "outputs": []
    },
    {
      "cell_type": "markdown",
      "source": [
        "###Dataset Loading"
      ],
      "metadata": {
        "id": "kkkhjr1MxwRC"
      }
    },
    {
      "cell_type": "markdown",
      "source": [
        "Note that since 450x600 is too large, It is used the interpolation tool in Keras to resize the images in 224x224, also to fit the input of most pretrained networks."
      ],
      "metadata": {
        "id": "iwnC7oot1kyJ"
      }
    },
    {
      "cell_type": "code",
      "source": [
        "training_images = tf.keras.preprocessing.image_dataset_from_directory(\n",
        "    TRAIN_DIR,\n",
        "    labels='inferred',\n",
        "    batch_size=BATCH_SIZE,\n",
        "    color_mode='rgb',\n",
        "    image_size=(IMAGE_HEIGHT,IMAGE_WIDTH),\n",
        "    interpolation='bilinear',\n",
        "    shuffle=True,\n",
        "    seed=RANDOM_SEED\n",
        ")\n",
        "\n",
        "val_images = tf.keras.preprocessing.image_dataset_from_directory(\n",
        "    VAL_DIR,\n",
        "    labels='inferred',\n",
        "    batch_size=BATCH_SIZE,\n",
        "    color_mode='rgb',\n",
        "    image_size=(IMAGE_HEIGHT,IMAGE_WIDTH),\n",
        "    interpolation='bilinear',\n",
        "    shuffle=True,\n",
        "    seed=RANDOM_SEED\n",
        ")\n",
        "\n",
        "test_images = tf.keras.preprocessing.image_dataset_from_directory(\n",
        "    TEST_DIR,\n",
        "    labels='inferred',\n",
        "    batch_size=BATCH_SIZE,\n",
        "    color_mode='rgb',\n",
        "    image_size=(IMAGE_HEIGHT,IMAGE_WIDTH),\n",
        "    interpolation='bilinear',\n",
        "    shuffle=False,\n",
        "    seed=RANDOM_SEED\n",
        ")"
      ],
      "metadata": {
        "colab": {
          "base_uri": "https://localhost:8080/"
        },
        "id": "2MqCw7Wfxzg5",
        "outputId": "42c84d77-0aaa-4693-9de4-81fe2825f925"
      },
      "execution_count": null,
      "outputs": [
        {
          "output_type": "stream",
          "name": "stdout",
          "text": [
            "Found 7014 files belonging to 7 classes.\n",
            "Found 1500 files belonging to 7 classes.\n",
            "Found 1511 files belonging to 7 classes.\n"
          ]
        }
      ]
    },
    {
      "cell_type": "markdown",
      "source": [
        "## Utility"
      ],
      "metadata": {
        "id": "8AASo4CnB50J"
      }
    },
    {
      "cell_type": "code",
      "source": [
        "def compile_model(model, metrics='accuracy', loss='sparse_categorical_crossentropy', optimizer='adam', learning_rate = 0.001):\n",
        "  '''\n",
        "    compile_model is used to compile the current model\n",
        "    :param model: model to compile\n",
        "    :param optimizer: optimizer to be used\n",
        "    :param learning_rate: learning rate parameter for the optimizer\n",
        "  '''\n",
        "  if optimizer == 'adam':\n",
        "    optimizer=optimizers.Adam(learning_rate=learning_rate)\n",
        "  elif optimizer == 'rmsprop':\n",
        "    optimizer = optimizers.RMSprop(learning_rate=learning_rate)\n",
        "  else:\n",
        "    return\n",
        "\n",
        "  model.compile(loss=loss,\n",
        "    optimizer=optimizer,\n",
        "    metrics=[metrics])\n",
        "\n",
        "  return model\n",
        "\n",
        "def run_model (model, model_name, train_ds, val_ds, epochs=50, patience=3, monitor='val_loss', class_weight=None):\n",
        "  '''\n",
        "  run_model is used to run the current mode\n",
        "  :param model: model to run\n",
        "  :param model_name: name given to save the model\n",
        "  :param epochs: how many epochs to do\n",
        "  :param patience: patience value for Early Stopping\n",
        "  :param monitor: what to monitor for Early Stopping and Model Checkpoint\n",
        "  '''\n",
        "  # local save path for the models\n",
        "  save_path = LOCAL_MODELS_FOLDER + '/' + model_name + \".h5\"\n",
        "\n",
        "  callbacks_list = [\n",
        "                  keras.callbacks.EarlyStopping(monitor=monitor, patience=patience), #we implement EarlyStopping to prevent overfitting\n",
        "                  keras.callbacks.ModelCheckpoint(\n",
        "                      filepath = save_path,\n",
        "                      monitor=monitor,\n",
        "                      verbose=1,\n",
        "                      save_best_only=True)\n",
        "                  ]\n",
        "           \n",
        "  history = model.fit(train_ds,\n",
        "                    epochs=epochs,\n",
        "                    validation_data=val_ds,\n",
        "                    callbacks=callbacks_list,\n",
        "                    class_weight=class_weight\n",
        "                    )\n",
        "  # save on Drive only the best model\n",
        "  shutil.copy(save_path, GLOBAL_MODELS_FOLDER + '/' + model_name + '.h5')\n",
        "  return tf.keras.models.load_model(save_path), history\n",
        "\n",
        "\n",
        "def show_training_and_validation_performance(history):\n",
        "  '''\n",
        "  show_training_and_validation_performance is used to plot the performances during the training phase\n",
        "  :param history: object in which are recorded all the events\n",
        "  '''\n",
        "  acc = history.history['accuracy']\n",
        "  val_acc = history.history['val_accuracy']\n",
        "  loss = history.history['loss']\n",
        "  val_loss = history.history['val_loss']\n",
        "\n",
        "  epochs = range(len(acc))\n",
        "\n",
        "  plt.plot(epochs, acc, 'bo', label='Training accuracy')\n",
        "  plt.plot(epochs, val_acc, 'b', label='Validation accuracy')\n",
        "  plt.title('Training and validation accuracy')\n",
        "  plt.legend()\n",
        "\n",
        "  plt.figure()\n",
        "\n",
        "  plt.plot(epochs, loss, 'bo', label='Training loss')\n",
        "  plt.plot(epochs, val_loss, 'b', label='Validation loss')\n",
        "  plt.title('Training and validation loss')\n",
        "  plt.legend()\n",
        "\n",
        "  plt.show()\n",
        "\n",
        "\n",
        "def evaluate_model(model, test_ds):\n",
        "  test_loss, test_accuracy = model.evaluate(test_ds)\n",
        "  print(\"Loss on test set: \" +str(test_loss))\n",
        "  print(\"Accuracy on test set: \" +str(test_accuracy))\n",
        "  test_labels = np.concatenate([label for image, label in test_ds], axis=0) # retrieve the labels of the test set\n",
        "  test_predictions = model.predict(test_ds)  # probabilities for all classes\n",
        "  test_predictions = np.argmax(test_predictions, axis=-1)  # index of the classes with largest probability\n",
        "  print(metrics.classification_report(test_labels, test_predictions, target_names=CLASSES, digits=4))\n",
        "\n",
        "def plot_confusionmatrix(model, test_ds):\n",
        "  test_labels = np.concatenate([label for image, label in test_ds], axis=0) # retrieve the labels of the test set\n",
        "  test_predictions = model.predict(test_ds, verbose=1)  # probabilities for all classes\n",
        "  test_predictions = np.argmax(test_predictions, axis=-1)  # index of the classes with largest probability\n",
        "  # plot confusion matrix\n",
        "  fig, ax = plt.subplots(figsize=(10, 10))\n",
        "  ConfusionMatrixDisplay.from_predictions(test_labels, test_predictions, xticks_rotation='vertical', ax=ax, display_labels=CLASSES)\n",
        "\n",
        "\n",
        "def create_class_weight(labels_dict,mu=0.7):\n",
        "    total = np.sum(list(labels_dict.values()))\n",
        "    keys = labels_dict.keys()\n",
        "    class_weight = dict()\n",
        "    \n",
        "    for key in keys:\n",
        "        score = math.log(mu*total/float(labels_dict[key]))\n",
        "        class_weight[key] = score if score > 0.5 else 0.5\n",
        "    \n",
        "    return class_weight\n",
        "\n",
        "# actually compute the CLASS WEIGHTS\n",
        "labels_dict = {0:327, 1:514, 2:115, 3:1099, 4:1113, 5:6705, 6:142}\n",
        "\n",
        "class_weight = create_class_weight(labels_dict)"
      ],
      "metadata": {
        "id": "411pI0DC0L9B"
      },
      "execution_count": null,
      "outputs": []
    },
    {
      "cell_type": "markdown",
      "source": [
        "## Feature Extraction"
      ],
      "metadata": {
        "id": "UoKMsE9DUdZw"
      }
    },
    {
      "cell_type": "markdown",
      "source": [
        "Let's use the DenseNet as Feature Extractor."
      ],
      "metadata": {
        "id": "QPr3q0dgUh9-"
      }
    },
    {
      "cell_type": "markdown",
      "source": [
        "![DenseNet.jpg](data:image/jpeg;base64,/9j/4AAQSkZJRgABAQEAYABgAAD/4RD0RXhpZgAATU0AKgAAAAgABAE7AAIAAAAOAAAISodpAAQAAAABAAAIWJydAAEAAAAcAAAQ0OocAAcAAAgMAAAAPgAAAAAc6gAAAAgAAAAAAAAAAAAAAAAAAAAAAAAAAAAAAAAAAAAAAAAAAAAAAAAAAAAAAAAAAAAAAAAAAAAAAAAAAAAAAAAAAAAAAAAAAAAAAAAAAAAAAAAAAAAAAAAAAAAAAAAAAAAAAAAAAAAAAAAAAAAAAAAAAAAAAAAAAAAAAAAAAAAAAAAAAAAAAAAAAAAAAAAAAAAAAAAAAAAAAAAAAAAAAAAAAAAAAAAAAAAAAAAAAAAAAAAAAAAAAAAAAAAAAAAAAAAAAAAAAAAAAAAAAAAAAAAAAAAAAAAAAAAAAAAAAAAAAAAAAAAAAAAAAAAAAAAAAAAAAAAAAAAAAAAAAAAAAAAAAAAAAAAAAAAAAAAAAAAAAAAAAAAAAAAAAAAAAAAAAAAAAAAAAAAAAAAAAAAAAAAAAAAAAAAAAAAAAAAAAAAAAAAAAAAAAAAAAAAAAAAAAAAAAAAAAAAAAAAAAAAAAAAAAAAAAAAAAAAAAAAAAAAAAAAAAAAAAAAAAAAAAAAAAAAAAAAAAAAAAAAAAAAAAAAAAAAAAAAAAAAAAAAAAAAAAAAAAAAAAAAAAAAAAAAAAAAAAAAAAAAAAAAAAAAAAAAAAAAAAAAAAAAAAAAAAAAAAAAAAAAAAAAAAAAAAAAAAAAAAAAAAAAAAAAAAAAAAAAAAAAAAAAAAAAAAAAAAAAAAAAAAAAAAAAAAAAAAAAAAAAAAAAAAAAAAAAAAAAAAAAAAAAAAAAAAAAAAAAAAAAAAAAAAAAAAAAAAAAAAAAAAAAAAAAAAAAAAAAAAAAAAAAAAAAAAAAAAAAAAAAAAAAAAAAAAAAAAAAAAAAAAAAAAAAAAAAAAAAAAAAAAAAAAAAAAAAAAAAAAAAAAAAAAAAAAAAAAAAAAAAAAAAAAAAAAAAAAAAAAAAAAAAAAAAAAAAAAAAAAAAAAAAAAAAAAAAAAAAAAAAAAAAAAAAAAAAAAAAAAAAAAAAAAAAAAAAAAAAAAAAAAAAAAAAAAAAAAAAAAAAAAAAAAAAAAAAAAAAAAAAAAAAAAAAAAAAAAAAAAAAAAAAAAAAAAAAAAAAAAAAAAAAAAAAAAAAAAAAAAAAAAAAAAAAAAAAAAAAAAAAAAAAAAAAAAAAAAAAAAAAAAAAAAAAAAAAAAAAAAAAAAAAAAAAAAAAAAAAAAAAAAAAAAAAAAAAAAAAAAAAAAAAAAAAAAAAAAAAAAAAAAAAAAAAAAAAAAAAAAAAAAAAAAAAAAAAAAAAAAAAAAAAAAAAAAAAAAAAAAAAAAAAAAAAAAAAAAAAAAAAAAAAAAAAAAAAAAAAAAAAAAAAAAAAAAAAAAAAAAAAAAAAAAAAAAAAAAAAAAAAAAAAAAAAAAAAAAAAAAAAAAAAAAAAAAAAAAAAAAAAAAAAAAAAAAAAAAAAAAAAAAAAAAAAAAAAAAAAAAAAAAAAAAAAAAAAAAAAAAAAAAAAAAAAAAAAAAAAAAAAAAAAAAAAAAAAAAAAAAAAAAAAAAAAAAAAAAAAAAAAAAAAAAAAAAAAAAAAAAAAAAAAAAAAAAAAAAAAAAAAAAAAAAAAAAAAAAAAAAAAAAAAAAAAAAAAAAAAAAAAAAAAAAAAAAAAAAAAAAAAAAAAAAAAAAAAAAAAAAAAAAAAAAAAAAAAAAAAAAAAAAAAAAAAAAAAAAAAAAAAAAAAAAAAAAAAAAAAAAAAAAAAAAAAAAAAAAAAAAAAAAAAAAAAAAAAAAAAAAAAAAAAAAAAAAAAAAAAAAAAAAAAAAAAAAAAAAAAAAAAAAAAAAAAAAAAAAAAAAAAAAAAAAAAAAAAAAAAAAAAAAAAAAAAAAAAAAAAAAAAAAAAAAAAAAAAAAAAAAAAAAAAAAAAAAAAAAAAAAAAAAAAAAAAAAAAAAAAAAAAAAAAAAAAAAAAAAAAAAAAAAAAAAAAAAAAAAAAAAAAAAAAAAAAAAAAAAAAAAAAAAAAAAAAAAAAAAAAAAAAAAAAAAAAAAAAAAAAAAAAAAAAAAAAAAAAAAAAAAAAAAAAAAAAAAAAAAAAAAAAAAAAAAAAAAAAAAAAAAAAAAAAAAAAAAAAAAAAAAAAAAAAAAAAAAAAAAAAAAAAAAAAAAAAAAAAAAAAAAAAAAAAAAAAAAAAAAAAAAAAAAAAAAAAAAAAAAAAAAAAAAAAAAAAAAAAAAAAAAAAAAAAAAAAAAAAAAAAAAAAAAAAAAAAAAAAAAAAAAAAAAAAAAAAAAAAAAAAAAAAAAAAAAAAAAAAAAAAAAAAAAAAAAAAAAAAAAAAAAAAAAAAAAAAAAAAAAAAAAAAAAAAAAAAAAAAAAAAAAAAAAAAAAAAAAAAAAAAAAAAAAAAAAAAAAAAAAAAAAAAAAAAAAAAAAAAAAAAAAAAAAAAAAAAAAAAAAAAAAAAAAAAAAAAAAAAAAAAAAAAAAAAAAAAAAAAAAAAAAAAAAAAAAAAAAAAAAAAAAAAAAAAAAAAAAAAAAAAAAAAAAAAAAAAAAAAAAAAAAAAAAAAAAAAAAAAAAAAAAAAAAAAAAAAAAAAAAAAAAAAAAAAAAAAAAAAAAAAAAAAAAAAAAAAAAAAAAAAAAAAAAAAAAAAAAAAAAAAAAAAAAAAAAAAAAAAAAAAAAAAAAAAAAAAAAAAAAAAAAAAAAAAAAAAAAAAAAAAAAAAAAAAAAAAAAAAAAAAAAAAAAAAAAAAAAAAAAAAAAAAAAAAAAAAAAAAAAAAAAAAAAAAAAAAAAAAAAAAAAAAAAAAAAAAAAAAAAAAAAEFhbGl5YWggQWhtZWQAAAWQAwACAAAAFAAAEKaQBAACAAAAFAAAELqSkQACAAAAAzIxAACSkgACAAAAAzIxAADqHAAHAAAIDAAACJoAAAAAHOoAAAAIAAAAAAAAAAAAAAAAAAAAAAAAAAAAAAAAAAAAAAAAAAAAAAAAAAAAAAAAAAAAAAAAAAAAAAAAAAAAAAAAAAAAAAAAAAAAAAAAAAAAAAAAAAAAAAAAAAAAAAAAAAAAAAAAAAAAAAAAAAAAAAAAAAAAAAAAAAAAAAAAAAAAAAAAAAAAAAAAAAAAAAAAAAAAAAAAAAAAAAAAAAAAAAAAAAAAAAAAAAAAAAAAAAAAAAAAAAAAAAAAAAAAAAAAAAAAAAAAAAAAAAAAAAAAAAAAAAAAAAAAAAAAAAAAAAAAAAAAAAAAAAAAAAAAAAAAAAAAAAAAAAAAAAAAAAAAAAAAAAAAAAAAAAAAAAAAAAAAAAAAAAAAAAAAAAAAAAAAAAAAAAAAAAAAAAAAAAAAAAAAAAAAAAAAAAAAAAAAAAAAAAAAAAAAAAAAAAAAAAAAAAAAAAAAAAAAAAAAAAAAAAAAAAAAAAAAAAAAAAAAAAAAAAAAAAAAAAAAAAAAAAAAAAAAAAAAAAAAAAAAAAAAAAAAAAAAAAAAAAAAAAAAAAAAAAAAAAAAAAAAAAAAAAAAAAAAAAAAAAAAAAAAAAAAAAAAAAAAAAAAAAAAAAAAAAAAAAAAAAAAAAAAAAAAAAAAAAAAAAAAAAAAAAAAAAAAAAAAAAAAAAAAAAAAAAAAAAAAAAAAAAAAAAAAAAAAAAAAAAAAAAAAAAAAAAAAAAAAAAAAAAAAAAAAAAAAAAAAAAAAAAAAAAAAAAAAAAAAAAAAAAAAAAAAAAAAAAAAAAAAAAAAAAAAAAAAAAAAAAAAAAAAAAAAAAAAAAAAAAAAAAAAAAAAAAAAAAAAAAAAAAAAAAAAAAAAAAAAAAAAAAAAAAAAAAAAAAAAAAAAAAAAAAAAAAAAAAAAAAAAAAAAAAAAAAAAAAAAAAAAAAAAAAAAAAAAAAAAAAAAAAAAAAAAAAAAAAAAAAAAAAAAAAAAAAAAAAAAAAAAAAAAAAAAAAAAAAAAAAAAAAAAAAAAAAAAAAAAAAAAAAAAAAAAAAAAAAAAAAAAAAAAAAAAAAAAAAAAAAAAAAAAAAAAAAAAAAAAAAAAAAAAAAAAAAAAAAAAAAAAAAAAAAAAAAAAAAAAAAAAAAAAAAAAAAAAAAAAAAAAAAAAAAAAAAAAAAAAAAAAAAAAAAAAAAAAAAAAAAAAAAAAAAAAAAAAAAAAAAAAAAAAAAAAAAAAAAAAAAAAAAAAAAAAAAAAAAAAAAAAAAAAAAAAAAAAAAAAAAAAAAAAAAAAAAAAAAAAAAAAAAAAAAAAAAAAAAAAAAAAAAAAAAAAAAAAAAAAAAAAAAAAAAAAAAAAAAAAAAAAAAAAAAAAAAAAAAAAAAAAAAAAAAAAAAAAAAAAAAAAAAAAAAAAAAAAAAAAAAAAAAAAAAAAAAAAAAAAAAAAAAAAAAAAAAAAAAAAAAAAAAAAAAAAAAAAAAAAAAAAAAAAAAAAAAAAAAAAAAAAAAAAAAAAAAAAAAAAAAAAAAAAAAAAAAAAAAAAAAAAAAAAAAAAAAAAAAAAAAAAAAAAAAAAAAAAAAAAAAAAAAAAAAAAAAAAAAAAAAAAAAAAAAAAAAAAAAAAAAAAAAAAAAAAAAAAAAAAAAAAAAAAAAAAAAAAAAAAAAAAAAAAAAAAAAAAAAAAAAAAAAAAAAAAAAAAAAAAAAAAAAAAAAAAAAAAAAAAAAAAAAAAAAAAAAAAAAAAAAAAAAAAAAAAAAAAAAAAAAAAAAAAAAAAAAAAAAAAAAAAAAAAAAAAAAAAAAAAAAAAAAAAAAAAAAAAAAAAAAAAAAAAAAAAAAAAAAAAAAAAAAAAAAAAAAAAAAAAAAAAAAAAAAAAAAAAAAAAAAAAAAAAAAAAAAAAAAAAAAAAAAAAAAAAAAAAAAAAAAAAAAAAAAAAAAAAAAAAAAAAAAAAAAAAAAAAAAAAAAAAAAAAAAAAAAAAAAAAAAAAAAAAAAAAAAAAAAAAAAAAAAAAAAAAAAAAAAAAAAAAAAAAAAAAAAAAAAAAAAAAAAAAAAAAAAAAAAAAAAAAAAAAAAAAAAAAAAAAAAAAAAAAAAAAAAAAAAAAAAAAAAAAAAAAAAAAAAAAAAAAAAAAAAAAAAAAAAAAAAAAAAAAAAAAAAAAAAAAAAAAAAAAAAAAAAAAAAAAAAAAAAAAAAAAAAAAAAAAAAAAAAAAAAAAAAAAAAAAAAAAAAAAAAAAAAAAAAAAAAAAAAAAAAAAAAAAAAAAAAAAAAAAAAAAAAAAAAAAAAAAAAAAAAAAAAAAAAAAAAAAAAAAAAAAAAAAAAAAAAAAAAAAAAAAAAAAAAAAAAAAAAAAAAAAAAAAAAAAAAAAAAAAAAAAAAAAAAAAAAAAAAAAAAAAAAAAAAAAAAAAAAAAAAAAAAAAAAAAAAAAAAAAAAAAAAAAAAAAAAAAAAAAAAAAAAAAAAAAAAAAAAAAAAAAAAAAAAAAAAAAAAAAAAAAAAAAAAAAAAAAAAAAAAAAAAAAAAAAAAAAAAAAAAAAAAAAAAAAAAAAAAAAAAAAAAAAAAAAAAAAAAAAAAAAAAAAAAAAAAAAAAAAAAAAAAAAAAAAAAAAAAAAAAAAAAAAAAAAAAAAAAAAAAAAAAAAAAAAAAAAAAAAAAAAAAAAAAAAAAAAAAAAAAAAAAAAAAAAAAAAAAAAAAAAAAAAAAAAAAAAAAAAAAAAAAAAAAAAAAAAAAAAAAAAAAAAAAAAAAAAAAAAAAAAAAAAAAAAAAAyMDIxOjA4OjIyIDEzOjAzOjI4ADIwMjE6MDg6MjIgMTM6MDM6MjgAAABBAGEAbABpAHkAYQBoACAAQQBoAG0AZQBkAAAA/+ELIGh0dHA6Ly9ucy5hZG9iZS5jb20veGFwLzEuMC8APD94cGFja2V0IGJlZ2luPSfvu78nIGlkPSdXNU0wTXBDZWhpSHpyZVN6TlRjemtjOWQnPz4NCjx4OnhtcG1ldGEgeG1sbnM6eD0iYWRvYmU6bnM6bWV0YS8iPjxyZGY6UkRGIHhtbG5zOnJkZj0iaHR0cDovL3d3dy53My5vcmcvMTk5OS8wMi8yMi1yZGYtc3ludGF4LW5zIyI+PHJkZjpEZXNjcmlwdGlvbiByZGY6YWJvdXQ9InV1aWQ6ZmFmNWJkZDUtYmEzZC0xMWRhLWFkMzEtZDMzZDc1MTgyZjFiIiB4bWxuczpkYz0iaHR0cDovL3B1cmwub3JnL2RjL2VsZW1lbnRzLzEuMS8iLz48cmRmOkRlc2NyaXB0aW9uIHJkZjphYm91dD0idXVpZDpmYWY1YmRkNS1iYTNkLTExZGEtYWQzMS1kMzNkNzUxODJmMWIiIHhtbG5zOnhtcD0iaHR0cDovL25zLmFkb2JlLmNvbS94YXAvMS4wLyI+PHhtcDpDcmVhdGVEYXRlPjIwMjEtMDgtMjJUMTM6MDM6MjguMjEzPC94bXA6Q3JlYXRlRGF0ZT48L3JkZjpEZXNjcmlwdGlvbj48cmRmOkRlc2NyaXB0aW9uIHJkZjphYm91dD0idXVpZDpmYWY1YmRkNS1iYTNkLTExZGEtYWQzMS1kMzNkNzUxODJmMWIiIHhtbG5zOmRjPSJodHRwOi8vcHVybC5vcmcvZGMvZWxlbWVudHMvMS4xLyI+PGRjOmNyZWF0b3I+PHJkZjpTZXEgeG1sbnM6cmRmPSJodHRwOi8vd3d3LnczLm9yZy8xOTk5LzAyLzIyLXJkZi1zeW50YXgtbnMjIj48cmRmOmxpPkFhbGl5YWggQWhtZWQ8L3JkZjpsaT48L3JkZjpTZXE+DQoJCQk8L2RjOmNyZWF0b3I+PC9yZGY6RGVzY3JpcHRpb24+PC9yZGY6UkRGPjwveDp4bXBtZXRhPg0KICAgICAgICAgICAgICAgICAgICAgICAgICAgICAgICAgICAgICAgICAgICAgICAgICAgICAgICAgICAgICAgICAgICAgICAgICAgICAgICAgICAgICAgICAgICAgICAgICAgIAogICAgICAgICAgICAgICAgICAgICAgICAgICAgICAgICAgICAgICAgICAgICAgICAgICAgICAgICAgICAgICAgICAgICAgICAgICAgICAgICAgICAgICAgICAgICAgICAgICAgCiAgICAgICAgICAgICAgICAgICAgICAgICAgICAgICAgICAgICAgICAgICAgICAgICAgICAgICAgICAgICAgICAgICAgICAgICAgICAgICAgICAgICAgICAgICAgICAgICAgICAKICAgICAgICAgICAgICAgICAgICAgICAgICAgICAgICAgICAgICAgICAgICAgICAgICAgICAgICAgICAgICAgICAgICAgICAgICAgICAgICAgICAgICAgICAgICAgICAgICAgIAogICAgICAgICAgICAgICAgICAgICAgICAgICAgICAgICAgICAgICAgICAgICAgICAgICAgICAgICAgICAgICAgICAgICAgICAgICAgICAgICAgICAgICAgICAgICAgICAgICAgCiAgICAgICAgICAgICAgICAgICAgICAgICAgICAgICAgICAgICAgICAgICAgICAgICAgICAgICAgICAgICAgICAgICAgICAgICAgICAgICAgICAgICAgICAgICAgICAgICAgICAKICAgICAgICAgICAgICAgICAgICAgICAgICAgICAgICAgICAgICAgICAgICAgICAgICAgICAgICAgICAgICAgICAgICAgICAgICAgICAgICAgICAgICAgICAgICAgICAgICAgIAogICAgICAgICAgICAgICAgICAgICAgICAgICAgICAgICAgICAgICAgICAgICAgICAgICAgICAgICAgICAgICAgICAgICAgICAgICAgICAgICAgICAgICAgICAgICAgICAgICAgCiAgICAgICAgICAgICAgICAgICAgICAgICAgICAgICAgICAgICAgICAgICAgICAgICAgICAgICAgICAgICAgICAgICAgICAgICAgICAgICAgICAgICAgICAgICAgICAgICAgICAKICAgICAgICAgICAgICAgICAgICAgICAgICAgICAgICAgICAgICAgICAgICAgICAgICAgICAgICAgICAgICAgICAgICAgICAgICAgICAgICAgICAgICAgICAgICAgICAgICAgIAogICAgICAgICAgICAgICAgICAgICAgICAgICAgICAgICAgICAgICAgICAgICAgICAgICAgICAgICAgICAgICAgICAgICAgICAgICAgICAgICAgICAgICAgICAgICAgICAgICAgCiAgICAgICAgICAgICAgICAgICAgICAgICAgICAgICAgICAgICAgICAgICAgICAgICAgICAgICAgICAgICAgICAgICAgICAgICAgICAgICAgICAgICAgICAgICAgICAgICAgICAKICAgICAgICAgICAgICAgICAgICAgICAgICAgICAgICAgICAgICAgICAgICAgICAgICAgICAgICAgICAgICAgICAgICAgICAgICAgICAgICAgICAgICAgICAgICAgICAgICAgIAogICAgICAgICAgICAgICAgICAgICAgICAgICAgICAgICAgICAgICAgICAgICAgICAgICAgICAgICAgICAgICAgICAgICAgICAgICAgICAgICAgICAgICAgICAgICAgICAgICAgCiAgICAgICAgICAgICAgICAgICAgICAgICAgICAgICAgICAgICAgICAgICAgICAgICAgICAgICAgICAgICAgICAgICAgICAgICAgICAgICAgICAgICAgICAgICAgICAgICAgICAKICAgICAgICAgICAgICAgICAgICAgICAgICAgICAgICAgICAgICAgICAgICAgICAgICAgICAgICAgICAgICAgICAgICAgICAgICAgICAgICAgICAgICAgICAgICAgICAgICAgIAogICAgICAgICAgICAgICAgICAgICAgICAgICAgICAgICAgICAgICAgICAgICAgICAgICAgICAgICAgICAgICAgICAgICAgICAgICAgICAgICAgICAgICAgICAgICAgICAgICAgCiAgICAgICAgICAgICAgICAgICAgICAgICAgICAgICAgICAgICAgICAgICAgICAgICAgICAgICAgICAgICAgICAgICAgICAgICAgICAgICAgICAgICAgICAgICAgICAgICAgICAKICAgICAgICAgICAgICAgICAgICAgICAgICAgICAgICAgICAgICAgICAgICAgICAgICAgICAgICAgICAgICAgICAgICAgICAgICAgICAgICAgICAgICAgICAgICAgICAgICAgIAogICAgICAgICAgICAgICAgICAgICAgICAgICAgICAgICAgICAgICAgICAgICAgICAgICAgICAgICAgICAgICAgICAgICAgICAgICAgICAgICAgICAgICAgICAgICAgICAgICAgCiAgICAgICAgICAgICAgICAgICAgICAgICAgICA8P3hwYWNrZXQgZW5kPSd3Jz8+/9sAQwAHBQUGBQQHBgUGCAcHCAoRCwoJCQoVDxAMERgVGhkYFRgXGx4nIRsdJR0XGCIuIiUoKSssKxogLzMvKjInKisq/9sAQwEHCAgKCQoUCwsUKhwYHCoqKioqKioqKioqKioqKioqKioqKioqKioqKioqKioqKioqKioqKioqKioqKioqKioq/8AAEQgBbQIFAwEiAAIRAQMRAf/EAB8AAAEFAQEBAQEBAAAAAAAAAAABAgMEBQYHCAkKC//EALUQAAIBAwMCBAMFBQQEAAABfQECAwAEEQUSITFBBhNRYQcicRQygZGhCCNCscEVUtHwJDNicoIJChYXGBkaJSYnKCkqNDU2Nzg5OkNERUZHSElKU1RVVldYWVpjZGVmZ2hpanN0dXZ3eHl6g4SFhoeIiYqSk5SVlpeYmZqio6Slpqeoqaqys7S1tre4ubrCw8TFxsfIycrS09TV1tfY2drh4uPk5ebn6Onq8fLz9PX29/j5+v/EAB8BAAMBAQEBAQEBAQEAAAAAAAABAgMEBQYHCAkKC//EALURAAIBAgQEAwQHBQQEAAECdwABAgMRBAUhMQYSQVEHYXETIjKBCBRCkaGxwQkjM1LwFWJy0QoWJDThJfEXGBkaJicoKSo1Njc4OTpDREVGR0hJSlNUVVZXWFlaY2RlZmdoaWpzdHV2d3h5eoKDhIWGh4iJipKTlJWWl5iZmqKjpKWmp6ipqrKztLW2t7i5usLDxMXGx8jJytLT1NXW19jZ2uLj5OXm5+jp6vLz9PX29/j5+v/aAAwDAQACEQMRAD8A+kaKKKACiiigAooooAKKYJ4muHgWVDMiq7xhhuVWJCkjqASrYPfB9KfQAUUUUAFFFFABRRRQAUUUUAFFFFABRRRQAUUUUAFFFFABRRRQAUUUUAFFFFABRRRQAUUUUAFFFFABRRRQAUUUUAFFFFABRRRQAUUUUAFFFFABRRRQAUUUUAFFFFABRRRQAUUUUAFFFFABRRRQAUUUUAFFFFABRRRQAUUUUAYOqeNdA0S9u7XVb77LJZwJPMXjbG19+wKcfOzeW+FXJO08Vy+vfFM2bM2l6cXsVZf+JhI2QQGgZ2WJfmKeXPndkEMMbT1rWvvCl5qfxDk1WfyY9OW2t0X5t0jvGl4pwMYA/wBLBznqnTnNc4mpeCPhB9p/tDUVu9Vk+SOKFfNuvJCKqIQOFyI1yx2BiB6Ci9hxi5O0Vdmj4F0vU5vFdz4n1WymJ1DT/IS4uyyTQ7LuciPymGUVo3hOBgZTJGTmuk8TeNvD3hCAPr+pw2zsMxwZ3SyDp8qD5iPfGB3NeDeLPj14h1rzLfw/GuiWjDG9SHuGH+90X8Bkf3q8qlupb26lnLSXdxK2ZZ5HLFz0yznqePc1zyrxXw6nr0MqqTs6r5V+P3H1F4J+Li+OvHEuladphtdPitnmE1w+ZZCGUD5Rwo+Y9z26V6LBdQXPmfZp45vLcxv5bhtjDqpx0PPSviKxuLzTJJLiG/ltWeJopDbyGMFCQSpI5IO0e1ekfDv4qp4K8C3OlWGkNcXbXrywPI3lwBCiAE/xE5DcAAYA55qYYiL+I1xOUVIu9FXvay67bs+mq5uXxlHB4sl0GbR9SjeKL7Qbt/IEBh5zKCZNxVSMEbdwyOMHNS+F/EP9peA9M13WZbe2ae0Sa4kz5cSMR82Nx4XPTJpmoeBdC1PVzql7FeSXmHUP/aNwFVWUKyhA+0KQB8uMd8V0+Z4jVm0zasb+31G38+0cum4qcqVII7EHkVYqnpemRaVatDC8khdzI8khG5mPfgAdAB+FXKpkK/UKKKKQwooooAKKKKACiiigAooooAKKKKACiiigAooooAKKKKACiiigAooooAKKKKACiiigAooooAKKKKACiiigAooooAKKKKACiiigAooooAKKKKACiiigAooooAKKKKACiiigAooooAKKKKACuI8afFnw14Knks7uaS91NMZsbRdzpkAjexwqcMDgnJByAa7evkf4yHb8YvExHaS3P/kpDWdSThG6O3BYeOIrcknoaHiv42eKvEavFazLodic/urNz5hH+1Lwf++Qv415yrvMx+zoX3HJkbhSfXPU/wCeacsMUcInuSZDgdRkAnoAo75/GrSRXM3RRAnq3LH6Dt+P5V506jerPscPg4Uvdpxt6av5voVmt40XdeShxnGDwufTHf8AHNWEWeYDyY/KTHDyDH5L1/PFTx20FvIhwZJ24Qt8zsfRR+HQVuWXh7ULzDTgWUR/vjdIf+A9B+J/CsnJs740owdnv2Wr+b/r1MJbSCAiWdvMfs0h6H2HQfhzWxZaJqN/hlj+yxEf6ycEE/ROv54roLfTNK0RlkI33LcLJJ+8lc45Cjr26KPwrat9M1XUDkRjT4P+ek43SMPZBwPqxz/s0KLlqKVaNNcu3ktX83/XqYWt2jf8IfNY3uoTXSw2jwWi3Uv7uIlWChEHyg/NjIG49ya9vf4ki61Wwt9H0qZ7S4u4oJLu7Jh4dgMpGRubk/xbR3Ga89i03R9BdJ7hjNeOcJLOfNmc45CKBx0+6gH0rYt9M1rVJ4JYoxpMME8c6TXADysVYMMRjhRx1Y59VrtpSkvM+ax1KhU1S5bJ2S/X+vmex5AIBPJ6UV5/pOnLbeONNuZrm5vLuWOcPcXUpdj8i8AcKg4ztUAZ5xXoFdid0fNzg4OzCiiimQFFFFABRRRQAUUUUAFFFFABRRRQAUUUUAFFFFABRRRQAUUUUAFFFFABRRRQAUUUUAFFFFABRRRQAUUUUAFFFFABRRRQAUUUUAFFFFABRRRQAUUUUAFFFFABRRRQAUUUUAFFFFABRRRQAV8mfGmAxfF/X2JBE3kOB6D7PGuP/Ha+s6+VPjiuPizqf+1DAf8AyEtYV/gPVyn/AHn5M4EDdYwZ7GI/iGBrcsrX7dqdvatI0aSFtzIBuwFJ4z9Kw4yG0+3I5BEZH5iug0mQp4k00D+OV1P08pz/AEFeY9/vPuKbtTbX938zqbe103R5EhtYc3MoO1UUyTSAHn1OAT9BntWvbaLql/hrlhpsBH3Vw85/mq/+PfhUuhH/AIn8o/6dh/6FXQadp1zrl9eJNeNaWlrMsYS3H7ybKK2S5+6MsRhRnjO7nA1pw5tTz8ViHSbitF5GZb22j6FcrFbxGS/nXhVDTXMyg/ixUE/7oz2rYttF1nU8NcsukWzD7q7ZLg/zRP8Ax/8ACuj03SLDSITHp1qkAY5dhy0h9WY8sfckmrldKgkeNOvOWi0Rm6ZoGm6Q7SWduPtEihZLmUl5XHXBc5OOTx0GeBWlRRVnORW7bfGGjk9G89B9fLz/ACU12tcRH/yNmhf9d5f/AERJXb1tDY8zE/xAoooqzmCiiqmparp2i2RvNYv7WwtVIUz3UyxICeg3MQKALdFZ9p4g0a/1F9PsdXsbm9jjEr20NyjyKhAIYqDkAhhz7j1rQoAKKKKACiiigAooooAKKKKACiiigAooooAKKKKACiiigAooooAKKKKACiiigAooooAKKKKACiiigAooooAKKKKACiiigAooooAKKKKACiiigAooooAKKKKACiiigAooooAK+WfjqgT4sXZGfntoGOfXbj+lfU1fL3x7UD4qSkd7KEn/AMerCv8AAerlP+9L0Z5pbf8AIGtv+uUf8hXQ6X/yMuk/9d3/APRElc9CNmkwqf4Y0Gfpiuk0kA67YkjlZSQfT5GH8ia8yXxfefbUl+5t5R/M9C0Q48SMOzWhJ/B1/wDiq7Twp/x8av8A9fSf+iUritF/5GYf9eb/APoaV2vhf5b7VVHQyxv+OwD/ANlFdNHY8bMfifr+h0VFFFdB5QUVSi1eym1SfTknH2uDG+MgjqobgnrwR06Zq7STT2KlCUPiVupTecQeLvDIIz599LCPY/ZJ3z/44R+Nd5Xnt5/yOHg//sKy/wDpBdV6FW8NjycT/ECiiirOYK5Hx/5moW2m6DCuox/2lexCa6s7NphbxowcszbGRclVX5+PmJwQDXXVT1PV9P0a28/VLuK2jJ2rvblz2VR1YnsBkmjqgOL8Iz3Nm+salcnUr+6vdVisoJdWtPsk0kKhQDgRICozKwwvTqc5r0CsPTdWg1/VJYpdIubf7AsdxbzXsSoz7/MXciZ3LwjD5gp56VuU+n9dg6hRRRSAKKKKACiiigAooooAKKKKACiiigAooooAKKKKACiiigAooooAKKKKACiiigAooooAKKKKACiiigAooooAKKKKACiiigAooooAKKKKACiiigAooooAKKKKACiiigAr5j/aBAHxRTAxnTISfc75R/Svpyvmn9oMbviTaooLSPYRBVUZZjvfAA71jW1gz0srko4qLfn+R5Uv/IJH/XOuj0rjXLH/AK6n/wBBauckVoNLkWVGRokYMrDBXGcgg9+K6LTD/wATiz/66ivLlv8AefdUXem/SP6neaU7DxraoD8rafclh6kSQY/mfzruvC5/4mGq/wC/F/6BXB6X/wAjxZ/9g66/9GW9dz4Z/wCQ5qv/AFyt/wD2pXTR2R4uYfHL1X5I6aiiiug8o5LT4oLrxjr9rd4cTtG8a5wVMaKCwI5B+deR0xW0bm50ri+LXNpnAuVXLx/74HUf7Q/EDGawbaU2/iTWLn5lFpcxSyHAw0bhkb8BgMf90V2Nc9NXT9X+Z6uNlyyjdXXLH7+VbdtLfrcpSLHP4g8N3CsG8vUC8bKcg7raZM+/Dmu9rzWeyksNd0ebSlB3X5Y2jNtjZvKkJIP8J6+xJ59a2oPiTpt5rV1pOn6fqd5f2qjfBBb5KyZIaNmJCIRjqzBT2JrrhJbPc+fxWHbbqU9Ypa+Xr/X6nYVm6n4g03SZUhu7jddSDMdrChlmk9xGoLEe+MDuRWBqd/qDW1zNrupR6Rb20ccs1hpjiW62OxVS8pA2hirAbVHKthzioJY7LT/EX/CO6DcR6NGtob/U79CrXDqGCqpkk3ZJ5LO2SAABgsGGx5prPL4i1ZCy+X4dstuTJKEmuyPXHMcfHc+Z15AxTNGi8O2+u+Vp7/b9TeKZpL6ST7RIojkVHRpCSV+ZsbBgfKeBiuHjtPEPxBvYk1BrmbQ3ud17aTwi3jgPk3imEcBpVDG2D5LgseMAMBcsrrwn8KJrprzVJL7Wry3tkmsbUea4aKMKSqfwBzliXIBJ60CbS3O8t/8AkcNR/wCvC1/9GXFGu+J9G8NW4m1vUIrbd/q4yS0knsqDLN+ANeM6r8S/EWqardXOmJHodvcQxw4Uia42ozsDuI2IT5hBADdsNXJ7vO1F9vn32oTYLnLTTSdssTk49ycClc5p4mK0jqz0PXfjBql8Xh8NWQ06DOBd3gDzN15WMZVexBYt15UV2ek+NNP0f4b6Nq/izV445ZtPSeWSXmSYiPc7BFGT3J2ivKtN8F6leYk1WYafFniGEh5WHHVvur3GBu+oq/remaXY+F9T0LR4lbUbzT5LaGFN0szbkKJuPLBASOT8oHpRcinWnf3j0L4j+ELrxZa2K6fpmj3NzaS+dHcajIymMgjKACNtyOMhhkcdicEbXh61vLSe8S6tVtIdsIhghl3wR4jAZYuBhQRj7q+uKwpfE/iCbUbGT7LbabYyXsULQSHzriVHYL8zA7IyCeg35x94V151KxXVF003cH254zKtt5g8woCAW29cZI59xTWisdl1LUs0UUUDCiiigAooooAKKKKACiiigAooooAKKKKACiiigAooooAKKKKACiiigAooooAKKKKACiiigAooooAKKKKACiiigAooooAKKKKACiiigAooooAKKKKACqZ0nT21gas1jbtqIhEAujGDIIwSdobqBlice9XKKAPnrxD8EZbXwz4s1/XtTCtFa3t5bWlkOOFd03uw+mVA/wCBVwWj6fe3MkGqW9nPJp9vcKst2E/dKS2wDd0J3EDAyR3r69ubaC9tJrW8hjnt50aOWKVQyyKRgqQeCCDgg1z3jjw/d654ObStES2jm86Bo1lYxxqqSKx+6DjgHgCuapQjLVeZ7OEzWtRbjJ3TsteiXb7zx3S/+Rltv+veX+aV1/hiVP8AhJNXhz+8W3tnIx/CTMAfzVvyqjqfgz/hENQ0y7vdTa7mninSVtgihjxsb5RyexySx6dqXwbdw33jDWZ7VjJC+nWJSXaQsg8y6+ZSeGX/AGhkdeeKxhBwdmelicTTxCc4bN/kjtqKbJIkUbSSsqIoyzMcAD1Jqhb6hdax8vhqxa/UnH2yRvKtR7+YQS4/3A3uRW6TZ50pxiryZjWEyDxxqlnIoMUkG6Qt05PAP4b/AMql0fXJb1W0zQLV9buLZiizxSqsHlg4VnlJI9VOAzZRuKzdM0WO+8SXUvipU1DZqUkZg2f6PJHHJHFkpznDSg/MT9zPrWd4h1XWfEWuX9jY3Go6ekNz9l077NFFCB5d8YG2OpLFcpGTv4JBwAAc5U4vVvo39x3Y3ERbhFaKUY69pJf0n2+R12oaN5Wh32v+K9V+3x6SJJTpukyGGKN1Ugq0md7MAxB5UYPKVl/8LCa00eDRtH8O2lmZ7eeR3025zbwxl5Y45Y5AihixiZhnaSB8u49L3hvw9e+IfAupT+LruTTZL2W6E8UM6i3+bCtKy9f4ThXPy9xkZrT0200KPUGuvA3hmG+uTJJImpSjy7aEuct5crAkqSWOIVK5LcjJrsVraHzU+fmanueXw+KNetp5P+ExsZ4rDWUs7Nb17aSMx21vNJJ8qMu6RisjA5wcjcAy4z32v6z8PNO0xNZsdCttc+xupjksLdXiWSWRQu+X7m4yFDySwOGxxmupufB/9vwlPGN62pxFtwsoQbe2Q9vlU7nI9WYjPIANeT+P/h/rPg3Rbh/D9/Nc+Hbq9tnvLaRgWhxcRsCQfvAEAbxhsYDbhlgtUcjdSm+6/Ff8D8fUg13x/wCK/ErMk17/AGNYn/l005iJGHo8/wB4/wDAQv41zdjaqZGs9Gs2uJhy0duucH1djwM+rHmr+lWUOpeILG0uwzQSM5dFcruwhIBI5xkCu/EkenPFpWi6aZJAgZYIFEccSk43MxwAMg9Mk46Gjc4byq6yZzWn+Bbm4O/W7sRRnpbWjHJ6/ekPPpwoGPU1u20ul6Sz6doVl59yvzPbWSBmz6yOeFJ9XIz71oReHry+Kya9fEJjmysmMcfb7z/ffGO20HPKmrFrqFnDGNO8L6f9tMPy+XZKqQRc9Gk4QH1Ay3saDaNMqx6LquoknVbwWNuRxa2LHeev3piM+nCBSMfeNWILnStHkk0/Q7Jrm73ZktrFA77j3kcnCk+rsM1fi8N3+oNv8QagRCRxYWBMcY6cPJ99+QemwEHBU1vWdla6darbWFtFbQL92OJAqj8BTNlCxzo0DVNY2Nrd0thBHKJEtrCQmQ7TlS0xAI7HCAEEfeNaFhpVlpPivSxp9tHCJIrlXIHzOxCMWZjyx+TqcnmtmqT/API16P8ASf8A9AFBpHRnTUUUUzYKKKKACiiigAooooAKKKKACiiigAooooAKKKKACiiigAooooAKKKKACiiigAooooAKKKKACiiigAooooAKKKKACiiigAooooAKKKKACiiigAooooAKKKKACiiigCjqOi6bq8lu+qWMF4bV/MhE6BwjeoB4zXMa1oeuS+Obi+0eC2MN1p1tbGe5kwkJilnY/KvzOSJhx8o4+9Xa0UmrlRk4u6OZtPA9iZFn16Z9anUhlW5UCCNhggrCPl4IyC25h/erpgMDA4FFFPYTk5O7PMIbqxZro3k62ttdXFx50rv5ZjSeS6VSD/e3QqOOfyFaXhZpZtOluPCWg22nz30jS3+o3pJV5y7GXamfMfbIz/K3lqMnBHSjUfDGl6HqEk1lazT3It5dQhaSRpHV4pklKRlj8gbfjauAec55rprKQWmvT24I+z36fa7dsnlhgSL04/gbryWb0rnjpN/1/X/BPWrWqYaNui0+Wj+/8omLN4RFpdrquoNJr77zLc288a7N3GJIogNu5doxnLEfxEgZ6y2uYbu2juLaRZYpBuV1PBFS1kXOn3FhdPfaKqkyNuubMkKs57sp/hf36Hv6jX4dVscKkqyUZO0ls+/k/wBH8nptr1yPxSGfhrqmP+mJ/wDIyV0lhqNvqMLPbsQyHbJE42vE391l7Guf+Jqb/hvq/ONsaP8AXbIp/pVXTV0c1SMo3jJWZ4p4fdU8X6UGIBd5VXPc+U5x+QP5V6NYceKpMfxWQz74c4/mfzrzLSf+Rz8P/wDX3L/6Sz16ZYnHitgerWXHvh+f5j86SPKpbIk0zTo/Emt62NYlmntNPvUtYbIPthYG2ikJdRgyEmZhhiVwFwARk9hFDHBCsUEaxRoMKiKAFHoAOlYfhxFTVNe2ADfeRu2O5+zxDP5KB+Fb9M7VsFFFFAwqhcfL4n0IjgmeVT7jyXOPzA/Kr9Z92wXxN4fyQN11KBnufs8hx+QP5UDjudTRRRTNgooooApalrWl6MsJ1jUrOwE7+XCbqdYvMf8AuruIyfYUlhrelarcXMGl6nZ3s1o+y5jt7hJGhbJG1wpJU5B4Poa5fxoZdT8SaPpcUmsWUVoZNRlvrDT2mCsiEIgZonjLHcx24J+UYGSKj8ES39j4ftZpbe4uLvVb+eW6a/jNtdYMm1XaPy1BxGFzwo4GM5FEdf6/rzB6f16/8A7qiiigAooooAKKKKACiiigAooooAKKKKACiiigAooooAKKKKACiiigAooooAKKKKACiiigAooooAKKKKACiiigAooooAKKKKACiiigAooooAKKKKACiiigAooooAy9VBTUdKmCqU+0NDLnsjxt/wCzhBWfbW0zeHEgtVzfaNKY4AzZLeXwqk/7cRAJ/wBvNaHiNT/YNxMqszWu26UJ1JiYSYH124x3zimo32XxKdv+o1GEOpHTzU4P4shH4RmsZL3v6/roejSm/Yq26v8AO2v5Sf3GhZ3cV9ZRXVuSY5UDLkYI9iOxHQipqx4/+JPrJhIxY6g5aI9opzyy/R/vD/a3eorYrSLutTjqwUXeOz1X9eWxQvtJjup1ureRrS9QYW5iAyR/dYdGX2P4YPNcr491C4TwDq9nq9v5Mz25Ec8ILQzHIwAeqn/Zb8C1dzXOfEIZ+HOvnuthKw9iFJB/MUnHqhqqnHlqK6/Fej/R6HhOjx7vFuiyZ/1Vy7EeuYJV/wDZs/hXpFr/AMjfD/14y/8AoyOvN9I3L4i00Qhd5nO0N90fu2/oMV3NvqS2/jC1GooLTdYTje8g2ZEkPQ+nzdTj9RUqdvi0PPp4bn1oPmX3P7v8rrzOp8PcaprYPBNzGw+nkoM/ofyrerC0IhtZ1YqcjMPI/wByt2tC1sFVrHUbTUomksbhJlRirbeqkdiOoqzXKeF7SK80b5Ge3urWaRFmj4bk7sHsy/N0ORx6iobaaRjOpKM4xXW/6HV1iaz/AMjV4O/7C8v/AKQXdWk1CW0ZYdXVYySFW5QfupD/AOyH2PHoTUOrQtJ4i8KzKRtg1V3bJ5INncpx+Lj8M1SdzWElJnYUUUVR0BRVLUNYsNLZEvJwJpM+XBGpklkx12xqCzY9hxVIS65qh/cwro1sf+Wk22W5Yc5wgJROxBJf0KigDRvtRs9Mt/P1C5itoiwUNK4Xcx4Cj1JPAA5NZ2n3Wn63qr3P9lTR3Fmi+Vc3dt5bFXz90N8y9DkMFPtUejwaGdUdrOcajqKRbnvJJPOcKXZCA/RRvjcbFwAVPAxWha/8hq//ANyL+TUAXqKx/EHizQ/C1uJdc1GK2Lf6uLlpJP8AdRcs34DivJfE3xt1S9R4fCtoumw8/wCl3aiSZhjqqfdX6kt9BVRi5bFxhKWx7lRXO2firTrPw/okuualDFeahbwbEY/PLI4UcKOfvN1xgZ7Vb8VaSNc8M3mmnTrLUhcJsNvfSFIjz1LBGII6jA6gcjqId7aErfU16K8/8L6VqvhSx0bR7iO2tJROwmOmQtLDdRgAeZM3kqVlPyjqBwTkgYHoFU12J16hRRRSGFFFFABRRRQAUUUUAFFFFABRRRQAUUUUAFFFFABRRRQAUUUUAFFFFABRRRQAUUUUAFFFFABRRRQAUUUUAFFFFABRRRQAUUUUAFFFFACModCrjKsMEHuK5yKGebwpD5IaS+0mQiMHG6RoSUI/4GgI+j10lZVoPsniW+t8AJeIt3H82SWAEcgx2AAiPHdj+Ocldo6qE3GMrdLP7tGvuevoWZY7TXNHAJ8y2uo1dHU4IzhlYHsQcEHsRUOlXszvJYajgX1sBuYcCZD92RfrjkdiCOmCY9MA07ULjSjxGxa5tcn+Bm+dRk/wsfoA6jtU+qae15HHNayCC9tyWt5iMgHurDup6EfiOQCDX4upT5U3Sb916p9v62f/AAC/XP8Aj3H/AAr3Xs9PsE2c/wC4a09N1Fb+ORXjMNzA2yeBjzG2M9e4PUHuKyfiIrP8L/FKIpZm0a7AUDJJ8l+KtNNXRyzhKDcZbnhekceIdNYdRcDH4gj+RNd2gB+ImmAjIOk32Qf+utpXI6Z4f1xLnT9Wn02W009LtFMt1+6aTOQNsZ+brjlgox0zXaxxr/wmWnTY+cWdzGD/ALJaEkfmq/lSPKpxlG1zQ0jTIxr2qx2U0tiyrDIv2cgL8wbOUIKnlTzjPPWtkPrNqcSxW1/Hz80JMMnsNrZU/XcPp6UtF/5GfVv+uFt/OWugqeRdND1FiJtfvPe9d/v3/Ezf7dtIgft6zWG1dzG6iKIo/wCunKfk1ZHhmVYRAyuGS5aaElTkB1kdk/NC3/fIrqa4mGy00WOsTaobWzlgupTFeS4QxLu+X5uuCyZxnmolzJo5azpSqRaTT18+3pbtuztXRZEZJFDKwwVYZBFc/fWkum6nozWO+eEX3yWhYcHypPuMegxn5TxnHIFYEWq6lrCi08FWeq+aVUyXs8++CBjnIHmk7ip6qSvBGM9KtT6JJp2kSeJfFuuT6xJbOIUtdPuBDDHKZBCRvG3BDllLAIQCwIPSrV30N3Rpzipwn6aNP9V+J17+NNN+3/YLWK8u78Rl2tILcl4z2V84WMnnBcqp9eRmDUNRvChbVNQj0i38+CBoLMia53TSrHFvcjCbmYAgKcdQ/Ga4DVviOV8F32l6FoH9nTTaNeXMs2nzkpaEw3DRSI6xgPv8kPklGxIrAN823Ck8Ra3pGrSSeMFln03V9VtbpdSS1eMlbWfzVEcZUMwIjA2EbtoJUyDBOiTZUYye56j5a23iuTRNElGmxWtrBfaheDbLcXW93SOMvJuJz5L7mbLY2gEE5ri1s/EPxT0Zlu7n7RpV1AZNhja2hhme2mHknHzSLHI0OSdx3q/A24GnrmqfDvQbGz13TdEj1doAIbaSwTdDuLGQB3J8ssHJbnc4JLYzmvP/ABH8TfFXibfEbv8AsaybI+zae5VyPRpuGP8AwHaPrVxg5bGkKcp7HpI1fwn8LLzVnu9VkvdT1GUTNYW482aPgsVAH3QZHlfLlRmQ1weufFrxFqtxcnSFTQ4J9oJQiWchf9ojaucnOASOzVw+n2T3EjW2kWbTuCSywgYB6/Mx4B5zycmur0/wG8oD63dEKRzbWrFR+MnB/wC+dv1raNOK31OmNGMd9TlUEt3fOIxcX99JgyNuaaV+wLsST+LH8a6TT/A15dAPq9wLSM4PkW5DSHpwXPA7jgH2IrprWWwsN2n6DZfaJkPzW9kgwp/224VTzn5jk+9aMfh+/wBQU/2xd/ZYWHNrYuQ3uGm4b/vkKR6mrcuho5JaGQ6adpTRWumwNNerLBJ5MIMszBHUqXJycYXGWIHHWu8Txfr1x4v0C3e1tbDTr+8lt5IGPmzsBbTSqS4IVPmiGVAbOfvdji29zp2ms+n6DYm6uFb95b2MYO1jzmR+FU98uQT71cHhfUNWu7S71u8NkLOZpoLfTpGVgTG8Z3TcHlJG4ULgnqaxlZnNUsz0Nb+0a/axW6ha7VPMaAOC6rnG4r1Az3qxXG6FptnpnjOGGwto4EbT52bYOXYyxZZj1JPqea7KsnoYPQKKKKQgooooAKKKKACiiigAooooAKKKKACiiigAooooAKKKKACiiigAooooAKKKKACiiigAooooAKKKKACiiigAooooAKKKKACiiigAooooAKytcJtfsmpKP+PSYCXGP9U/yP17DIc/7latR3EEd1bS286h4pUKOp6MpGCKUldWNaU1Cak9uvp1/ApazaSzW8V1ZLuvLJ/OhXOPM4wyH/eUkc8A4PardpdRX1nFdW7FopUDqSMHB9R2PtVLQbh5dONvcPvurJzbTknksuMMf95Srf8AAqiT/iTax5RGLHUJC0ZA4inPJHsH6j/az/eFRf7Xc3lBtOk947ea6/5r59yxqOnvNIt5YOsN/EuEdh8si/3H9V/UHkdwX6dqSX2+J0MF3DgT27H5oyeh91ODhu/5irtUdR0xL5o5o5Gt7yHPk3CDlc9QR/Ep7qf0IBDaad0ZxnGceSp8n2/4H5dOzq+J9El8QaL9ht7wWUnnxSiYxeZjZIrY25HJxj2znB6Vxes6TpXg3WtJuJ7y4lmnhnjkubqQvJOw8vCqigAE8/KijPpXc2WqP9oWx1aNba9P3MHMdwB3Qn9VPI9xydEojOrMqllztJHI+lUmmY1aLi7S/r0PO/Dd3cz+N9bSeyuLOP8As+xliW5QK7hnuRu25yo+QDDYPB45ro7/AFOy0uJZL+5jgDttQMfmkb+6q9WPsMmq2qeGNXvPGN1qVhqsOn2l1YW9rI6w+ZOpie4bKbvkX/Xrywf7pG3vWvpfhvTdJma4ghaW8YEPd3DmWZge29uQP9kYA7Cgx5DGifXtZZf7OshpVow5utRQmVumNkAIIyM8uVII+6a53w/4T0++8QLceIlfVZt8io9yAF3bEcfIMAgiSTIxtypOK9Qrh5LmDS7Zby6mhgWKOC5haQgFmV3SRR6sUYKAOSW6VMujMq0UuWXZnnuo63r2o+INQsrLU5tBWPUkFqbe1MUZ8p7uNWOGO+IC2XeDjdhhjCrXY6J4VvdX8BZ8VXEmlG5up7u4053jkt4w2oPc5JH3tyFVyWwAc7c5zuaXZrD9rfwho0dit/K1xPqOoq+ZWcs24Rk+YwDMflYxgBjt9KauhW2h3UM2sFtRsVwUluCSlnJuyCIvuKuTw2MrgAnGMPb0L/hu/R/h/wAAqaLo+hWNylx4L8Px3Uqh/J1GclIIkZ2bbG5BJX94+3y1K4+XcBitu58LJrUDR+KrltTibraIphtwQcg7AdzHp99mGRkAVvg5GRyKKo2Pn74ieAtQ8Gac0mj38s3h+7u4zNbyvlonz8pOfvem8YboG3dRyPh2wg1XxVDZ3oZ7cWksxjDFQzK8QGSOcYc8dDXuPxoB/wCFcTN2W7gJ9v3gH8yK8c8G/wDI0L/17SfzSuqm7xO2k24O52kbC1ddL0TTTI8SKRFEoihhU525boB8p4AJ9qvQ+G57oB9evS697W0JjiH+833n/MA91p2hf8h/U/8Arjb/AM5K0dP0S2197ubWXkvIEneFLJ2Ag2gY+ZB9/OejZHoBSkwlKxVsr618hbHwpYLeJCNiraBY7aLBIwZPujBBBC5YelaMfhi5v/m8QXzPGcH7FZM0UQ6HDOPnfp6qpBwVro440ijWOJFRFGFVRgAegFOrO7MXJshtLO2sLZLext4reBBhY4kCqv0AqaiigRn20zJ8StNgGNk2kXrt65Sa1A/9GH9K7CuLh/5Kno//AGBdQ/8AR9lXaVm9zKW4UUUUhBRRRQAUUUUAFFFFABRRRQAUUUUAFFFFABRRRQAUUUUAFFFFABRRRQAUUUUAFFFFABRRRQAUUUUAFFFFABRRRQAUUUUAFFFFABRRRQAUUUUAZM5/s/xDDcciC/UQSeiyrkofxG5c+oQVfvbOHULOS1uVJjkGDg4IPUEHsQeQexFN1CyXULCW2dim8ZVwOY2ByrD3BAI9xUek3zX9grzII7iNjFPGP4JFOGA9u4PcEGo62fU6W24KpHeOn+T/AE+SItJvJmaTT9RI+22wG5gMCdD92QfXGCOxBHTBOlVDVNPe7WO4s2WK+tiWgkbpz1RvVWxyPoeoFP0zUU1K1LhGhmjby54H+9C46qfzyD0III4NCdnysVSKnH2sPmuz/wAn+G3a8t3Z29/bGC8iWWMkHDdiOhB6gjsRyKzTLf6ICZ/N1KwXJ8xF3XEI91H+sHuPm9m61s0U3G+qJhVcVyyV12/y7P8Ap3IrW7t723We0mSaJujo2QalrNudGja4e70+VrG8blpIhlZT/tp0b68H0IqIavPYHbrtt5CD/l8hy0B927x/8C4H940ua3xFexU9aTv5df8Ag/L7ka9c42h2Gk61p93DFJI0skkDvNK0mwOmRjcTtGUAwuB8x45NdDHIk0ayROrowyrKcgj2NUtbgefR5vJUtNDieJQcZdCHUfiVx+NU9jkqp8r8v0I9EJghl02Q/PYvsT3iPMZ/L5c+qmtJlDKVYAgjBBHWsi+mSF7XXbc5g8sLOR/FC3Ib/gJ5+hatjr0pR7E09Fy9vy6GOY59BybZJLnTephQFpLYf7A/iT/Z6jtngDUt7iG7t0ntpFlicZV0OQakrNn0t4rhrvSZVtp3OZI2GYpv95ezf7Q59c9KNVsFnD4dV2/y/wAjl/jIpb4Z3gH/AD8Wx/KZDXi/g7jxVHnvbSD8cr/ga9a+K+rB/hve293A9reCa3/cNzvBnQEow4YDOT3AHIFeSeESP+EogHcxyH9K6qLTizvw8lKDsd7oP/I8az/2DrL/ANGXVdX4X/49L3/r+l/pXLaGjL401WQj5JNPtFU+pWS4z/6EPzrp/C//ADFv+v8AP/oqOlIJm7RRUc8yW1tLPLnZEhdsDPAGTUmZJRVax1C21K3E1pJvXAyDwy55wR2qzQGxUhA/4TfTGwN32O6Ge+N0PH6D8q6uuUi48aaWx6G2uUB9yYzj8lP5V1dZvczluFFFFIkK4b4ovp+oaTp/hm6udOS71m+hjgjv0WVcIwdm8sspYYXbwRy4GRmu5qG7vLbT7V7m+uIraBBlpZnCKv1Jo7AeX+Driztr7XfE1rHouq3j6hDpIu9KtzAnlKqL0BlK/M2OWAIVeQABXq1ZdpcaZr8huFtDI1lNtjkurUoythW3JvAOORz3xx2NalO90v6/ruKyT0CiiikMKKKKACiiigAooooAKKKKACiiigAooooAKKKKACiiigAooooAKKKKACiiigAooooAKKKKACiiigAooooAKKKKACiiigArHuz/AGTrUd6Bi0vSsFz6JJ0jk/H7h+qdga2KiuraK8tZba5QPFKhR1PcGpkrrQ1pTUJe9s9H6f1qvMlrM1GxmS5GpaWo+2KoWSMnAuIwc7T6EZO09ieeCaTRrmYCTTb6QyXlmADI2Mzxn7kvHrgg/wC0G7YrUo0kiveoVLb/AJNf5Mr2N9DqFqJ7cnGSrKwwyMOqsOxHpVisy+sZ4bltR0lVNzgCaAttW5UdAT2Ydm/A8dLVhqEGo2/mwEgqdskbjDxMOqsOx/z0oT1swnTVueG35ev6Pr66FmiiiqMDLfQoYpWm0uWTTpWJZhBjy3J67oz8pz6gA+9NF9qdioGp2IukA5uLAE9uSYj8w+il61qKjl7aHR7dvSoub13+/f8ANeRh+HbyzubO506GRZFtZGjCMMHyj8ygqeRgNt5H8JqfSpGsrhtHuGyYl32rs2TJD0x9VJCn22nvVbWtMspNZsr68to5Ff8A0ZpCMNGTny2DDlTkleD/AMtKLzw/eHY+natMskLB4FuwJlQjqN3D4YHByx47ZqfeXTY5lCm17rs49H27XXl5LVG9RWDYa9qE0Lm60hmeKQxTLazK7RsP7yttI6gjG7IIIzmrSeJNL4FxcmzYttC3sbQEn0G8DP4ZzVc8TeNGpJc0FdeWv5bfM5r4yyvD8K9QkiYq63NmAw6jN1ED+YJH414r4anB8TWpEIMzJIoIbAPy5OR+Fe2fF1I7v4U6ph9yB7eRWQg5K3EbD8MivDfC5x4ssPfzP/RbV004ppsdOlGSb2ffr/Xkz0bR7hB4kufO/cl7WJVWQgEkM5wPXrXR+FJVebXI1PzQ6ltcY6EwQsP0YVz+nRI/iO4SRFdJbNQysMjh2/8Aiqv+FbaVtQ8RrZ3BtRBqaoqBAyMPslu3zA8nljyCDjA6AUpcy8yZ+0jvr+D/AMvyOxqtqSeZpV2g6tC45/3TUP2jULf/AF9mtwv9+2cA/Xa2MfgTSSapYyRtDPL9mZwU23KmLOfTdjP4VPMupCqxT109dClpVnHeaPbSRs9vdW6+QJk+9hTgBuzAgA4PrV2PUZLaRYNWRYmY4Sdf9VIfr/CfY/gTVPRJvL+zZ+5f2scq57SKgDD642/98tW08aSxskqq6MMMrDII+laPc3k9dSuv/I2aR/uz/wDoArqq4NoZtJ8R6TJYrJdRl5US0LjK/uyx2MfZeATjtkVut4z0f+0FsI3uJr4pvNrFbu8qc4wygfLz3bAxznHNZyRjKOt0b9U9R1ax0qJXv7hYi+RHHgs8pHZEGWc+ygmsme81W6VGvJ49Bt5JEiCJtnuizkBQTzHGexAD9chhispybLxJfQaGiwrpVtFc6lezIbi5uwxdxbq7HIGEJJOceYAoHJEEG8brWtSyLG2XTLckj7ReDfKw9ViBwMjoWYEd0NRaZY6R/apBum1XVLeFJ2ubpvMdFk3KGTACIG8puECjjkV57E/ib4jQMPt6tp5gnlguNMleGAXBiheKNnBPmCORmG4dSrZAKkDZsb/w58MZNUtJNTfUr68u3nhsLWMPNbwklkhODhVBL4Zyo+bFTKSirydkNJt2R2+nSK+p6sqnJjuEVuOh8mM/yIqtr3i3RPDaqNWvkjndd0dsmXmkGcZWNcsRkjnGBnkivKrzxj4gv7vUXtJV0a1vphIY4CHn4jVMGQjC5CA4UZBPDd656HyVv5LewglvdQmw8qxAyyucHDSOemduNzkDjGa8evm9OL5aC5n+B1wwsnrPQ6fxl8Vdfk0HUp/D0CaPHBbSSRzXCrLOxVCR8vKJyO+/8K9Yvde0rTtQtrG91C3hvLpgsFuzjzJMkDIXrjJAz05FeQ23ga71OFl1+ZLe1lQq9pb4ZnB6hnIwBjghR/wKta4bStJvYbbS7c3OoLd29zcQWw825lCsDukYnOSEIDSMBxjNRhcfVbtV1bfTZIdWjFL3Tb8W+C7vWPG2ma5Y6HoFz9jIWaS/mYPcRnkqVELDKMFZSSec9O/SeHZr2Zb43rzyxC5/0aSePYzR7F7bEI+bd1Htk1nafruuXPia0hvrW0s7K4SXbbqxkmBUKVZn4UcZ+UA9R83FdJHd20t1LbRXETzwBWliVwWjDZ2kjqM4OM9cGvbhNSj7uxxyTT1JqKKKoQUUUUAFFFFABRRRQAUUUUAFFFFABRRRQAUUUUAFFFFABRRRQAUUUUAFFFFABRRRQAUUUUAFFFFABRRRQAUUUUAZurWcztFf2ABvbTJRennIfvRn64BB7MFPqDbsb2HUbGK7tWLRSrkblKkeoIPIIPBB5BGKnrFuf+JFfvfLxp1y2bpe0D9PN9lPAb04b+8ah+67nTD97H2f2lt/l/l93U2qzb/S3kuhqGmyC3v1XaSc+XOv9yQDqPRuq9uCQdLr0oqmk1qYwqSpu8Sjp+qJeu8EsbW17CAZrZz8y/7QP8Snsw/Q5AvVT1DTIdRRC5eKeI5huIjtkiPsfT1ByD3BqpHqsunyrba8Ei3MEivV4imJOAD/AHHJ4weD2J6CbuPxGzpxq60t+3+Xf8157mvRRRVnMQX1ol/YzWsuQsqldw6qexHuDz+FQ6TePeWINwAtzCxiuFHQSLwcex4I9iKu1lXX/Et1iO9HFvd7Ybj0V+iP/wCyn6r6VL0dzOXuvm+8fqFpNFcDUtOXdcou2WHOBcIP4fZhkkH8Ohq1a3VvqNoJYTvjbIKsMEEcFSD0IPBBqxWZeWc1tctqGlrulbHn2+cC4A7jsHA6Hv0PYg21E7wfMtv61/r/AIflvifo2nW3w81i6tbCGG4KxsXhiCsx8xBzj73HrmvHtO8O6/p+o6LqV5p82nWd1dtbpLOoWVibeWTiNuQP3eCWA68eo+lbO9g1C3823bIB2sjDDRsOqsOxHpWJ4x8Ly+KYdLjgvxYtY332oyeV5hYeTLEVAJAB/e5ycgY6GqjyrZHoUsbWirc1156/medafHfDxIwguYci1yxlhJyN/Thhj61seHl1O2vdeNpBaXDzXySyCWdogD9nhTjCNxhAfqTTNY0zSPBfiSwAuZ3lu7KUPJPI0sty6vHgKg6nlsKijqeK0fCzTPeay1xazWrG6QiOdQr48mPBIycZ64PPqBVtJ7M1liefWUU/lb8rGoLnUQPn06Mn/pncg/zUUyW/u1jOdFupR0KJJDk/m4H61Nf6pZaXGjX1wsRkbbGnLPI391VGSx9gCaigi1/WCDaWy6PaE8z3q7p3H+zCDhc88ucjuhqWn3/Iz9rBbwX4/wCZyd1Lb2uiyPNotxZSwzMFuhPbwhXDHapIlBJ24U4yeeCeDTRr+sapcQ2vhPT9WdyzLNLM0UiW5A/iDHPpwzISORmrvgXw1ba7b2GseIZZr65vdOg1CLewXCzKdykqBkgbQwG1GyPkHAHJReLdeur0/wBgzxaSbe6jni0+3sJLeKZBDKVV9xIaMiJlMi4H7vcF+UZHG73IlKlLRU0n5cy/U7K40S70exPiHxRqd1eTLJHbR2umTBWLyyCEIJGKKnzyAFlEbADliKoXvxG0zTtFlsNE0eXTZJbJbu6njdALQyfMGkYZzlfm3k87l5JzjXsPDFx4p8B2q61NJZ2NxJFcy6Td2ybFVbxbhhLnksyps6hQGOQetSaDomhaWQfCVhca7OE8tLu6uWNqijIQeYcodqgRho1d9qqGJ60jlSsrHKjVNQt9W83VpTPZavqUd59rt0YGZIwQv2bABcbEX5eJAELDzAd1a+oXvgDw9Pa6po0Fxq12zRxxxWN7JJG7rukRpyz+WXXczZky/cAkV2lz4afXIDH4ouzdwkhvsdtmGFSDkEkHexHHJbBwDtFeZeN/CVz4b1KwlgvJLnT7m7dv3kh3h/KfG9cbWOCR5gwxAAfeQGHnV518NCUo+8tXruv81+K8+m0IxnJJkeq+LfEWur5U12uk2XQWemMUOPRpuGP/AAHYPUGsKwiDv9i0Gwe6YNh1tkASM5GS7nCg85wTuPOAa1tC0m11nW2h1APLBDCJBCHKqzbsfNjqPY8e1dYNQWGdtK8PaYbmW2IjkSMCG3tiVDAO+MDgqcKGb5gcYOa+b/e4tqVWTflsv6/q56Xu0tIqxiWHgiafbJr13x3tLNiq/RpOGP4ba17e+03Ts6X4dsTdSx53W9hGNkZ4zvfhFPOcMdx5IBq6nh+e8HmeIb8ypjJtLUmKAf7xzuf3yQp/u0+21e3MYsPCWnfblhXaptwIrSLqMGXG3gjBCBmHcV2U8OtvwW39f1cylUI00TUtSBOtXv2WFh/x56e5X6hpuGP/AAEJ+NOtr/StNaTTPDVgLueOQ+bbadGuI3OCTI/Cqx3bjuO45zg1eTw1c6iS3iO/aaM9LK0zDCPZjnfJ+JCn+7W7a2lvY2yW1lBHbwRjCRRIFVR6ADgV3woJKzMXO5zq+HtT1S6iutbvvsaxbglrpsjKcMMENNwx/wCAhMepqx4a0az0Xxzqy6bbxW0E2mWn7uJNvzLNdFmPqWMnJPORzW/VDT/+R2vf+wdB/wCjJa7aOkklsYz2udBRRRXaYhRRRQAUUUUAFFFFABRRRQAUUUUAFFFFABRRRQAUUUUAFFFFABRRRQAUUUUAFFFFABRRRQAUUUUAFFFFABRRRQAUjosiMjqGVhhlIyCPSlooAxbR30S8TTrgk2MpxZTH/lmf+eLH/wBBPccdQM7VRXVrDe2r291GJIpBhlP+eD79qzLC9nsb5NI1VmkdlJtbxhxcAdVb0kA5I/iHI/iCwvd06HVJe3TmviW/n5/5/f3tsU2WJJomimRZI3GGVhkMPQinUVZy7GP9jvdHG7St13aDk2Ur/Og/6Zuf/QW49Co4q7Yana6ir/Z3IkjOJIZFKSRn0ZTyP69qt1SvtJtdQkSWVWjuYwRFcwtskjBwSAw7cDIOQccg1FmvhOn2kKn8Xfuv1XX139S7UdxbxXVtJb3CB4pVKup7g1l/a9T0vC6hC2oW2f8Aj6tU/eIPV4+/1TOSfugVpWl5bX9uJ7KeOeInG6NsjPcfX2pqSehnUoyir7rutv68nqU9JuJV8zTr1y91agDzG6zRn7sn44wfcH2rSqhqlpLII7uxC/bbbJjBOBIp+9GT6HH4EA9qsWV5DqFmlxbklGyCCMFSDgqR2IIII9RQtNDmg7Pkf9IrXunSNcfbdNlFveAYbcMxzj+64/kw5HuMgvsdTS7doJo2tryMZkt5DyPdT/EvuPxweKu1WvdPt7+NROpDxndHKh2vGfVSOn9e9FraoHFp3iTGKMzLKY1MiqVVyo3AHqM+nA/KuZvfDmrXXiG+ntdSi0+yuvLZnii8ycsqbTt3fIvReSG6dB1rT+3XWlfLq4863HS9iT7o/wCmij7v+8OPXbWpHIksayROrowyrKcgj600yozT9TM0nw3peiu8tnblrmTPmXU7mWZ+c4LsSccnCjgdgK1aKKZRyWnzQaV4W8M6pPJHBbwWUUE8jnaqRvGvJPQAOqfQZqLQ9Nt9PheHwloz4dvn1LVS4zj5flDfvGAHQAImD8rc1oWvgnTLfS47WZp76aK3FvFd3j+ZJEAu0FAAFQ47oFzjmtXSbt7zTkecAXEZMU6jtIpw34ZGR7EU+hW6OcfQYNKaKTXj/aWmqDlXDCC1YnOfJyVKZxgncUx1xkjr1IKgoQVI4I6YpSMjB5FY/wBmuNEYvp0bXFhnLWa/eh94/Uf7H5ehe4fF6mxXnfxhYppvh3acbtX2N7j7JcHH5qD+Fd9aXkF9brPaSrJG3GR2PcEdiPQ1wPxiVm0rw6yqSE1nLED7o+yXIyfxIH41yYz/AHap/hf5FUv4kfU5fwcf+KmuRnrZjA/4HXW+H0VNW13YAN93G7Y7n7PEM/koH4Vx/hH/AJGxv+vF/wD0YldjoP8AyFtb/wCvmP8A9Ex18vg/hXp+p6VXcdpWjQ+IbU32uyyXyNNMiWbnFuirIyDKDhzhf493PTFdSiLGipGoVVGAqjAArn/A0jy+Gpd5zs1PUI19lW9mVR+AAFdFXvLRWOEKKKKYBVCzG3xrMR/y009M/wDAZGx/6Eav1Rtf+R1b/sH/APtStaXxky2N+iiiu0xCiiigAorhvii+n6hpOn+Gbq505LvWb6GOCO/RZVwjB2byyylhhdvBHLgZGayPA9zo1rf+IfE80uj31015HpcVzo1oIxIqKihFXe5GWbH3sYVTwAMEfev/AF2/zB6W/rv/AJM9QooooAKKKKACiiigAooooAKKKKACiiigAooooAKKKKACiiigAooooAKKKKACiiigAooooAKKKKACiiigAqC9soNQtGt7pNyNggg4KkchgRyCDyCOlT0Ub7jjJxd1uZFnf3FneLpmrktI3FteYAW5HPynHSQAcjoeo7hdeoLyzgv7V7a7jEkT9RkggjkEEcgg8gjkGs6K9n0iZLTVpDJbuwSC+PHJ4CSejejdD7Hgxfl32OlxVbWCtLqu/mv1X3aaLYoooqzlCs670W2uZ2uYGksrxhj7TbEK59NwwVfHowIrRopNJ7lwqSg7xdjJFzq2n8X1uuoQg/6+0XbIBn+KMnnAxypJPZRVNdStY7uXUdKlWaAsP7QtlBEkRwMSFDyGAxuBAJGD2weiqnfaVZakB9rgDOoISVSUkTP911wy/gRUOL6FydKqvfVn3X+X+TRbR1kjV42DKwyrA5BHrS1y00OpeFlH9nyx3WlncSl2SDbsTkfOoOIyT1Ktt+mSNQa4sGP7UtLiy/6aFfMiPvvTIA/3ttNTXXQiFOVRe7q+3X7t/wCvU1azH0g28rT6PN9jkY5aHG6GQ+6dj7rg+uav29zBdwrNazRzxMMq8bhlP4ipKqyZnOF3aS1MxNY+zkJrMP2F84EhbdC/0ft9Gwa0wQQCDkHoRSMqupVwGUjBBGQazDo32bLaNctYntFt3wn/AIAen/AStLVEe/Hz/P8Ay/I1KyZP+Jbr4m6W2o4ST/ZnA+U/8CUbc+qqO9P/ALSu7Q41Kwcp/wA97TMq/iv3x+AI461I72GvadNBFcJNG42sYn+ZG7H2YHB9iKpSVy4VIt2L9FUNJvJLiKS3vMC9tWEc4AwG9HHsw59uR2q/TehTVmZ11pW65a806b7HeH7zquUl9A6/xfXgj1riPiXeXE2hafbX1o9vcR6gjll+aJx5cgyr/iODg/XrXpFcP8V03eFrRuMJqEZI9cq6/wDs1c+KadCal2f5GtJ++r9zhfCcqr40WIn55NPlZRjqFkiB/wDQh+ddto//ACHNW+sP/oFefeHfMXxzbLarH539m3LBpScbRJb5XjpklTnnG3pzXaaTqUVtrepDUR9ldxC3zHKD5SPv9Bkg4zivmsLTXInB30+e/b/hz0Km7NTwF/yLU/8A2F9T/wDS+eukrE8KEHS7krgg390QR3/fNW3XtHCMlkWGJpHztUZOB2pY5ElTdGwYeopJU82F4z0ZSv51BHH50KTxsYpWUZI7n0I71hKU1Oy1Vvn/AFt/mWlFx1LVZ8PHjmDHG7TZs++JY8fzP51ZS4IcR3C+W56HPyt9D/SqkTAePLVSRk6bOQPXEsOf5j866aE1KWhnUi0tTo6KKK9AwCiqOoazYaYyJdz4mk/1cEamSWTnHyooLH3IHHeqXma7quRDGui2zD/WS7Zbk9eiDKJ2IJL9eVFAGlf6jZ6ZbfaNQuYraLIUNI2NzE4Cj1JPAA5JrK8rSPFsi/2jo7Sf2dOk9s1/bBWDdVkQN8y8jHIU8dMYpNGj0JtWk+wTrqGoJAJXvJJPPcI7uuA/IUFo3G1cAbTxxWhakHWtQwc4WIH24NAF+isHxH410Hwqn/E4v0Sdl3JaxgyTOPZBzj3OB715jffGXWNT1ixh0eyj0ywe6hWQz4luJEMihhgHYnBI43exFZTrU6bSk9WbU6FWom4rRHtlFUZ9b0y21e20qe/t01C7z5FqZB5kmFLEheuMKTn2rjdX0/W0+JUGo2Ol6/daXgLcJHrCxwGQAFJUiM4+UcqylQG67Tj5tepj0PQKKwvCF9q+oaLJN4gsriyvBdTL5U6xghA5242MwIAwAc84z71u0AFFFFABRRRQAUUUUAFFFFABRRRQAUUUUAFFFFABRRRQAUUUUAFFFFABRRRQAUUUUAFFFFABTJoY7iF4Z41likUq6OuVYHqCD1p9FA02ndGLi58P/dEt5pYHQZea2+nd09vvD3HTWgniurdJ7aRZYpF3I6HIYeoNSVlT6XNaTvd6IyxyOS0tq5xDOfXj7jf7Q69waizjtsdHNGt8Wku/R+vn5/f1Zq0VSsNVhvmeEq9vdxgGW1mwHT39CP8AaGQfWrtUmnqjCcJQfLJBRRRTJEIDKQwBBGCD3rHy3h48hn0knggZNp/9r/8AQf8Ad+7s0EZGDyKTVyJRvqtzNn0LTLuVrkQCKeTaTcWrmKRscjLoQSPY8Uw2Oq2xH2PVRMmcmO9hD8egZNpH1IamNBPoZ32ETz6fnL2qDLQepjHcdyn/AHz6HTtrmG8t0ntZFlicZV1OQajlT8mbwxVR+7J3t0ev3X/QoDUdSg2i90dnySC9lOsqqOxIbY34AHr+NC+I9K4FxdfY2ZtoW8Rrck+wcDP4da1KRlDqVYBgeoI61VpLZl89J/FC3o/87gjrIgaNgynoVOQaqXmk2N/IJLm3UzAYWZCUkUezrhh+BqF/D2ks7uljHBJIcvJbZhdj6lkwc006LKm37Hq+oW4U/dMizBh6EyKx/XNLXqhOnQmrc33rT8L/AJFO+0jULOZdR0m9kuJ4E2/Z7kB/NTum4YOe4yTz3wTU9nrV3PaxXD6aZoZBkS2cocAe6ttYHsQASDxU32fW45AY9Qs5o8crLaMGJ/3lfH/jtZUra1ol5cX4sLWWxkG64it7hiwfPMgUoMcdRk568EHLTvpsL6vdWhNff/8AJfoa66/puQJrn7KxOAt0jQkn2DgZ/Cub+KLLL4NhdGDL9thIKnIPNbw1e5lVM6FdzQyrnzYpYHjx2/5aAnPsK434irp8fhZ57fSZbK5NzBmQWu3dmRVIJXIJwcDvnGK58Q70Zryf5DhQxCmrJP0f+VzkvDEX/FdW0+emn3MWP954Wz/45+tdvpQB8TaqCMg29tkH6y1wmiR3tt4hie9tNQ0uLyZVSWa3YSOQUPyqyn5eepFdHYakYvE2pJHqESD7LbOZriAsGy0w24BXGNvXvu9q+bw8HTSjLt+p6FSGId/3Uvl/SN7w7paPaXbwTz2ky31wuYXwMeYSuUOVPBHbpWvnV7Y8rbXyeqkwuB9OQT+K1zuh615EV7tvNObdeSN88rJnpyODxWmviYgHzP7Nz28vUCf5xivcVS611ORxq3s4S/8AAX/kXxrMMfF7b3Nme5liJUf8DXK/rUmn3ltcmVbS4inj3b1aJwwweeo98/pWd/wk8Z+5FG/sk4b+QrO1PXtJd4X1DT9gaVVDzKu1mPAG7+9k8d/zrKpKCtPt+XX/AD+RpGnN+7yS18n/AJHXOiyKVdQynqCOtYLBLb4iaVtWeeb+yr7y13DCx+bab+vJOdmOem72rmI9b1DXJprbwVpWopJHIY3urmaQQRkHB4YhTg8EA5H901cn0j+xrC68V+IdauNUljX7GILK6Ecce6VEaPzflIAlUbiuz7uGU7a6Y0VNqcXbz/roYOfLeLXyaaOxuPFWnx3jWVqJ76+C5NpaxF3XOcBycLHnHVyo96qXV5fTZOpX8WlQCWGJrayIluMyyBEDuRhAxYD5VyOSH71w158R4oPC8um6XoQ0vzdJuLmaezmPlWZaGV4nR1QBt/lghiUb94pAbDbc1PF1xd+Krz+3rZdJ0/UL+3uZLi4WSFoYLaQlG2soJRykf70EKMsTjAz1puK99mXLzP3Ud0FW38VXOj6HKNNttPtoLzUrtAst1eO7OscReTdnIibczZY7lAIOSOOSy8Q/FLSiLu5+1aTdWsjqQDbww3ElucR4HMixSFMNhiGVu64F7xJrHw58KX1hdWGiR6pqSIyWiWXMP7tw5LuT5ZZXkDZ+Z1Zs4ya4fxB8RPFPibclzff2ZZsf+PPTnKZHo8vDt+G0HutYV8VSofE9ex0YfB1sR8C07nox13wj8Mb/AFlRqM2o3+oXbXBsLYCWS3BJby+uEXe8j/OV5c4rgNY+JfiPVry8ksJBolvdEbo7Z98xAXaMykDbxz8oBB/iNcrplhLeH7Potk0wVtrGJQsaHvlume+OvtXWaX4D4WXXbnzW6/ZrYlYxwOC/DNzn+79K8qrja1TSPur8T2KOAoUtZe8/w/r+rHIwQyXNzJHYW817dOS0gj+d2b1dycAn1Yj611Ol+BrqVkm1i6+z7WDLBaN8wIOQTJjjt90DB7muitbqzgX7B4dsftRjJBis1URxnvufhQfUZ3exq/B4evr5Q2u3nlow5s7F2VR7NLw7fhs9xXPGk7834vf+v6udU6yty9Oy2/r+rGXDPZaR4s0WbTbOS9nsr2S4uoLQCSdw1rPGpdmOMlnUbnYfWvRdC8R6vqXilrPULW1tbVrR5ooo3MkgKuq5Z+B0boBx6muYtLyxtlOneGbD7W0ZwYrJFWKM998nCqeckZ3exq9a+Gr+7uhe63ftA7QGE2mmyMihSVLK0vDtyo5GzjgivVw8pwST2PGxMYTba3/A9AjuIZnkSKVJGibbIqsCUOM4PocEGpK5fwjY2unalq9tYW8VtAjQ7Y4kCgfJ6Cuor0U7q55klZ2CiiimIKKKKACiiigAooooAKKKKACiiigAooooAKKKKACiiigAooooAKKKKACiiigAooooAKKKKACiiigCpf6ZbaiqeerLLGd0U0bbZIj6qw6fToe+apfb73SPl1hftFqBxfwp93n/AJaIOn+8MjqSFrYoqXHW6No1bLkmrr8vR9Py7obFLHNEskLrJG4yrochh6g06sqXRmt5WuNEmFlKx3PEV3QSnOTlOME/3lwfXPSlh1pYpUt9YhNhcMcKzNuhkP8AsSdM+xw3tS5rfEU6PMr0nfy6/d/l87GpRRRVnOFZlzpssFxJe6OyxXD8ywOSIpz74+63+0Bn1BwK06KTVyZRUlqU7HU4r1miZWguox+8t5Rh19/cf7QyKuVVvtOgv1TzgyyRnMU0Z2vGfUH+nQ981T+3XWl/Lq6+dbjpexJwP+uij7v+8Pl9dtK9tyOZx+L7/wDP+rGtRTY5EljWSJ1dGGVZTkEfWnVRqFFFFAGPJFLocjT2kbS6e5LTW6DLQHu6DuvcqPqPStSGaK6gSa3kSWJwGR0OQw9QakrKmsbjTp3utHUOjktNZE4WQ92Q/wALfoe+DzVblblXxJ4eu9avNPmsdQWwNt5iyOYfMYo4HCgnAOVByQRx0Oa43bpnhD4g6tDLd3ErTaRYOPNdp57h/NvM7EAJJwB8qLj0FekWOoW+oQmS3Y5U7ZI3G142/usp5BqQWtuLw3YgiFyyCMzbBvKAkhd3XAJJx7muepQhO91qxqUos5TwlM81tqXnW01s66hJmOYAMAQrAkAnGQwOOvritHU9asNHjVr+4CO+fLhRTJLKQM4SNQWc+ygmqa+H9cl1fVP+JjDp+n3Vz5yPbJvuHHlxr1cbU5U9mJGOQa2dK8P6boxZ7K3/AH8gAluZWMk0v+9I2WPXoTgdqzVDXyHzmSq+INYyLaFdEtT/AMt7kCW4Yf7MYO1O2CxJ9UrK8M+CdO1bT7XW/EDzatdXcIcrdNuRQw5Xb3UjGVPyZGQorvaxdJvLHSfB+lyXlxDaw/ZoVDSOFBZlGFGepJOAB1reMIx2IbbPNX1jxH4quxo+jX1xo91Zan58bmHyYWjC3flDqTJG0sSKw77GwAMV0Vj4Vn1bwVu8SSzaMs9xLdXOmzNG8EW6+a5Ytj7xIIXJYqBztznOppumrHb3UXhbRE0+G8kM019qKuGkZiTuEZPmHBJwGMeAfl4rRh0W3OoK+tltQuQ26CS5OY1wcjZH91WHrjd7ntjH9y+R/C9vLy/y+7tfR++r9f61/wA/vMLRNG0XTbgS+CtAW6lUMseo3JMcESFiwRHILMoDkL5alcDaWGBWpqPguDxDHG3ii7lvZoWMlv8AZ826Wz4K7owpLZwSPnZh7dq6aiuncyTtqj5v8f8AhXU/C2raVbXd39q08JciyZThUDGIsNn8B+VMhTsOMgLkiqvhPRLLWb69bUkaeO3EeyFmxGSd2SQPvdBwcj2rvvjqP+QAe+64/lHXF/D6VjrGsQ8bVgtnH1LTA/8AoIr57FrlxDt2PpsFLmwyv3Z1aXEjO1loenNO0J8tjjyYIjjOCxHP0QMRnmrcXho3CmTxDem6UZJt4gYrcDnqM5fjruODjO0VZ8N82t5/1+Sf0qbw5oSazolhqviSRtQubiFJmtm4toWKglVjHDAHOC+4+46VrSpJ6oxrVmtGRW+ofaIFt/CmnreogKpIhENpHjPHmYIIyMfIGI9K0IfCsl58/iO+a86/6Jbgw24HPBGdz8HB3HacZ2iujVQihVAVQMAAcAUtdcYRjsccpyluRwQQ2tukFtEkMMY2pHGoVVHoAOlSUUVRBD4fOPEWtIeu23f8CrD+amuirm9B/wCRr1j/AK97X+ctdJXZD4UcNT4mFFFFWQFFFFABRRRQAUUUUAFFFFABRRRQAUUUUAFFFFABRRRQAUUUUAFFFFABRRRQAUUUUAFFFFABRRRQAUUUUAFMlhjuIWinjWWNxhkdQQw9CDT6KBptO6Mg6Vd6fzodyFjA/wCPK5JaL6K33k/UDstPj12GOYQapE+nTE4UzkeXIf8AZkHyn6HDe1alNkjSaNo5UV0YYZWGQR7io5bfCb+2U/4qv57P/g/PXzHUVkjQ2sstod29lznyHBlg+gQkbR7IVFH9rXdkMaxp8iLnH2izzPH1wCQBvXsT8pA9eM0c1viD2Kl/Dd/LZ/d1+TZrUVDa3ltfQCayuI7iI/xxuGH6VNV7mDTi7MzJNJa3kabR5vscjHLQld0Mh75Tsfdce+aI9ZWGRYdWiNhMxwrM26Jz/sydPwOD7Vp02SNJY2jlRXRhhlYZBH0qbW2MuS3wafkOorLGky2Rzo1z5Cf8+soLw/gM5T8Dj2NA1r7NhdZt2sW7yk74SfaQdP8AgQWi/cPaW+PT8vv/AMzUopEdXQMjBlYZBByDS1RoUL7SkuZhdW8jWl6owtxGOSP7rDoy+x/Ag81FDqz28q22tRrazMdqTKcwzHthj90/7J59M9a1KZLFHPC0U6LJG4wyOMhh6EU79yr9GPorJGn3mm86RN5sA/5c7liQP9x+Sv0OR2GKmtdZt7icW0yvaXZ/5d7gbWP+6ejD3Umi3YLdjQrL07w5pumSJNBAZbiNQiT3DmV0XAG1S2di4H3VwPatSikSFMmhSeMxyruU/p7/AFp9FJpSVnsNNp3RUWZ7RhHdndGeFn/o3offpVukIDKQwBB4IPeqvky2nNr+8i/54sen+6f6Hj6Vj71LzX4r/P8AP1L0n5M8z+Og/wBB0M4/5eZRn/gFcH8Pf+Rg1r/r1tP/AEKeu7+Ns6T6PozJkbb1lZWGGUmJiAR+BrifAX/IU1D18mL/ANCevFxklKu2u36n0OBTWHV+/wCh3fho/u9RTsl62PxRG/mTW/4T/wCRP0r/AK9U/lXP+Gv+Yp/1/H/0XHXQeFBt8K2Cdo4tg+ikgfyrrobfccmI3+82KKKQkAEk4A6k1ucwtFNVldAyEMrDIIOQRTqAKOgTn/hPtctsDaunWM2e+Wkulx/5DH511VchoH/JS9e/7BGnf+jr2uvrsh8KOGp8TCiiirICiiigAooooAKKKKACiiigAooooAKKKKACiiigAooooAKKKKACiiigAooooAKKKKACiiigAooooAKKKKACiiigAooooAKKKKAKF3olhdz/AGhoTFc8f6RbuYpDg5ALKQSPY5HtUH2fWbJf9GuodRQfwXY8uT/v4gx/45+Na1FTyrdG6rzS5Zarz1/4K+VjKGvRwZGqWlzp+OryJvj+u9MgD/exWhb3MF3Cs1rNHPE3R43DKfxFS1n3GhabcTtcG1WK4cANPbsYpGx0y6EE/nS95DvRlunH01X3P/NmhR161lf2fqdsSbLVjKpORHewiQAegZdp/E7qX7fqluP9L0kzDON1lOr8epD7D+AzT5u6F7G/wST+dvzt+A5tDt0kMunyS6fIeT9mICMfdDlT9cZ96Tz9Ws/+Pi2jv4x/y0tT5b/98Mcfk34Ug8R6YuRdTtZEMFP22JoASegBcAHqOhNaUcsc0YeF1kQ9GU5BpLlfwswnhp09WnH+vuKVvrdhcTCHzvJnYkCC4UxSHHXCtgke4yKv1FcW0F3C0N3DHPEwwySIGU/gapf2KkPOnXdzZf7Eb70+mx8gD6Yp6mfvrfX+v66mlUN1Z299AYbyFJozztdcjPr9feqe7Wrb7y2l8meSpaBwPodwJ/EUg1tI8C+sryzOcZeHeo/4FHuAH1Ip8we0S30/rvsN/s+/sedMvPNjH/LteEsPosn3h+O6lGtx2526tby6ef8AnpIN0R9/MHA/4Fg+1W7XUrK+z9ivIJ8HBEcgYg+hxVnr1qrpmqmpK+42ORJYw8Tq6MMhlOQadWc+hWYkaS0D2MrHJe0by8n1K/dY/UGm+XrNr/q5rbUE7LMphf8A76UEH/vkUWQ7LoadFZn9s+T/AMf9heW3ONwi81frmPdgfUCrNrqlhfMVs7yCZgcFUkBZT6EdRRZi5WcD8ZrqWz0PSpYRGd17skWRAwdPKc7SD7gH8K4PwbJZTapevbxPbTPCm6PdujwC33T1HXoc/Wu1+Or+X4a0UgZ8zVRH9P8AR5mz/wCOfrXn3gVv+J1dr3Fup/8AHq+bzCkvrPMtG0fRZc74b5/5HceGbeeC810zqVSbUFkhyeGT7NApI9tyt+INdJ4V/wCRXs/91v8A0I1y3haIrqHiLzFxv1JHX3H2S3XP5qR+FdL4ZMr6BE8ZRQJZlEe3AAErDj06VvRlUiveV9tv8n/mzCuk383+ZuUhAIwRkGovOZf9bEy+6/MP05/SnJNHIcI6k9xnkfhXSqsG7X1+5/czm5WjJOk3GlO03h8qI2bdJp8jYib18s/8sz7D5T6AnNW9O1e31IvGgeC6iH761mG2SP6juPRhkHsav1R1HSbbUgjS7op4uYbmFtskR9m/mDkHuDWg733H6Oir441BwoDPp1uGPcgSTYz9Nx/M109cBpeqT6H4wux4hYNC1jEq38cZEYUSScyj+A88n7vTO3IFdJH4z8PTW8k0Gq28ojne32REu7yJyURBlnOOcKDkciuum1yo4asJKTfQ26hu7y2sLZri9uIreFPvSSuFUfiaxL/WNRNnJciOPRrCP793fLvkIyACsSnjOeCzZBxlDWNqPiDwr4V1yKHWLq61HV02F7m4QyG3VnijZ92BHEB5sbMqY+U7iMc1oYnQDV7/AFI7dD09kiP/AC+36tFH35WPh3wQOCEBByGNQXGkPFPZ3l/f3N7dLcxhdzeXEmTztiX5fxbc3+1Xm7eLfFXjrWZ9MsVfT7LNiZra3LLcLDJLbStIXAyv7qSRSCVBAbaGIbHquqzW9v8A2dbGWOOSS6jWGIsAz7eSFHU4AJ+goA1KKKKACiiigAooooAKKKKACiiigAooooAKKKKACiiigAooooAKKKKACiiigAooooAKKKKACiiigAooooAKKKKACiiigAooooAKKKKACiiigAIBBBGQeoNZ0nh/SpJXlFjDFM4w0sA8pz/wJcHv61o0Umk9y4VJw+FtGV/YskSoLLV9Qtwv8LSLMG46EyKzH88+9OEOuRSEreWVxH2WS2aNvxYOR6fw1p0UuVdDT2838Vn6pfnuZa3msRqftOlQuQePst3uyP8Agapj6Z/GhNak8vddaRqVse6tGkhH/ftm/wAmtSijlfcPaQe8F8r/AObMKbUNA1FA1/b8A5BvbCSMrjv+8QEfWoIZ/Dkkzrp+vpFKpAaOHUs7T2+RmIH5V0lNeKOUYlRXHowzS5X5EOOGbu4P71/kZSRX3lgWOuxzt2NzAkmf+/ZSpWfW48YgsLgZ5PnPEcew2t/On3Gg6RdqVu9KsZ1bqJbZGB/MVHH4a0WFAlvpdrAq/dEMQQL9NuMUrS/pi9lQtpKSfpf83+grahfxY8zRriTnnyJomA9/mZagu57G7TGp6NcSAdpbPzcf987qsHQdPP3YpE/3J5F/k1Mk8O2EiFSbxPeO/nRh+KuDT99bf1+AKFNO/O//AAFf5o8z+K6WTaDpI0i2udx1NQ0VzHMiqvkTcqkmAGzgfKM4J7ZrkvDdnfadqby3luunCeA7DMwLHaw6puyud3GcHg8V7mfCemsQWn1YlTkE6xd8Hp/z1965/X/hwdV1ixnstXu7O3iikScy3M9zK24rjYZJCF6dww6fL0I5a1GpUfNpe1v6ujvw+IjSjye0dr3+D/7c5LRtUW3utSb7Zp5LzKcyz+WH/dqMr144x35zW54Y1nydBRdtuwE0/wDy9Kpz5z54bHHoe4571n3On6N4c8Qahpzz3MrnynhiE0kk85MYBwi8ucrngcZ7AVe8EaZaXvhlpr2z/e/2jfoUnHKhbuZQpGcZAAH4VlFSi2nFGsnGdnz7/wB3/wC3Zqv4otocedAVBONwurfH/ozP6VHJ4r0hh+/2495Im/kxpNRs/CumzRte6dYNdNzDEtoss8mP7iAFmx7Diq88eqzXCW1jo39lLKu6MR26S3LLnBbB/cwjkEF2YnkbMitOWVRW5VYzcqUNXJv5W/ViHxr4eDERXj5U4KxOGwfTAJ5qp/wm8k2tx6ZY2GoSl1ySbYtLg8BlQDG3/adlAx3pI5NA0fXZLbXtajs7+OMSXf2eV5ZYEK52zXbAeWGyu1IxESSuMg0mofEay0qHU9L8B6RF9tsVnlna8RoY/kiaUuQPnkLbSMnBJO7JHWlhIL/gXX5MiWKg17sX82n+heWwuNKsbm98SarJpMVxCwnuZmE115S/MQduYYQBkEIrZyPmzUGmaz4X8FW6w+GtARhJN5c1zZuJdiPcPBC8kjYZt8iN8q7toDHoOaB0nxD46vNQW8jDWKXNwba5ug/kkFcwqIWVf9WQoLLuDMCwb03rXSNCtNYaeKKbXNaR5GnisyfJV2mklHmAt5ashnfbvO7BJAOK6oxUVZHC5SZzXh7xnqfxG8F6xp9y9mNYuHSSwtGH2dXQbC6hstkKyvz94AglVyBV/wAQ+EodR1G9ufEGpxz61qVn9jOn2Vt5/kW8gjWRVwA5GVJWRtqozliK19Z+HX/CTv8Aar97bSLmNAsK6bHnBX7nmOcbwBjGFQrztbvWRpWv6n8N5hpfivThJp8zs0epWcO4uc/xbR+8Y56H94ccCTlqok7dIdb1GMISmhWmMLHDtlucYGOcGOMjkYAk4xgir1ho1hpsjzWsH+kSDElzKxklkHYM7EsQOwzgdqmsL+01SyjvNOuI7m3lGUliYMpqxQAUUUUAFFFFABRRRQAUUUUAFFFFABRRRQAUUUUAFFFFABRRRQAUUUUAFFFFABRRRQAUUUUAFFFFABRRRQAUUUUAFFFFABRRRQAUUUUAFFFFABRRRQAUUUUAFFFFABRRRQAUUUUAFFFFABRRRQBClnbR3kl2lvEtzKoWSYIN7gdAT1IHpXH6Z4S1yI3drPqcNjp7395cqbRN1xKJrh5hlmG2PAcqQFYnqGXpXbUUmk9xptbGdpOgaboqudPtVSWQASzuxeWXHTfI2Wb8TTx/yML/APXqv/oZq9WRfpqq6wJNLtrdlkgCNPcSELEQxP3QMseenyjj7wpiMnxD4VfWPEsGoO0UUFsLWQvJyCYrjzmGPoq89qztC0bRtMup7vwvZXHiDUJ2LNqV3MBD824j97t2kfMQTGrnnLZJJrpV8ORXUqz69cSarKp3LHKNtuh4+7CPlOCMgvuYdmrZAwMCgDGGi3V/htev2nXIP2S1zDAPY4O9/Q7m2nH3RWpbW0FnbR29nDHBBEoWOKJAqoPQAcAVLRQAVDeWVtqNlNZ39vFc206FJYZkDo6nqCDwRU1FAHl2q+Ate8OavJf/AA+uJVt5szTWZuRuaVcbVw/yuhAwdzBwMANjgej6Xc3N5pVtcX1k9jcyxK0tq7qxibHK5UkHB7irVFABRRRQAUUUUAFFFFABRRRQAUUUUAFFFFABRRRQAUUUUAFFFFABRRRQAUUUUAFFFFABRRRQAUUUUAFFFFABRRRQAUUUUAFFFFABRRRQAUUUUAFFFFABRRRQAUUUUAFFFFABRRRQAUUUUAFFFFABRRRQAUUUUAFFFFABRRRQAUUUUAFFFFABRRRQAUUUUAf/2Q==)"
      ],
      "metadata": {
        "id": "1KO_7wxJltEy"
      }
    },
    {
      "cell_type": "code",
      "execution_count": null,
      "metadata": {
        "id": "4S1RQfGMJ3Ni",
        "colab": {
          "base_uri": "https://localhost:8080/"
        },
        "outputId": "1b6b5484-0ab6-45b8-9c1a-90365c73472f"
      },
      "outputs": [
        {
          "output_type": "stream",
          "name": "stdout",
          "text": [
            "Downloading data from https://storage.googleapis.com/tensorflow/keras-applications/densenet/densenet121_weights_tf_dim_ordering_tf_kernels_notop.h5\n",
            "29089792/29084464 [==============================] - 0s 0us/step\n",
            "29097984/29084464 [==============================] - 0s 0us/step\n",
            "Model: \"densenet121\"\n",
            "__________________________________________________________________________________________________\n",
            " Layer (type)                   Output Shape         Param #     Connected to                     \n",
            "==================================================================================================\n",
            " input_1 (InputLayer)           [(None, 224, 224, 3  0           []                               \n",
            "                                )]                                                                \n",
            "                                                                                                  \n",
            " zero_padding2d (ZeroPadding2D)  (None, 230, 230, 3)  0          ['input_1[0][0]']                \n",
            "                                                                                                  \n",
            " conv1/conv (Conv2D)            (None, 112, 112, 64  9408        ['zero_padding2d[0][0]']         \n",
            "                                )                                                                 \n",
            "                                                                                                  \n",
            " conv1/bn (BatchNormalization)  (None, 112, 112, 64  256         ['conv1/conv[0][0]']             \n",
            "                                )                                                                 \n",
            "                                                                                                  \n",
            " conv1/relu (Activation)        (None, 112, 112, 64  0           ['conv1/bn[0][0]']               \n",
            "                                )                                                                 \n",
            "                                                                                                  \n",
            " zero_padding2d_1 (ZeroPadding2  (None, 114, 114, 64  0          ['conv1/relu[0][0]']             \n",
            " D)                             )                                                                 \n",
            "                                                                                                  \n",
            " pool1 (MaxPooling2D)           (None, 56, 56, 64)   0           ['zero_padding2d_1[0][0]']       \n",
            "                                                                                                  \n",
            " conv2_block1_0_bn (BatchNormal  (None, 56, 56, 64)  256         ['pool1[0][0]']                  \n",
            " ization)                                                                                         \n",
            "                                                                                                  \n",
            " conv2_block1_0_relu (Activatio  (None, 56, 56, 64)  0           ['conv2_block1_0_bn[0][0]']      \n",
            " n)                                                                                               \n",
            "                                                                                                  \n",
            " conv2_block1_1_conv (Conv2D)   (None, 56, 56, 128)  8192        ['conv2_block1_0_relu[0][0]']    \n",
            "                                                                                                  \n",
            " conv2_block1_1_bn (BatchNormal  (None, 56, 56, 128)  512        ['conv2_block1_1_conv[0][0]']    \n",
            " ization)                                                                                         \n",
            "                                                                                                  \n",
            " conv2_block1_1_relu (Activatio  (None, 56, 56, 128)  0          ['conv2_block1_1_bn[0][0]']      \n",
            " n)                                                                                               \n",
            "                                                                                                  \n",
            " conv2_block1_2_conv (Conv2D)   (None, 56, 56, 32)   36864       ['conv2_block1_1_relu[0][0]']    \n",
            "                                                                                                  \n",
            " conv2_block1_concat (Concatena  (None, 56, 56, 96)  0           ['pool1[0][0]',                  \n",
            " te)                                                              'conv2_block1_2_conv[0][0]']    \n",
            "                                                                                                  \n",
            " conv2_block2_0_bn (BatchNormal  (None, 56, 56, 96)  384         ['conv2_block1_concat[0][0]']    \n",
            " ization)                                                                                         \n",
            "                                                                                                  \n",
            " conv2_block2_0_relu (Activatio  (None, 56, 56, 96)  0           ['conv2_block2_0_bn[0][0]']      \n",
            " n)                                                                                               \n",
            "                                                                                                  \n",
            " conv2_block2_1_conv (Conv2D)   (None, 56, 56, 128)  12288       ['conv2_block2_0_relu[0][0]']    \n",
            "                                                                                                  \n",
            " conv2_block2_1_bn (BatchNormal  (None, 56, 56, 128)  512        ['conv2_block2_1_conv[0][0]']    \n",
            " ization)                                                                                         \n",
            "                                                                                                  \n",
            " conv2_block2_1_relu (Activatio  (None, 56, 56, 128)  0          ['conv2_block2_1_bn[0][0]']      \n",
            " n)                                                                                               \n",
            "                                                                                                  \n",
            " conv2_block2_2_conv (Conv2D)   (None, 56, 56, 32)   36864       ['conv2_block2_1_relu[0][0]']    \n",
            "                                                                                                  \n",
            " conv2_block2_concat (Concatena  (None, 56, 56, 128)  0          ['conv2_block1_concat[0][0]',    \n",
            " te)                                                              'conv2_block2_2_conv[0][0]']    \n",
            "                                                                                                  \n",
            " conv2_block3_0_bn (BatchNormal  (None, 56, 56, 128)  512        ['conv2_block2_concat[0][0]']    \n",
            " ization)                                                                                         \n",
            "                                                                                                  \n",
            " conv2_block3_0_relu (Activatio  (None, 56, 56, 128)  0          ['conv2_block3_0_bn[0][0]']      \n",
            " n)                                                                                               \n",
            "                                                                                                  \n",
            " conv2_block3_1_conv (Conv2D)   (None, 56, 56, 128)  16384       ['conv2_block3_0_relu[0][0]']    \n",
            "                                                                                                  \n",
            " conv2_block3_1_bn (BatchNormal  (None, 56, 56, 128)  512        ['conv2_block3_1_conv[0][0]']    \n",
            " ization)                                                                                         \n",
            "                                                                                                  \n",
            " conv2_block3_1_relu (Activatio  (None, 56, 56, 128)  0          ['conv2_block3_1_bn[0][0]']      \n",
            " n)                                                                                               \n",
            "                                                                                                  \n",
            " conv2_block3_2_conv (Conv2D)   (None, 56, 56, 32)   36864       ['conv2_block3_1_relu[0][0]']    \n",
            "                                                                                                  \n",
            " conv2_block3_concat (Concatena  (None, 56, 56, 160)  0          ['conv2_block2_concat[0][0]',    \n",
            " te)                                                              'conv2_block3_2_conv[0][0]']    \n",
            "                                                                                                  \n",
            " conv2_block4_0_bn (BatchNormal  (None, 56, 56, 160)  640        ['conv2_block3_concat[0][0]']    \n",
            " ization)                                                                                         \n",
            "                                                                                                  \n",
            " conv2_block4_0_relu (Activatio  (None, 56, 56, 160)  0          ['conv2_block4_0_bn[0][0]']      \n",
            " n)                                                                                               \n",
            "                                                                                                  \n",
            " conv2_block4_1_conv (Conv2D)   (None, 56, 56, 128)  20480       ['conv2_block4_0_relu[0][0]']    \n",
            "                                                                                                  \n",
            " conv2_block4_1_bn (BatchNormal  (None, 56, 56, 128)  512        ['conv2_block4_1_conv[0][0]']    \n",
            " ization)                                                                                         \n",
            "                                                                                                  \n",
            " conv2_block4_1_relu (Activatio  (None, 56, 56, 128)  0          ['conv2_block4_1_bn[0][0]']      \n",
            " n)                                                                                               \n",
            "                                                                                                  \n",
            " conv2_block4_2_conv (Conv2D)   (None, 56, 56, 32)   36864       ['conv2_block4_1_relu[0][0]']    \n",
            "                                                                                                  \n",
            " conv2_block4_concat (Concatena  (None, 56, 56, 192)  0          ['conv2_block3_concat[0][0]',    \n",
            " te)                                                              'conv2_block4_2_conv[0][0]']    \n",
            "                                                                                                  \n",
            " conv2_block5_0_bn (BatchNormal  (None, 56, 56, 192)  768        ['conv2_block4_concat[0][0]']    \n",
            " ization)                                                                                         \n",
            "                                                                                                  \n",
            " conv2_block5_0_relu (Activatio  (None, 56, 56, 192)  0          ['conv2_block5_0_bn[0][0]']      \n",
            " n)                                                                                               \n",
            "                                                                                                  \n",
            " conv2_block5_1_conv (Conv2D)   (None, 56, 56, 128)  24576       ['conv2_block5_0_relu[0][0]']    \n",
            "                                                                                                  \n",
            " conv2_block5_1_bn (BatchNormal  (None, 56, 56, 128)  512        ['conv2_block5_1_conv[0][0]']    \n",
            " ization)                                                                                         \n",
            "                                                                                                  \n",
            " conv2_block5_1_relu (Activatio  (None, 56, 56, 128)  0          ['conv2_block5_1_bn[0][0]']      \n",
            " n)                                                                                               \n",
            "                                                                                                  \n",
            " conv2_block5_2_conv (Conv2D)   (None, 56, 56, 32)   36864       ['conv2_block5_1_relu[0][0]']    \n",
            "                                                                                                  \n",
            " conv2_block5_concat (Concatena  (None, 56, 56, 224)  0          ['conv2_block4_concat[0][0]',    \n",
            " te)                                                              'conv2_block5_2_conv[0][0]']    \n",
            "                                                                                                  \n",
            " conv2_block6_0_bn (BatchNormal  (None, 56, 56, 224)  896        ['conv2_block5_concat[0][0]']    \n",
            " ization)                                                                                         \n",
            "                                                                                                  \n",
            " conv2_block6_0_relu (Activatio  (None, 56, 56, 224)  0          ['conv2_block6_0_bn[0][0]']      \n",
            " n)                                                                                               \n",
            "                                                                                                  \n",
            " conv2_block6_1_conv (Conv2D)   (None, 56, 56, 128)  28672       ['conv2_block6_0_relu[0][0]']    \n",
            "                                                                                                  \n",
            " conv2_block6_1_bn (BatchNormal  (None, 56, 56, 128)  512        ['conv2_block6_1_conv[0][0]']    \n",
            " ization)                                                                                         \n",
            "                                                                                                  \n",
            " conv2_block6_1_relu (Activatio  (None, 56, 56, 128)  0          ['conv2_block6_1_bn[0][0]']      \n",
            " n)                                                                                               \n",
            "                                                                                                  \n",
            " conv2_block6_2_conv (Conv2D)   (None, 56, 56, 32)   36864       ['conv2_block6_1_relu[0][0]']    \n",
            "                                                                                                  \n",
            " conv2_block6_concat (Concatena  (None, 56, 56, 256)  0          ['conv2_block5_concat[0][0]',    \n",
            " te)                                                              'conv2_block6_2_conv[0][0]']    \n",
            "                                                                                                  \n",
            " pool2_bn (BatchNormalization)  (None, 56, 56, 256)  1024        ['conv2_block6_concat[0][0]']    \n",
            "                                                                                                  \n",
            " pool2_relu (Activation)        (None, 56, 56, 256)  0           ['pool2_bn[0][0]']               \n",
            "                                                                                                  \n",
            " pool2_conv (Conv2D)            (None, 56, 56, 128)  32768       ['pool2_relu[0][0]']             \n",
            "                                                                                                  \n",
            " pool2_pool (AveragePooling2D)  (None, 28, 28, 128)  0           ['pool2_conv[0][0]']             \n",
            "                                                                                                  \n",
            " conv3_block1_0_bn (BatchNormal  (None, 28, 28, 128)  512        ['pool2_pool[0][0]']             \n",
            " ization)                                                                                         \n",
            "                                                                                                  \n",
            " conv3_block1_0_relu (Activatio  (None, 28, 28, 128)  0          ['conv3_block1_0_bn[0][0]']      \n",
            " n)                                                                                               \n",
            "                                                                                                  \n",
            " conv3_block1_1_conv (Conv2D)   (None, 28, 28, 128)  16384       ['conv3_block1_0_relu[0][0]']    \n",
            "                                                                                                  \n",
            " conv3_block1_1_bn (BatchNormal  (None, 28, 28, 128)  512        ['conv3_block1_1_conv[0][0]']    \n",
            " ization)                                                                                         \n",
            "                                                                                                  \n",
            " conv3_block1_1_relu (Activatio  (None, 28, 28, 128)  0          ['conv3_block1_1_bn[0][0]']      \n",
            " n)                                                                                               \n",
            "                                                                                                  \n",
            " conv3_block1_2_conv (Conv2D)   (None, 28, 28, 32)   36864       ['conv3_block1_1_relu[0][0]']    \n",
            "                                                                                                  \n",
            " conv3_block1_concat (Concatena  (None, 28, 28, 160)  0          ['pool2_pool[0][0]',             \n",
            " te)                                                              'conv3_block1_2_conv[0][0]']    \n",
            "                                                                                                  \n",
            " conv3_block2_0_bn (BatchNormal  (None, 28, 28, 160)  640        ['conv3_block1_concat[0][0]']    \n",
            " ization)                                                                                         \n",
            "                                                                                                  \n",
            " conv3_block2_0_relu (Activatio  (None, 28, 28, 160)  0          ['conv3_block2_0_bn[0][0]']      \n",
            " n)                                                                                               \n",
            "                                                                                                  \n",
            " conv3_block2_1_conv (Conv2D)   (None, 28, 28, 128)  20480       ['conv3_block2_0_relu[0][0]']    \n",
            "                                                                                                  \n",
            " conv3_block2_1_bn (BatchNormal  (None, 28, 28, 128)  512        ['conv3_block2_1_conv[0][0]']    \n",
            " ization)                                                                                         \n",
            "                                                                                                  \n",
            " conv3_block2_1_relu (Activatio  (None, 28, 28, 128)  0          ['conv3_block2_1_bn[0][0]']      \n",
            " n)                                                                                               \n",
            "                                                                                                  \n",
            " conv3_block2_2_conv (Conv2D)   (None, 28, 28, 32)   36864       ['conv3_block2_1_relu[0][0]']    \n",
            "                                                                                                  \n",
            " conv3_block2_concat (Concatena  (None, 28, 28, 192)  0          ['conv3_block1_concat[0][0]',    \n",
            " te)                                                              'conv3_block2_2_conv[0][0]']    \n",
            "                                                                                                  \n",
            " conv3_block3_0_bn (BatchNormal  (None, 28, 28, 192)  768        ['conv3_block2_concat[0][0]']    \n",
            " ization)                                                                                         \n",
            "                                                                                                  \n",
            " conv3_block3_0_relu (Activatio  (None, 28, 28, 192)  0          ['conv3_block3_0_bn[0][0]']      \n",
            " n)                                                                                               \n",
            "                                                                                                  \n",
            " conv3_block3_1_conv (Conv2D)   (None, 28, 28, 128)  24576       ['conv3_block3_0_relu[0][0]']    \n",
            "                                                                                                  \n",
            " conv3_block3_1_bn (BatchNormal  (None, 28, 28, 128)  512        ['conv3_block3_1_conv[0][0]']    \n",
            " ization)                                                                                         \n",
            "                                                                                                  \n",
            " conv3_block3_1_relu (Activatio  (None, 28, 28, 128)  0          ['conv3_block3_1_bn[0][0]']      \n",
            " n)                                                                                               \n",
            "                                                                                                  \n",
            " conv3_block3_2_conv (Conv2D)   (None, 28, 28, 32)   36864       ['conv3_block3_1_relu[0][0]']    \n",
            "                                                                                                  \n",
            " conv3_block3_concat (Concatena  (None, 28, 28, 224)  0          ['conv3_block2_concat[0][0]',    \n",
            " te)                                                              'conv3_block3_2_conv[0][0]']    \n",
            "                                                                                                  \n",
            " conv3_block4_0_bn (BatchNormal  (None, 28, 28, 224)  896        ['conv3_block3_concat[0][0]']    \n",
            " ization)                                                                                         \n",
            "                                                                                                  \n",
            " conv3_block4_0_relu (Activatio  (None, 28, 28, 224)  0          ['conv3_block4_0_bn[0][0]']      \n",
            " n)                                                                                               \n",
            "                                                                                                  \n",
            " conv3_block4_1_conv (Conv2D)   (None, 28, 28, 128)  28672       ['conv3_block4_0_relu[0][0]']    \n",
            "                                                                                                  \n",
            " conv3_block4_1_bn (BatchNormal  (None, 28, 28, 128)  512        ['conv3_block4_1_conv[0][0]']    \n",
            " ization)                                                                                         \n",
            "                                                                                                  \n",
            " conv3_block4_1_relu (Activatio  (None, 28, 28, 128)  0          ['conv3_block4_1_bn[0][0]']      \n",
            " n)                                                                                               \n",
            "                                                                                                  \n",
            " conv3_block4_2_conv (Conv2D)   (None, 28, 28, 32)   36864       ['conv3_block4_1_relu[0][0]']    \n",
            "                                                                                                  \n",
            " conv3_block4_concat (Concatena  (None, 28, 28, 256)  0          ['conv3_block3_concat[0][0]',    \n",
            " te)                                                              'conv3_block4_2_conv[0][0]']    \n",
            "                                                                                                  \n",
            " conv3_block5_0_bn (BatchNormal  (None, 28, 28, 256)  1024       ['conv3_block4_concat[0][0]']    \n",
            " ization)                                                                                         \n",
            "                                                                                                  \n",
            " conv3_block5_0_relu (Activatio  (None, 28, 28, 256)  0          ['conv3_block5_0_bn[0][0]']      \n",
            " n)                                                                                               \n",
            "                                                                                                  \n",
            " conv3_block5_1_conv (Conv2D)   (None, 28, 28, 128)  32768       ['conv3_block5_0_relu[0][0]']    \n",
            "                                                                                                  \n",
            " conv3_block5_1_bn (BatchNormal  (None, 28, 28, 128)  512        ['conv3_block5_1_conv[0][0]']    \n",
            " ization)                                                                                         \n",
            "                                                                                                  \n",
            " conv3_block5_1_relu (Activatio  (None, 28, 28, 128)  0          ['conv3_block5_1_bn[0][0]']      \n",
            " n)                                                                                               \n",
            "                                                                                                  \n",
            " conv3_block5_2_conv (Conv2D)   (None, 28, 28, 32)   36864       ['conv3_block5_1_relu[0][0]']    \n",
            "                                                                                                  \n",
            " conv3_block5_concat (Concatena  (None, 28, 28, 288)  0          ['conv3_block4_concat[0][0]',    \n",
            " te)                                                              'conv3_block5_2_conv[0][0]']    \n",
            "                                                                                                  \n",
            " conv3_block6_0_bn (BatchNormal  (None, 28, 28, 288)  1152       ['conv3_block5_concat[0][0]']    \n",
            " ization)                                                                                         \n",
            "                                                                                                  \n",
            " conv3_block6_0_relu (Activatio  (None, 28, 28, 288)  0          ['conv3_block6_0_bn[0][0]']      \n",
            " n)                                                                                               \n",
            "                                                                                                  \n",
            " conv3_block6_1_conv (Conv2D)   (None, 28, 28, 128)  36864       ['conv3_block6_0_relu[0][0]']    \n",
            "                                                                                                  \n",
            " conv3_block6_1_bn (BatchNormal  (None, 28, 28, 128)  512        ['conv3_block6_1_conv[0][0]']    \n",
            " ization)                                                                                         \n",
            "                                                                                                  \n",
            " conv3_block6_1_relu (Activatio  (None, 28, 28, 128)  0          ['conv3_block6_1_bn[0][0]']      \n",
            " n)                                                                                               \n",
            "                                                                                                  \n",
            " conv3_block6_2_conv (Conv2D)   (None, 28, 28, 32)   36864       ['conv3_block6_1_relu[0][0]']    \n",
            "                                                                                                  \n",
            " conv3_block6_concat (Concatena  (None, 28, 28, 320)  0          ['conv3_block5_concat[0][0]',    \n",
            " te)                                                              'conv3_block6_2_conv[0][0]']    \n",
            "                                                                                                  \n",
            " conv3_block7_0_bn (BatchNormal  (None, 28, 28, 320)  1280       ['conv3_block6_concat[0][0]']    \n",
            " ization)                                                                                         \n",
            "                                                                                                  \n",
            " conv3_block7_0_relu (Activatio  (None, 28, 28, 320)  0          ['conv3_block7_0_bn[0][0]']      \n",
            " n)                                                                                               \n",
            "                                                                                                  \n",
            " conv3_block7_1_conv (Conv2D)   (None, 28, 28, 128)  40960       ['conv3_block7_0_relu[0][0]']    \n",
            "                                                                                                  \n",
            " conv3_block7_1_bn (BatchNormal  (None, 28, 28, 128)  512        ['conv3_block7_1_conv[0][0]']    \n",
            " ization)                                                                                         \n",
            "                                                                                                  \n",
            " conv3_block7_1_relu (Activatio  (None, 28, 28, 128)  0          ['conv3_block7_1_bn[0][0]']      \n",
            " n)                                                                                               \n",
            "                                                                                                  \n",
            " conv3_block7_2_conv (Conv2D)   (None, 28, 28, 32)   36864       ['conv3_block7_1_relu[0][0]']    \n",
            "                                                                                                  \n",
            " conv3_block7_concat (Concatena  (None, 28, 28, 352)  0          ['conv3_block6_concat[0][0]',    \n",
            " te)                                                              'conv3_block7_2_conv[0][0]']    \n",
            "                                                                                                  \n",
            " conv3_block8_0_bn (BatchNormal  (None, 28, 28, 352)  1408       ['conv3_block7_concat[0][0]']    \n",
            " ization)                                                                                         \n",
            "                                                                                                  \n",
            " conv3_block8_0_relu (Activatio  (None, 28, 28, 352)  0          ['conv3_block8_0_bn[0][0]']      \n",
            " n)                                                                                               \n",
            "                                                                                                  \n",
            " conv3_block8_1_conv (Conv2D)   (None, 28, 28, 128)  45056       ['conv3_block8_0_relu[0][0]']    \n",
            "                                                                                                  \n",
            " conv3_block8_1_bn (BatchNormal  (None, 28, 28, 128)  512        ['conv3_block8_1_conv[0][0]']    \n",
            " ization)                                                                                         \n",
            "                                                                                                  \n",
            " conv3_block8_1_relu (Activatio  (None, 28, 28, 128)  0          ['conv3_block8_1_bn[0][0]']      \n",
            " n)                                                                                               \n",
            "                                                                                                  \n",
            " conv3_block8_2_conv (Conv2D)   (None, 28, 28, 32)   36864       ['conv3_block8_1_relu[0][0]']    \n",
            "                                                                                                  \n",
            " conv3_block8_concat (Concatena  (None, 28, 28, 384)  0          ['conv3_block7_concat[0][0]',    \n",
            " te)                                                              'conv3_block8_2_conv[0][0]']    \n",
            "                                                                                                  \n",
            " conv3_block9_0_bn (BatchNormal  (None, 28, 28, 384)  1536       ['conv3_block8_concat[0][0]']    \n",
            " ization)                                                                                         \n",
            "                                                                                                  \n",
            " conv3_block9_0_relu (Activatio  (None, 28, 28, 384)  0          ['conv3_block9_0_bn[0][0]']      \n",
            " n)                                                                                               \n",
            "                                                                                                  \n",
            " conv3_block9_1_conv (Conv2D)   (None, 28, 28, 128)  49152       ['conv3_block9_0_relu[0][0]']    \n",
            "                                                                                                  \n",
            " conv3_block9_1_bn (BatchNormal  (None, 28, 28, 128)  512        ['conv3_block9_1_conv[0][0]']    \n",
            " ization)                                                                                         \n",
            "                                                                                                  \n",
            " conv3_block9_1_relu (Activatio  (None, 28, 28, 128)  0          ['conv3_block9_1_bn[0][0]']      \n",
            " n)                                                                                               \n",
            "                                                                                                  \n",
            " conv3_block9_2_conv (Conv2D)   (None, 28, 28, 32)   36864       ['conv3_block9_1_relu[0][0]']    \n",
            "                                                                                                  \n",
            " conv3_block9_concat (Concatena  (None, 28, 28, 416)  0          ['conv3_block8_concat[0][0]',    \n",
            " te)                                                              'conv3_block9_2_conv[0][0]']    \n",
            "                                                                                                  \n",
            " conv3_block10_0_bn (BatchNorma  (None, 28, 28, 416)  1664       ['conv3_block9_concat[0][0]']    \n",
            " lization)                                                                                        \n",
            "                                                                                                  \n",
            " conv3_block10_0_relu (Activati  (None, 28, 28, 416)  0          ['conv3_block10_0_bn[0][0]']     \n",
            " on)                                                                                              \n",
            "                                                                                                  \n",
            " conv3_block10_1_conv (Conv2D)  (None, 28, 28, 128)  53248       ['conv3_block10_0_relu[0][0]']   \n",
            "                                                                                                  \n",
            " conv3_block10_1_bn (BatchNorma  (None, 28, 28, 128)  512        ['conv3_block10_1_conv[0][0]']   \n",
            " lization)                                                                                        \n",
            "                                                                                                  \n",
            " conv3_block10_1_relu (Activati  (None, 28, 28, 128)  0          ['conv3_block10_1_bn[0][0]']     \n",
            " on)                                                                                              \n",
            "                                                                                                  \n",
            " conv3_block10_2_conv (Conv2D)  (None, 28, 28, 32)   36864       ['conv3_block10_1_relu[0][0]']   \n",
            "                                                                                                  \n",
            " conv3_block10_concat (Concaten  (None, 28, 28, 448)  0          ['conv3_block9_concat[0][0]',    \n",
            " ate)                                                             'conv3_block10_2_conv[0][0]']   \n",
            "                                                                                                  \n",
            " conv3_block11_0_bn (BatchNorma  (None, 28, 28, 448)  1792       ['conv3_block10_concat[0][0]']   \n",
            " lization)                                                                                        \n",
            "                                                                                                  \n",
            " conv3_block11_0_relu (Activati  (None, 28, 28, 448)  0          ['conv3_block11_0_bn[0][0]']     \n",
            " on)                                                                                              \n",
            "                                                                                                  \n",
            " conv3_block11_1_conv (Conv2D)  (None, 28, 28, 128)  57344       ['conv3_block11_0_relu[0][0]']   \n",
            "                                                                                                  \n",
            " conv3_block11_1_bn (BatchNorma  (None, 28, 28, 128)  512        ['conv3_block11_1_conv[0][0]']   \n",
            " lization)                                                                                        \n",
            "                                                                                                  \n",
            " conv3_block11_1_relu (Activati  (None, 28, 28, 128)  0          ['conv3_block11_1_bn[0][0]']     \n",
            " on)                                                                                              \n",
            "                                                                                                  \n",
            " conv3_block11_2_conv (Conv2D)  (None, 28, 28, 32)   36864       ['conv3_block11_1_relu[0][0]']   \n",
            "                                                                                                  \n",
            " conv3_block11_concat (Concaten  (None, 28, 28, 480)  0          ['conv3_block10_concat[0][0]',   \n",
            " ate)                                                             'conv3_block11_2_conv[0][0]']   \n",
            "                                                                                                  \n",
            " conv3_block12_0_bn (BatchNorma  (None, 28, 28, 480)  1920       ['conv3_block11_concat[0][0]']   \n",
            " lization)                                                                                        \n",
            "                                                                                                  \n",
            " conv3_block12_0_relu (Activati  (None, 28, 28, 480)  0          ['conv3_block12_0_bn[0][0]']     \n",
            " on)                                                                                              \n",
            "                                                                                                  \n",
            " conv3_block12_1_conv (Conv2D)  (None, 28, 28, 128)  61440       ['conv3_block12_0_relu[0][0]']   \n",
            "                                                                                                  \n",
            " conv3_block12_1_bn (BatchNorma  (None, 28, 28, 128)  512        ['conv3_block12_1_conv[0][0]']   \n",
            " lization)                                                                                        \n",
            "                                                                                                  \n",
            " conv3_block12_1_relu (Activati  (None, 28, 28, 128)  0          ['conv3_block12_1_bn[0][0]']     \n",
            " on)                                                                                              \n",
            "                                                                                                  \n",
            " conv3_block12_2_conv (Conv2D)  (None, 28, 28, 32)   36864       ['conv3_block12_1_relu[0][0]']   \n",
            "                                                                                                  \n",
            " conv3_block12_concat (Concaten  (None, 28, 28, 512)  0          ['conv3_block11_concat[0][0]',   \n",
            " ate)                                                             'conv3_block12_2_conv[0][0]']   \n",
            "                                                                                                  \n",
            " pool3_bn (BatchNormalization)  (None, 28, 28, 512)  2048        ['conv3_block12_concat[0][0]']   \n",
            "                                                                                                  \n",
            " pool3_relu (Activation)        (None, 28, 28, 512)  0           ['pool3_bn[0][0]']               \n",
            "                                                                                                  \n",
            " pool3_conv (Conv2D)            (None, 28, 28, 256)  131072      ['pool3_relu[0][0]']             \n",
            "                                                                                                  \n",
            " pool3_pool (AveragePooling2D)  (None, 14, 14, 256)  0           ['pool3_conv[0][0]']             \n",
            "                                                                                                  \n",
            " conv4_block1_0_bn (BatchNormal  (None, 14, 14, 256)  1024       ['pool3_pool[0][0]']             \n",
            " ization)                                                                                         \n",
            "                                                                                                  \n",
            " conv4_block1_0_relu (Activatio  (None, 14, 14, 256)  0          ['conv4_block1_0_bn[0][0]']      \n",
            " n)                                                                                               \n",
            "                                                                                                  \n",
            " conv4_block1_1_conv (Conv2D)   (None, 14, 14, 128)  32768       ['conv4_block1_0_relu[0][0]']    \n",
            "                                                                                                  \n",
            " conv4_block1_1_bn (BatchNormal  (None, 14, 14, 128)  512        ['conv4_block1_1_conv[0][0]']    \n",
            " ization)                                                                                         \n",
            "                                                                                                  \n",
            " conv4_block1_1_relu (Activatio  (None, 14, 14, 128)  0          ['conv4_block1_1_bn[0][0]']      \n",
            " n)                                                                                               \n",
            "                                                                                                  \n",
            " conv4_block1_2_conv (Conv2D)   (None, 14, 14, 32)   36864       ['conv4_block1_1_relu[0][0]']    \n",
            "                                                                                                  \n",
            " conv4_block1_concat (Concatena  (None, 14, 14, 288)  0          ['pool3_pool[0][0]',             \n",
            " te)                                                              'conv4_block1_2_conv[0][0]']    \n",
            "                                                                                                  \n",
            " conv4_block2_0_bn (BatchNormal  (None, 14, 14, 288)  1152       ['conv4_block1_concat[0][0]']    \n",
            " ization)                                                                                         \n",
            "                                                                                                  \n",
            " conv4_block2_0_relu (Activatio  (None, 14, 14, 288)  0          ['conv4_block2_0_bn[0][0]']      \n",
            " n)                                                                                               \n",
            "                                                                                                  \n",
            " conv4_block2_1_conv (Conv2D)   (None, 14, 14, 128)  36864       ['conv4_block2_0_relu[0][0]']    \n",
            "                                                                                                  \n",
            " conv4_block2_1_bn (BatchNormal  (None, 14, 14, 128)  512        ['conv4_block2_1_conv[0][0]']    \n",
            " ization)                                                                                         \n",
            "                                                                                                  \n",
            " conv4_block2_1_relu (Activatio  (None, 14, 14, 128)  0          ['conv4_block2_1_bn[0][0]']      \n",
            " n)                                                                                               \n",
            "                                                                                                  \n",
            " conv4_block2_2_conv (Conv2D)   (None, 14, 14, 32)   36864       ['conv4_block2_1_relu[0][0]']    \n",
            "                                                                                                  \n",
            " conv4_block2_concat (Concatena  (None, 14, 14, 320)  0          ['conv4_block1_concat[0][0]',    \n",
            " te)                                                              'conv4_block2_2_conv[0][0]']    \n",
            "                                                                                                  \n",
            " conv4_block3_0_bn (BatchNormal  (None, 14, 14, 320)  1280       ['conv4_block2_concat[0][0]']    \n",
            " ization)                                                                                         \n",
            "                                                                                                  \n",
            " conv4_block3_0_relu (Activatio  (None, 14, 14, 320)  0          ['conv4_block3_0_bn[0][0]']      \n",
            " n)                                                                                               \n",
            "                                                                                                  \n",
            " conv4_block3_1_conv (Conv2D)   (None, 14, 14, 128)  40960       ['conv4_block3_0_relu[0][0]']    \n",
            "                                                                                                  \n",
            " conv4_block3_1_bn (BatchNormal  (None, 14, 14, 128)  512        ['conv4_block3_1_conv[0][0]']    \n",
            " ization)                                                                                         \n",
            "                                                                                                  \n",
            " conv4_block3_1_relu (Activatio  (None, 14, 14, 128)  0          ['conv4_block3_1_bn[0][0]']      \n",
            " n)                                                                                               \n",
            "                                                                                                  \n",
            " conv4_block3_2_conv (Conv2D)   (None, 14, 14, 32)   36864       ['conv4_block3_1_relu[0][0]']    \n",
            "                                                                                                  \n",
            " conv4_block3_concat (Concatena  (None, 14, 14, 352)  0          ['conv4_block2_concat[0][0]',    \n",
            " te)                                                              'conv4_block3_2_conv[0][0]']    \n",
            "                                                                                                  \n",
            " conv4_block4_0_bn (BatchNormal  (None, 14, 14, 352)  1408       ['conv4_block3_concat[0][0]']    \n",
            " ization)                                                                                         \n",
            "                                                                                                  \n",
            " conv4_block4_0_relu (Activatio  (None, 14, 14, 352)  0          ['conv4_block4_0_bn[0][0]']      \n",
            " n)                                                                                               \n",
            "                                                                                                  \n",
            " conv4_block4_1_conv (Conv2D)   (None, 14, 14, 128)  45056       ['conv4_block4_0_relu[0][0]']    \n",
            "                                                                                                  \n",
            " conv4_block4_1_bn (BatchNormal  (None, 14, 14, 128)  512        ['conv4_block4_1_conv[0][0]']    \n",
            " ization)                                                                                         \n",
            "                                                                                                  \n",
            " conv4_block4_1_relu (Activatio  (None, 14, 14, 128)  0          ['conv4_block4_1_bn[0][0]']      \n",
            " n)                                                                                               \n",
            "                                                                                                  \n",
            " conv4_block4_2_conv (Conv2D)   (None, 14, 14, 32)   36864       ['conv4_block4_1_relu[0][0]']    \n",
            "                                                                                                  \n",
            " conv4_block4_concat (Concatena  (None, 14, 14, 384)  0          ['conv4_block3_concat[0][0]',    \n",
            " te)                                                              'conv4_block4_2_conv[0][0]']    \n",
            "                                                                                                  \n",
            " conv4_block5_0_bn (BatchNormal  (None, 14, 14, 384)  1536       ['conv4_block4_concat[0][0]']    \n",
            " ization)                                                                                         \n",
            "                                                                                                  \n",
            " conv4_block5_0_relu (Activatio  (None, 14, 14, 384)  0          ['conv4_block5_0_bn[0][0]']      \n",
            " n)                                                                                               \n",
            "                                                                                                  \n",
            " conv4_block5_1_conv (Conv2D)   (None, 14, 14, 128)  49152       ['conv4_block5_0_relu[0][0]']    \n",
            "                                                                                                  \n",
            " conv4_block5_1_bn (BatchNormal  (None, 14, 14, 128)  512        ['conv4_block5_1_conv[0][0]']    \n",
            " ization)                                                                                         \n",
            "                                                                                                  \n",
            " conv4_block5_1_relu (Activatio  (None, 14, 14, 128)  0          ['conv4_block5_1_bn[0][0]']      \n",
            " n)                                                                                               \n",
            "                                                                                                  \n",
            " conv4_block5_2_conv (Conv2D)   (None, 14, 14, 32)   36864       ['conv4_block5_1_relu[0][0]']    \n",
            "                                                                                                  \n",
            " conv4_block5_concat (Concatena  (None, 14, 14, 416)  0          ['conv4_block4_concat[0][0]',    \n",
            " te)                                                              'conv4_block5_2_conv[0][0]']    \n",
            "                                                                                                  \n",
            " conv4_block6_0_bn (BatchNormal  (None, 14, 14, 416)  1664       ['conv4_block5_concat[0][0]']    \n",
            " ization)                                                                                         \n",
            "                                                                                                  \n",
            " conv4_block6_0_relu (Activatio  (None, 14, 14, 416)  0          ['conv4_block6_0_bn[0][0]']      \n",
            " n)                                                                                               \n",
            "                                                                                                  \n",
            " conv4_block6_1_conv (Conv2D)   (None, 14, 14, 128)  53248       ['conv4_block6_0_relu[0][0]']    \n",
            "                                                                                                  \n",
            " conv4_block6_1_bn (BatchNormal  (None, 14, 14, 128)  512        ['conv4_block6_1_conv[0][0]']    \n",
            " ization)                                                                                         \n",
            "                                                                                                  \n",
            " conv4_block6_1_relu (Activatio  (None, 14, 14, 128)  0          ['conv4_block6_1_bn[0][0]']      \n",
            " n)                                                                                               \n",
            "                                                                                                  \n",
            " conv4_block6_2_conv (Conv2D)   (None, 14, 14, 32)   36864       ['conv4_block6_1_relu[0][0]']    \n",
            "                                                                                                  \n",
            " conv4_block6_concat (Concatena  (None, 14, 14, 448)  0          ['conv4_block5_concat[0][0]',    \n",
            " te)                                                              'conv4_block6_2_conv[0][0]']    \n",
            "                                                                                                  \n",
            " conv4_block7_0_bn (BatchNormal  (None, 14, 14, 448)  1792       ['conv4_block6_concat[0][0]']    \n",
            " ization)                                                                                         \n",
            "                                                                                                  \n",
            " conv4_block7_0_relu (Activatio  (None, 14, 14, 448)  0          ['conv4_block7_0_bn[0][0]']      \n",
            " n)                                                                                               \n",
            "                                                                                                  \n",
            " conv4_block7_1_conv (Conv2D)   (None, 14, 14, 128)  57344       ['conv4_block7_0_relu[0][0]']    \n",
            "                                                                                                  \n",
            " conv4_block7_1_bn (BatchNormal  (None, 14, 14, 128)  512        ['conv4_block7_1_conv[0][0]']    \n",
            " ization)                                                                                         \n",
            "                                                                                                  \n",
            " conv4_block7_1_relu (Activatio  (None, 14, 14, 128)  0          ['conv4_block7_1_bn[0][0]']      \n",
            " n)                                                                                               \n",
            "                                                                                                  \n",
            " conv4_block7_2_conv (Conv2D)   (None, 14, 14, 32)   36864       ['conv4_block7_1_relu[0][0]']    \n",
            "                                                                                                  \n",
            " conv4_block7_concat (Concatena  (None, 14, 14, 480)  0          ['conv4_block6_concat[0][0]',    \n",
            " te)                                                              'conv4_block7_2_conv[0][0]']    \n",
            "                                                                                                  \n",
            " conv4_block8_0_bn (BatchNormal  (None, 14, 14, 480)  1920       ['conv4_block7_concat[0][0]']    \n",
            " ization)                                                                                         \n",
            "                                                                                                  \n",
            " conv4_block8_0_relu (Activatio  (None, 14, 14, 480)  0          ['conv4_block8_0_bn[0][0]']      \n",
            " n)                                                                                               \n",
            "                                                                                                  \n",
            " conv4_block8_1_conv (Conv2D)   (None, 14, 14, 128)  61440       ['conv4_block8_0_relu[0][0]']    \n",
            "                                                                                                  \n",
            " conv4_block8_1_bn (BatchNormal  (None, 14, 14, 128)  512        ['conv4_block8_1_conv[0][0]']    \n",
            " ization)                                                                                         \n",
            "                                                                                                  \n",
            " conv4_block8_1_relu (Activatio  (None, 14, 14, 128)  0          ['conv4_block8_1_bn[0][0]']      \n",
            " n)                                                                                               \n",
            "                                                                                                  \n",
            " conv4_block8_2_conv (Conv2D)   (None, 14, 14, 32)   36864       ['conv4_block8_1_relu[0][0]']    \n",
            "                                                                                                  \n",
            " conv4_block8_concat (Concatena  (None, 14, 14, 512)  0          ['conv4_block7_concat[0][0]',    \n",
            " te)                                                              'conv4_block8_2_conv[0][0]']    \n",
            "                                                                                                  \n",
            " conv4_block9_0_bn (BatchNormal  (None, 14, 14, 512)  2048       ['conv4_block8_concat[0][0]']    \n",
            " ization)                                                                                         \n",
            "                                                                                                  \n",
            " conv4_block9_0_relu (Activatio  (None, 14, 14, 512)  0          ['conv4_block9_0_bn[0][0]']      \n",
            " n)                                                                                               \n",
            "                                                                                                  \n",
            " conv4_block9_1_conv (Conv2D)   (None, 14, 14, 128)  65536       ['conv4_block9_0_relu[0][0]']    \n",
            "                                                                                                  \n",
            " conv4_block9_1_bn (BatchNormal  (None, 14, 14, 128)  512        ['conv4_block9_1_conv[0][0]']    \n",
            " ization)                                                                                         \n",
            "                                                                                                  \n",
            " conv4_block9_1_relu (Activatio  (None, 14, 14, 128)  0          ['conv4_block9_1_bn[0][0]']      \n",
            " n)                                                                                               \n",
            "                                                                                                  \n",
            " conv4_block9_2_conv (Conv2D)   (None, 14, 14, 32)   36864       ['conv4_block9_1_relu[0][0]']    \n",
            "                                                                                                  \n",
            " conv4_block9_concat (Concatena  (None, 14, 14, 544)  0          ['conv4_block8_concat[0][0]',    \n",
            " te)                                                              'conv4_block9_2_conv[0][0]']    \n",
            "                                                                                                  \n",
            " conv4_block10_0_bn (BatchNorma  (None, 14, 14, 544)  2176       ['conv4_block9_concat[0][0]']    \n",
            " lization)                                                                                        \n",
            "                                                                                                  \n",
            " conv4_block10_0_relu (Activati  (None, 14, 14, 544)  0          ['conv4_block10_0_bn[0][0]']     \n",
            " on)                                                                                              \n",
            "                                                                                                  \n",
            " conv4_block10_1_conv (Conv2D)  (None, 14, 14, 128)  69632       ['conv4_block10_0_relu[0][0]']   \n",
            "                                                                                                  \n",
            " conv4_block10_1_bn (BatchNorma  (None, 14, 14, 128)  512        ['conv4_block10_1_conv[0][0]']   \n",
            " lization)                                                                                        \n",
            "                                                                                                  \n",
            " conv4_block10_1_relu (Activati  (None, 14, 14, 128)  0          ['conv4_block10_1_bn[0][0]']     \n",
            " on)                                                                                              \n",
            "                                                                                                  \n",
            " conv4_block10_2_conv (Conv2D)  (None, 14, 14, 32)   36864       ['conv4_block10_1_relu[0][0]']   \n",
            "                                                                                                  \n",
            " conv4_block10_concat (Concaten  (None, 14, 14, 576)  0          ['conv4_block9_concat[0][0]',    \n",
            " ate)                                                             'conv4_block10_2_conv[0][0]']   \n",
            "                                                                                                  \n",
            " conv4_block11_0_bn (BatchNorma  (None, 14, 14, 576)  2304       ['conv4_block10_concat[0][0]']   \n",
            " lization)                                                                                        \n",
            "                                                                                                  \n",
            " conv4_block11_0_relu (Activati  (None, 14, 14, 576)  0          ['conv4_block11_0_bn[0][0]']     \n",
            " on)                                                                                              \n",
            "                                                                                                  \n",
            " conv4_block11_1_conv (Conv2D)  (None, 14, 14, 128)  73728       ['conv4_block11_0_relu[0][0]']   \n",
            "                                                                                                  \n",
            " conv4_block11_1_bn (BatchNorma  (None, 14, 14, 128)  512        ['conv4_block11_1_conv[0][0]']   \n",
            " lization)                                                                                        \n",
            "                                                                                                  \n",
            " conv4_block11_1_relu (Activati  (None, 14, 14, 128)  0          ['conv4_block11_1_bn[0][0]']     \n",
            " on)                                                                                              \n",
            "                                                                                                  \n",
            " conv4_block11_2_conv (Conv2D)  (None, 14, 14, 32)   36864       ['conv4_block11_1_relu[0][0]']   \n",
            "                                                                                                  \n",
            " conv4_block11_concat (Concaten  (None, 14, 14, 608)  0          ['conv4_block10_concat[0][0]',   \n",
            " ate)                                                             'conv4_block11_2_conv[0][0]']   \n",
            "                                                                                                  \n",
            " conv4_block12_0_bn (BatchNorma  (None, 14, 14, 608)  2432       ['conv4_block11_concat[0][0]']   \n",
            " lization)                                                                                        \n",
            "                                                                                                  \n",
            " conv4_block12_0_relu (Activati  (None, 14, 14, 608)  0          ['conv4_block12_0_bn[0][0]']     \n",
            " on)                                                                                              \n",
            "                                                                                                  \n",
            " conv4_block12_1_conv (Conv2D)  (None, 14, 14, 128)  77824       ['conv4_block12_0_relu[0][0]']   \n",
            "                                                                                                  \n",
            " conv4_block12_1_bn (BatchNorma  (None, 14, 14, 128)  512        ['conv4_block12_1_conv[0][0]']   \n",
            " lization)                                                                                        \n",
            "                                                                                                  \n",
            " conv4_block12_1_relu (Activati  (None, 14, 14, 128)  0          ['conv4_block12_1_bn[0][0]']     \n",
            " on)                                                                                              \n",
            "                                                                                                  \n",
            " conv4_block12_2_conv (Conv2D)  (None, 14, 14, 32)   36864       ['conv4_block12_1_relu[0][0]']   \n",
            "                                                                                                  \n",
            " conv4_block12_concat (Concaten  (None, 14, 14, 640)  0          ['conv4_block11_concat[0][0]',   \n",
            " ate)                                                             'conv4_block12_2_conv[0][0]']   \n",
            "                                                                                                  \n",
            " conv4_block13_0_bn (BatchNorma  (None, 14, 14, 640)  2560       ['conv4_block12_concat[0][0]']   \n",
            " lization)                                                                                        \n",
            "                                                                                                  \n",
            " conv4_block13_0_relu (Activati  (None, 14, 14, 640)  0          ['conv4_block13_0_bn[0][0]']     \n",
            " on)                                                                                              \n",
            "                                                                                                  \n",
            " conv4_block13_1_conv (Conv2D)  (None, 14, 14, 128)  81920       ['conv4_block13_0_relu[0][0]']   \n",
            "                                                                                                  \n",
            " conv4_block13_1_bn (BatchNorma  (None, 14, 14, 128)  512        ['conv4_block13_1_conv[0][0]']   \n",
            " lization)                                                                                        \n",
            "                                                                                                  \n",
            " conv4_block13_1_relu (Activati  (None, 14, 14, 128)  0          ['conv4_block13_1_bn[0][0]']     \n",
            " on)                                                                                              \n",
            "                                                                                                  \n",
            " conv4_block13_2_conv (Conv2D)  (None, 14, 14, 32)   36864       ['conv4_block13_1_relu[0][0]']   \n",
            "                                                                                                  \n",
            " conv4_block13_concat (Concaten  (None, 14, 14, 672)  0          ['conv4_block12_concat[0][0]',   \n",
            " ate)                                                             'conv4_block13_2_conv[0][0]']   \n",
            "                                                                                                  \n",
            " conv4_block14_0_bn (BatchNorma  (None, 14, 14, 672)  2688       ['conv4_block13_concat[0][0]']   \n",
            " lization)                                                                                        \n",
            "                                                                                                  \n",
            " conv4_block14_0_relu (Activati  (None, 14, 14, 672)  0          ['conv4_block14_0_bn[0][0]']     \n",
            " on)                                                                                              \n",
            "                                                                                                  \n",
            " conv4_block14_1_conv (Conv2D)  (None, 14, 14, 128)  86016       ['conv4_block14_0_relu[0][0]']   \n",
            "                                                                                                  \n",
            " conv4_block14_1_bn (BatchNorma  (None, 14, 14, 128)  512        ['conv4_block14_1_conv[0][0]']   \n",
            " lization)                                                                                        \n",
            "                                                                                                  \n",
            " conv4_block14_1_relu (Activati  (None, 14, 14, 128)  0          ['conv4_block14_1_bn[0][0]']     \n",
            " on)                                                                                              \n",
            "                                                                                                  \n",
            " conv4_block14_2_conv (Conv2D)  (None, 14, 14, 32)   36864       ['conv4_block14_1_relu[0][0]']   \n",
            "                                                                                                  \n",
            " conv4_block14_concat (Concaten  (None, 14, 14, 704)  0          ['conv4_block13_concat[0][0]',   \n",
            " ate)                                                             'conv4_block14_2_conv[0][0]']   \n",
            "                                                                                                  \n",
            " conv4_block15_0_bn (BatchNorma  (None, 14, 14, 704)  2816       ['conv4_block14_concat[0][0]']   \n",
            " lization)                                                                                        \n",
            "                                                                                                  \n",
            " conv4_block15_0_relu (Activati  (None, 14, 14, 704)  0          ['conv4_block15_0_bn[0][0]']     \n",
            " on)                                                                                              \n",
            "                                                                                                  \n",
            " conv4_block15_1_conv (Conv2D)  (None, 14, 14, 128)  90112       ['conv4_block15_0_relu[0][0]']   \n",
            "                                                                                                  \n",
            " conv4_block15_1_bn (BatchNorma  (None, 14, 14, 128)  512        ['conv4_block15_1_conv[0][0]']   \n",
            " lization)                                                                                        \n",
            "                                                                                                  \n",
            " conv4_block15_1_relu (Activati  (None, 14, 14, 128)  0          ['conv4_block15_1_bn[0][0]']     \n",
            " on)                                                                                              \n",
            "                                                                                                  \n",
            " conv4_block15_2_conv (Conv2D)  (None, 14, 14, 32)   36864       ['conv4_block15_1_relu[0][0]']   \n",
            "                                                                                                  \n",
            " conv4_block15_concat (Concaten  (None, 14, 14, 736)  0          ['conv4_block14_concat[0][0]',   \n",
            " ate)                                                             'conv4_block15_2_conv[0][0]']   \n",
            "                                                                                                  \n",
            " conv4_block16_0_bn (BatchNorma  (None, 14, 14, 736)  2944       ['conv4_block15_concat[0][0]']   \n",
            " lization)                                                                                        \n",
            "                                                                                                  \n",
            " conv4_block16_0_relu (Activati  (None, 14, 14, 736)  0          ['conv4_block16_0_bn[0][0]']     \n",
            " on)                                                                                              \n",
            "                                                                                                  \n",
            " conv4_block16_1_conv (Conv2D)  (None, 14, 14, 128)  94208       ['conv4_block16_0_relu[0][0]']   \n",
            "                                                                                                  \n",
            " conv4_block16_1_bn (BatchNorma  (None, 14, 14, 128)  512        ['conv4_block16_1_conv[0][0]']   \n",
            " lization)                                                                                        \n",
            "                                                                                                  \n",
            " conv4_block16_1_relu (Activati  (None, 14, 14, 128)  0          ['conv4_block16_1_bn[0][0]']     \n",
            " on)                                                                                              \n",
            "                                                                                                  \n",
            " conv4_block16_2_conv (Conv2D)  (None, 14, 14, 32)   36864       ['conv4_block16_1_relu[0][0]']   \n",
            "                                                                                                  \n",
            " conv4_block16_concat (Concaten  (None, 14, 14, 768)  0          ['conv4_block15_concat[0][0]',   \n",
            " ate)                                                             'conv4_block16_2_conv[0][0]']   \n",
            "                                                                                                  \n",
            " conv4_block17_0_bn (BatchNorma  (None, 14, 14, 768)  3072       ['conv4_block16_concat[0][0]']   \n",
            " lization)                                                                                        \n",
            "                                                                                                  \n",
            " conv4_block17_0_relu (Activati  (None, 14, 14, 768)  0          ['conv4_block17_0_bn[0][0]']     \n",
            " on)                                                                                              \n",
            "                                                                                                  \n",
            " conv4_block17_1_conv (Conv2D)  (None, 14, 14, 128)  98304       ['conv4_block17_0_relu[0][0]']   \n",
            "                                                                                                  \n",
            " conv4_block17_1_bn (BatchNorma  (None, 14, 14, 128)  512        ['conv4_block17_1_conv[0][0]']   \n",
            " lization)                                                                                        \n",
            "                                                                                                  \n",
            " conv4_block17_1_relu (Activati  (None, 14, 14, 128)  0          ['conv4_block17_1_bn[0][0]']     \n",
            " on)                                                                                              \n",
            "                                                                                                  \n",
            " conv4_block17_2_conv (Conv2D)  (None, 14, 14, 32)   36864       ['conv4_block17_1_relu[0][0]']   \n",
            "                                                                                                  \n",
            " conv4_block17_concat (Concaten  (None, 14, 14, 800)  0          ['conv4_block16_concat[0][0]',   \n",
            " ate)                                                             'conv4_block17_2_conv[0][0]']   \n",
            "                                                                                                  \n",
            " conv4_block18_0_bn (BatchNorma  (None, 14, 14, 800)  3200       ['conv4_block17_concat[0][0]']   \n",
            " lization)                                                                                        \n",
            "                                                                                                  \n",
            " conv4_block18_0_relu (Activati  (None, 14, 14, 800)  0          ['conv4_block18_0_bn[0][0]']     \n",
            " on)                                                                                              \n",
            "                                                                                                  \n",
            " conv4_block18_1_conv (Conv2D)  (None, 14, 14, 128)  102400      ['conv4_block18_0_relu[0][0]']   \n",
            "                                                                                                  \n",
            " conv4_block18_1_bn (BatchNorma  (None, 14, 14, 128)  512        ['conv4_block18_1_conv[0][0]']   \n",
            " lization)                                                                                        \n",
            "                                                                                                  \n",
            " conv4_block18_1_relu (Activati  (None, 14, 14, 128)  0          ['conv4_block18_1_bn[0][0]']     \n",
            " on)                                                                                              \n",
            "                                                                                                  \n",
            " conv4_block18_2_conv (Conv2D)  (None, 14, 14, 32)   36864       ['conv4_block18_1_relu[0][0]']   \n",
            "                                                                                                  \n",
            " conv4_block18_concat (Concaten  (None, 14, 14, 832)  0          ['conv4_block17_concat[0][0]',   \n",
            " ate)                                                             'conv4_block18_2_conv[0][0]']   \n",
            "                                                                                                  \n",
            " conv4_block19_0_bn (BatchNorma  (None, 14, 14, 832)  3328       ['conv4_block18_concat[0][0]']   \n",
            " lization)                                                                                        \n",
            "                                                                                                  \n",
            " conv4_block19_0_relu (Activati  (None, 14, 14, 832)  0          ['conv4_block19_0_bn[0][0]']     \n",
            " on)                                                                                              \n",
            "                                                                                                  \n",
            " conv4_block19_1_conv (Conv2D)  (None, 14, 14, 128)  106496      ['conv4_block19_0_relu[0][0]']   \n",
            "                                                                                                  \n",
            " conv4_block19_1_bn (BatchNorma  (None, 14, 14, 128)  512        ['conv4_block19_1_conv[0][0]']   \n",
            " lization)                                                                                        \n",
            "                                                                                                  \n",
            " conv4_block19_1_relu (Activati  (None, 14, 14, 128)  0          ['conv4_block19_1_bn[0][0]']     \n",
            " on)                                                                                              \n",
            "                                                                                                  \n",
            " conv4_block19_2_conv (Conv2D)  (None, 14, 14, 32)   36864       ['conv4_block19_1_relu[0][0]']   \n",
            "                                                                                                  \n",
            " conv4_block19_concat (Concaten  (None, 14, 14, 864)  0          ['conv4_block18_concat[0][0]',   \n",
            " ate)                                                             'conv4_block19_2_conv[0][0]']   \n",
            "                                                                                                  \n",
            " conv4_block20_0_bn (BatchNorma  (None, 14, 14, 864)  3456       ['conv4_block19_concat[0][0]']   \n",
            " lization)                                                                                        \n",
            "                                                                                                  \n",
            " conv4_block20_0_relu (Activati  (None, 14, 14, 864)  0          ['conv4_block20_0_bn[0][0]']     \n",
            " on)                                                                                              \n",
            "                                                                                                  \n",
            " conv4_block20_1_conv (Conv2D)  (None, 14, 14, 128)  110592      ['conv4_block20_0_relu[0][0]']   \n",
            "                                                                                                  \n",
            " conv4_block20_1_bn (BatchNorma  (None, 14, 14, 128)  512        ['conv4_block20_1_conv[0][0]']   \n",
            " lization)                                                                                        \n",
            "                                                                                                  \n",
            " conv4_block20_1_relu (Activati  (None, 14, 14, 128)  0          ['conv4_block20_1_bn[0][0]']     \n",
            " on)                                                                                              \n",
            "                                                                                                  \n",
            " conv4_block20_2_conv (Conv2D)  (None, 14, 14, 32)   36864       ['conv4_block20_1_relu[0][0]']   \n",
            "                                                                                                  \n",
            " conv4_block20_concat (Concaten  (None, 14, 14, 896)  0          ['conv4_block19_concat[0][0]',   \n",
            " ate)                                                             'conv4_block20_2_conv[0][0]']   \n",
            "                                                                                                  \n",
            " conv4_block21_0_bn (BatchNorma  (None, 14, 14, 896)  3584       ['conv4_block20_concat[0][0]']   \n",
            " lization)                                                                                        \n",
            "                                                                                                  \n",
            " conv4_block21_0_relu (Activati  (None, 14, 14, 896)  0          ['conv4_block21_0_bn[0][0]']     \n",
            " on)                                                                                              \n",
            "                                                                                                  \n",
            " conv4_block21_1_conv (Conv2D)  (None, 14, 14, 128)  114688      ['conv4_block21_0_relu[0][0]']   \n",
            "                                                                                                  \n",
            " conv4_block21_1_bn (BatchNorma  (None, 14, 14, 128)  512        ['conv4_block21_1_conv[0][0]']   \n",
            " lization)                                                                                        \n",
            "                                                                                                  \n",
            " conv4_block21_1_relu (Activati  (None, 14, 14, 128)  0          ['conv4_block21_1_bn[0][0]']     \n",
            " on)                                                                                              \n",
            "                                                                                                  \n",
            " conv4_block21_2_conv (Conv2D)  (None, 14, 14, 32)   36864       ['conv4_block21_1_relu[0][0]']   \n",
            "                                                                                                  \n",
            " conv4_block21_concat (Concaten  (None, 14, 14, 928)  0          ['conv4_block20_concat[0][0]',   \n",
            " ate)                                                             'conv4_block21_2_conv[0][0]']   \n",
            "                                                                                                  \n",
            " conv4_block22_0_bn (BatchNorma  (None, 14, 14, 928)  3712       ['conv4_block21_concat[0][0]']   \n",
            " lization)                                                                                        \n",
            "                                                                                                  \n",
            " conv4_block22_0_relu (Activati  (None, 14, 14, 928)  0          ['conv4_block22_0_bn[0][0]']     \n",
            " on)                                                                                              \n",
            "                                                                                                  \n",
            " conv4_block22_1_conv (Conv2D)  (None, 14, 14, 128)  118784      ['conv4_block22_0_relu[0][0]']   \n",
            "                                                                                                  \n",
            " conv4_block22_1_bn (BatchNorma  (None, 14, 14, 128)  512        ['conv4_block22_1_conv[0][0]']   \n",
            " lization)                                                                                        \n",
            "                                                                                                  \n",
            " conv4_block22_1_relu (Activati  (None, 14, 14, 128)  0          ['conv4_block22_1_bn[0][0]']     \n",
            " on)                                                                                              \n",
            "                                                                                                  \n",
            " conv4_block22_2_conv (Conv2D)  (None, 14, 14, 32)   36864       ['conv4_block22_1_relu[0][0]']   \n",
            "                                                                                                  \n",
            " conv4_block22_concat (Concaten  (None, 14, 14, 960)  0          ['conv4_block21_concat[0][0]',   \n",
            " ate)                                                             'conv4_block22_2_conv[0][0]']   \n",
            "                                                                                                  \n",
            " conv4_block23_0_bn (BatchNorma  (None, 14, 14, 960)  3840       ['conv4_block22_concat[0][0]']   \n",
            " lization)                                                                                        \n",
            "                                                                                                  \n",
            " conv4_block23_0_relu (Activati  (None, 14, 14, 960)  0          ['conv4_block23_0_bn[0][0]']     \n",
            " on)                                                                                              \n",
            "                                                                                                  \n",
            " conv4_block23_1_conv (Conv2D)  (None, 14, 14, 128)  122880      ['conv4_block23_0_relu[0][0]']   \n",
            "                                                                                                  \n",
            " conv4_block23_1_bn (BatchNorma  (None, 14, 14, 128)  512        ['conv4_block23_1_conv[0][0]']   \n",
            " lization)                                                                                        \n",
            "                                                                                                  \n",
            " conv4_block23_1_relu (Activati  (None, 14, 14, 128)  0          ['conv4_block23_1_bn[0][0]']     \n",
            " on)                                                                                              \n",
            "                                                                                                  \n",
            " conv4_block23_2_conv (Conv2D)  (None, 14, 14, 32)   36864       ['conv4_block23_1_relu[0][0]']   \n",
            "                                                                                                  \n",
            " conv4_block23_concat (Concaten  (None, 14, 14, 992)  0          ['conv4_block22_concat[0][0]',   \n",
            " ate)                                                             'conv4_block23_2_conv[0][0]']   \n",
            "                                                                                                  \n",
            " conv4_block24_0_bn (BatchNorma  (None, 14, 14, 992)  3968       ['conv4_block23_concat[0][0]']   \n",
            " lization)                                                                                        \n",
            "                                                                                                  \n",
            " conv4_block24_0_relu (Activati  (None, 14, 14, 992)  0          ['conv4_block24_0_bn[0][0]']     \n",
            " on)                                                                                              \n",
            "                                                                                                  \n",
            " conv4_block24_1_conv (Conv2D)  (None, 14, 14, 128)  126976      ['conv4_block24_0_relu[0][0]']   \n",
            "                                                                                                  \n",
            " conv4_block24_1_bn (BatchNorma  (None, 14, 14, 128)  512        ['conv4_block24_1_conv[0][0]']   \n",
            " lization)                                                                                        \n",
            "                                                                                                  \n",
            " conv4_block24_1_relu (Activati  (None, 14, 14, 128)  0          ['conv4_block24_1_bn[0][0]']     \n",
            " on)                                                                                              \n",
            "                                                                                                  \n",
            " conv4_block24_2_conv (Conv2D)  (None, 14, 14, 32)   36864       ['conv4_block24_1_relu[0][0]']   \n",
            "                                                                                                  \n",
            " conv4_block24_concat (Concaten  (None, 14, 14, 1024  0          ['conv4_block23_concat[0][0]',   \n",
            " ate)                           )                                 'conv4_block24_2_conv[0][0]']   \n",
            "                                                                                                  \n",
            " pool4_bn (BatchNormalization)  (None, 14, 14, 1024  4096        ['conv4_block24_concat[0][0]']   \n",
            "                                )                                                                 \n",
            "                                                                                                  \n",
            " pool4_relu (Activation)        (None, 14, 14, 1024  0           ['pool4_bn[0][0]']               \n",
            "                                )                                                                 \n",
            "                                                                                                  \n",
            " pool4_conv (Conv2D)            (None, 14, 14, 512)  524288      ['pool4_relu[0][0]']             \n",
            "                                                                                                  \n",
            " pool4_pool (AveragePooling2D)  (None, 7, 7, 512)    0           ['pool4_conv[0][0]']             \n",
            "                                                                                                  \n",
            " conv5_block1_0_bn (BatchNormal  (None, 7, 7, 512)   2048        ['pool4_pool[0][0]']             \n",
            " ization)                                                                                         \n",
            "                                                                                                  \n",
            " conv5_block1_0_relu (Activatio  (None, 7, 7, 512)   0           ['conv5_block1_0_bn[0][0]']      \n",
            " n)                                                                                               \n",
            "                                                                                                  \n",
            " conv5_block1_1_conv (Conv2D)   (None, 7, 7, 128)    65536       ['conv5_block1_0_relu[0][0]']    \n",
            "                                                                                                  \n",
            " conv5_block1_1_bn (BatchNormal  (None, 7, 7, 128)   512         ['conv5_block1_1_conv[0][0]']    \n",
            " ization)                                                                                         \n",
            "                                                                                                  \n",
            " conv5_block1_1_relu (Activatio  (None, 7, 7, 128)   0           ['conv5_block1_1_bn[0][0]']      \n",
            " n)                                                                                               \n",
            "                                                                                                  \n",
            " conv5_block1_2_conv (Conv2D)   (None, 7, 7, 32)     36864       ['conv5_block1_1_relu[0][0]']    \n",
            "                                                                                                  \n",
            " conv5_block1_concat (Concatena  (None, 7, 7, 544)   0           ['pool4_pool[0][0]',             \n",
            " te)                                                              'conv5_block1_2_conv[0][0]']    \n",
            "                                                                                                  \n",
            " conv5_block2_0_bn (BatchNormal  (None, 7, 7, 544)   2176        ['conv5_block1_concat[0][0]']    \n",
            " ization)                                                                                         \n",
            "                                                                                                  \n",
            " conv5_block2_0_relu (Activatio  (None, 7, 7, 544)   0           ['conv5_block2_0_bn[0][0]']      \n",
            " n)                                                                                               \n",
            "                                                                                                  \n",
            " conv5_block2_1_conv (Conv2D)   (None, 7, 7, 128)    69632       ['conv5_block2_0_relu[0][0]']    \n",
            "                                                                                                  \n",
            " conv5_block2_1_bn (BatchNormal  (None, 7, 7, 128)   512         ['conv5_block2_1_conv[0][0]']    \n",
            " ization)                                                                                         \n",
            "                                                                                                  \n",
            " conv5_block2_1_relu (Activatio  (None, 7, 7, 128)   0           ['conv5_block2_1_bn[0][0]']      \n",
            " n)                                                                                               \n",
            "                                                                                                  \n",
            " conv5_block2_2_conv (Conv2D)   (None, 7, 7, 32)     36864       ['conv5_block2_1_relu[0][0]']    \n",
            "                                                                                                  \n",
            " conv5_block2_concat (Concatena  (None, 7, 7, 576)   0           ['conv5_block1_concat[0][0]',    \n",
            " te)                                                              'conv5_block2_2_conv[0][0]']    \n",
            "                                                                                                  \n",
            " conv5_block3_0_bn (BatchNormal  (None, 7, 7, 576)   2304        ['conv5_block2_concat[0][0]']    \n",
            " ization)                                                                                         \n",
            "                                                                                                  \n",
            " conv5_block3_0_relu (Activatio  (None, 7, 7, 576)   0           ['conv5_block3_0_bn[0][0]']      \n",
            " n)                                                                                               \n",
            "                                                                                                  \n",
            " conv5_block3_1_conv (Conv2D)   (None, 7, 7, 128)    73728       ['conv5_block3_0_relu[0][0]']    \n",
            "                                                                                                  \n",
            " conv5_block3_1_bn (BatchNormal  (None, 7, 7, 128)   512         ['conv5_block3_1_conv[0][0]']    \n",
            " ization)                                                                                         \n",
            "                                                                                                  \n",
            " conv5_block3_1_relu (Activatio  (None, 7, 7, 128)   0           ['conv5_block3_1_bn[0][0]']      \n",
            " n)                                                                                               \n",
            "                                                                                                  \n",
            " conv5_block3_2_conv (Conv2D)   (None, 7, 7, 32)     36864       ['conv5_block3_1_relu[0][0]']    \n",
            "                                                                                                  \n",
            " conv5_block3_concat (Concatena  (None, 7, 7, 608)   0           ['conv5_block2_concat[0][0]',    \n",
            " te)                                                              'conv5_block3_2_conv[0][0]']    \n",
            "                                                                                                  \n",
            " conv5_block4_0_bn (BatchNormal  (None, 7, 7, 608)   2432        ['conv5_block3_concat[0][0]']    \n",
            " ization)                                                                                         \n",
            "                                                                                                  \n",
            " conv5_block4_0_relu (Activatio  (None, 7, 7, 608)   0           ['conv5_block4_0_bn[0][0]']      \n",
            " n)                                                                                               \n",
            "                                                                                                  \n",
            " conv5_block4_1_conv (Conv2D)   (None, 7, 7, 128)    77824       ['conv5_block4_0_relu[0][0]']    \n",
            "                                                                                                  \n",
            " conv5_block4_1_bn (BatchNormal  (None, 7, 7, 128)   512         ['conv5_block4_1_conv[0][0]']    \n",
            " ization)                                                                                         \n",
            "                                                                                                  \n",
            " conv5_block4_1_relu (Activatio  (None, 7, 7, 128)   0           ['conv5_block4_1_bn[0][0]']      \n",
            " n)                                                                                               \n",
            "                                                                                                  \n",
            " conv5_block4_2_conv (Conv2D)   (None, 7, 7, 32)     36864       ['conv5_block4_1_relu[0][0]']    \n",
            "                                                                                                  \n",
            " conv5_block4_concat (Concatena  (None, 7, 7, 640)   0           ['conv5_block3_concat[0][0]',    \n",
            " te)                                                              'conv5_block4_2_conv[0][0]']    \n",
            "                                                                                                  \n",
            " conv5_block5_0_bn (BatchNormal  (None, 7, 7, 640)   2560        ['conv5_block4_concat[0][0]']    \n",
            " ization)                                                                                         \n",
            "                                                                                                  \n",
            " conv5_block5_0_relu (Activatio  (None, 7, 7, 640)   0           ['conv5_block5_0_bn[0][0]']      \n",
            " n)                                                                                               \n",
            "                                                                                                  \n",
            " conv5_block5_1_conv (Conv2D)   (None, 7, 7, 128)    81920       ['conv5_block5_0_relu[0][0]']    \n",
            "                                                                                                  \n",
            " conv5_block5_1_bn (BatchNormal  (None, 7, 7, 128)   512         ['conv5_block5_1_conv[0][0]']    \n",
            " ization)                                                                                         \n",
            "                                                                                                  \n",
            " conv5_block5_1_relu (Activatio  (None, 7, 7, 128)   0           ['conv5_block5_1_bn[0][0]']      \n",
            " n)                                                                                               \n",
            "                                                                                                  \n",
            " conv5_block5_2_conv (Conv2D)   (None, 7, 7, 32)     36864       ['conv5_block5_1_relu[0][0]']    \n",
            "                                                                                                  \n",
            " conv5_block5_concat (Concatena  (None, 7, 7, 672)   0           ['conv5_block4_concat[0][0]',    \n",
            " te)                                                              'conv5_block5_2_conv[0][0]']    \n",
            "                                                                                                  \n",
            " conv5_block6_0_bn (BatchNormal  (None, 7, 7, 672)   2688        ['conv5_block5_concat[0][0]']    \n",
            " ization)                                                                                         \n",
            "                                                                                                  \n",
            " conv5_block6_0_relu (Activatio  (None, 7, 7, 672)   0           ['conv5_block6_0_bn[0][0]']      \n",
            " n)                                                                                               \n",
            "                                                                                                  \n",
            " conv5_block6_1_conv (Conv2D)   (None, 7, 7, 128)    86016       ['conv5_block6_0_relu[0][0]']    \n",
            "                                                                                                  \n",
            " conv5_block6_1_bn (BatchNormal  (None, 7, 7, 128)   512         ['conv5_block6_1_conv[0][0]']    \n",
            " ization)                                                                                         \n",
            "                                                                                                  \n",
            " conv5_block6_1_relu (Activatio  (None, 7, 7, 128)   0           ['conv5_block6_1_bn[0][0]']      \n",
            " n)                                                                                               \n",
            "                                                                                                  \n",
            " conv5_block6_2_conv (Conv2D)   (None, 7, 7, 32)     36864       ['conv5_block6_1_relu[0][0]']    \n",
            "                                                                                                  \n",
            " conv5_block6_concat (Concatena  (None, 7, 7, 704)   0           ['conv5_block5_concat[0][0]',    \n",
            " te)                                                              'conv5_block6_2_conv[0][0]']    \n",
            "                                                                                                  \n",
            " conv5_block7_0_bn (BatchNormal  (None, 7, 7, 704)   2816        ['conv5_block6_concat[0][0]']    \n",
            " ization)                                                                                         \n",
            "                                                                                                  \n",
            " conv5_block7_0_relu (Activatio  (None, 7, 7, 704)   0           ['conv5_block7_0_bn[0][0]']      \n",
            " n)                                                                                               \n",
            "                                                                                                  \n",
            " conv5_block7_1_conv (Conv2D)   (None, 7, 7, 128)    90112       ['conv5_block7_0_relu[0][0]']    \n",
            "                                                                                                  \n",
            " conv5_block7_1_bn (BatchNormal  (None, 7, 7, 128)   512         ['conv5_block7_1_conv[0][0]']    \n",
            " ization)                                                                                         \n",
            "                                                                                                  \n",
            " conv5_block7_1_relu (Activatio  (None, 7, 7, 128)   0           ['conv5_block7_1_bn[0][0]']      \n",
            " n)                                                                                               \n",
            "                                                                                                  \n",
            " conv5_block7_2_conv (Conv2D)   (None, 7, 7, 32)     36864       ['conv5_block7_1_relu[0][0]']    \n",
            "                                                                                                  \n",
            " conv5_block7_concat (Concatena  (None, 7, 7, 736)   0           ['conv5_block6_concat[0][0]',    \n",
            " te)                                                              'conv5_block7_2_conv[0][0]']    \n",
            "                                                                                                  \n",
            " conv5_block8_0_bn (BatchNormal  (None, 7, 7, 736)   2944        ['conv5_block7_concat[0][0]']    \n",
            " ization)                                                                                         \n",
            "                                                                                                  \n",
            " conv5_block8_0_relu (Activatio  (None, 7, 7, 736)   0           ['conv5_block8_0_bn[0][0]']      \n",
            " n)                                                                                               \n",
            "                                                                                                  \n",
            " conv5_block8_1_conv (Conv2D)   (None, 7, 7, 128)    94208       ['conv5_block8_0_relu[0][0]']    \n",
            "                                                                                                  \n",
            " conv5_block8_1_bn (BatchNormal  (None, 7, 7, 128)   512         ['conv5_block8_1_conv[0][0]']    \n",
            " ization)                                                                                         \n",
            "                                                                                                  \n",
            " conv5_block8_1_relu (Activatio  (None, 7, 7, 128)   0           ['conv5_block8_1_bn[0][0]']      \n",
            " n)                                                                                               \n",
            "                                                                                                  \n",
            " conv5_block8_2_conv (Conv2D)   (None, 7, 7, 32)     36864       ['conv5_block8_1_relu[0][0]']    \n",
            "                                                                                                  \n",
            " conv5_block8_concat (Concatena  (None, 7, 7, 768)   0           ['conv5_block7_concat[0][0]',    \n",
            " te)                                                              'conv5_block8_2_conv[0][0]']    \n",
            "                                                                                                  \n",
            " conv5_block9_0_bn (BatchNormal  (None, 7, 7, 768)   3072        ['conv5_block8_concat[0][0]']    \n",
            " ization)                                                                                         \n",
            "                                                                                                  \n",
            " conv5_block9_0_relu (Activatio  (None, 7, 7, 768)   0           ['conv5_block9_0_bn[0][0]']      \n",
            " n)                                                                                               \n",
            "                                                                                                  \n",
            " conv5_block9_1_conv (Conv2D)   (None, 7, 7, 128)    98304       ['conv5_block9_0_relu[0][0]']    \n",
            "                                                                                                  \n",
            " conv5_block9_1_bn (BatchNormal  (None, 7, 7, 128)   512         ['conv5_block9_1_conv[0][0]']    \n",
            " ization)                                                                                         \n",
            "                                                                                                  \n",
            " conv5_block9_1_relu (Activatio  (None, 7, 7, 128)   0           ['conv5_block9_1_bn[0][0]']      \n",
            " n)                                                                                               \n",
            "                                                                                                  \n",
            " conv5_block9_2_conv (Conv2D)   (None, 7, 7, 32)     36864       ['conv5_block9_1_relu[0][0]']    \n",
            "                                                                                                  \n",
            " conv5_block9_concat (Concatena  (None, 7, 7, 800)   0           ['conv5_block8_concat[0][0]',    \n",
            " te)                                                              'conv5_block9_2_conv[0][0]']    \n",
            "                                                                                                  \n",
            " conv5_block10_0_bn (BatchNorma  (None, 7, 7, 800)   3200        ['conv5_block9_concat[0][0]']    \n",
            " lization)                                                                                        \n",
            "                                                                                                  \n",
            " conv5_block10_0_relu (Activati  (None, 7, 7, 800)   0           ['conv5_block10_0_bn[0][0]']     \n",
            " on)                                                                                              \n",
            "                                                                                                  \n",
            " conv5_block10_1_conv (Conv2D)  (None, 7, 7, 128)    102400      ['conv5_block10_0_relu[0][0]']   \n",
            "                                                                                                  \n",
            " conv5_block10_1_bn (BatchNorma  (None, 7, 7, 128)   512         ['conv5_block10_1_conv[0][0]']   \n",
            " lization)                                                                                        \n",
            "                                                                                                  \n",
            " conv5_block10_1_relu (Activati  (None, 7, 7, 128)   0           ['conv5_block10_1_bn[0][0]']     \n",
            " on)                                                                                              \n",
            "                                                                                                  \n",
            " conv5_block10_2_conv (Conv2D)  (None, 7, 7, 32)     36864       ['conv5_block10_1_relu[0][0]']   \n",
            "                                                                                                  \n",
            " conv5_block10_concat (Concaten  (None, 7, 7, 832)   0           ['conv5_block9_concat[0][0]',    \n",
            " ate)                                                             'conv5_block10_2_conv[0][0]']   \n",
            "                                                                                                  \n",
            " conv5_block11_0_bn (BatchNorma  (None, 7, 7, 832)   3328        ['conv5_block10_concat[0][0]']   \n",
            " lization)                                                                                        \n",
            "                                                                                                  \n",
            " conv5_block11_0_relu (Activati  (None, 7, 7, 832)   0           ['conv5_block11_0_bn[0][0]']     \n",
            " on)                                                                                              \n",
            "                                                                                                  \n",
            " conv5_block11_1_conv (Conv2D)  (None, 7, 7, 128)    106496      ['conv5_block11_0_relu[0][0]']   \n",
            "                                                                                                  \n",
            " conv5_block11_1_bn (BatchNorma  (None, 7, 7, 128)   512         ['conv5_block11_1_conv[0][0]']   \n",
            " lization)                                                                                        \n",
            "                                                                                                  \n",
            " conv5_block11_1_relu (Activati  (None, 7, 7, 128)   0           ['conv5_block11_1_bn[0][0]']     \n",
            " on)                                                                                              \n",
            "                                                                                                  \n",
            " conv5_block11_2_conv (Conv2D)  (None, 7, 7, 32)     36864       ['conv5_block11_1_relu[0][0]']   \n",
            "                                                                                                  \n",
            " conv5_block11_concat (Concaten  (None, 7, 7, 864)   0           ['conv5_block10_concat[0][0]',   \n",
            " ate)                                                             'conv5_block11_2_conv[0][0]']   \n",
            "                                                                                                  \n",
            " conv5_block12_0_bn (BatchNorma  (None, 7, 7, 864)   3456        ['conv5_block11_concat[0][0]']   \n",
            " lization)                                                                                        \n",
            "                                                                                                  \n",
            " conv5_block12_0_relu (Activati  (None, 7, 7, 864)   0           ['conv5_block12_0_bn[0][0]']     \n",
            " on)                                                                                              \n",
            "                                                                                                  \n",
            " conv5_block12_1_conv (Conv2D)  (None, 7, 7, 128)    110592      ['conv5_block12_0_relu[0][0]']   \n",
            "                                                                                                  \n",
            " conv5_block12_1_bn (BatchNorma  (None, 7, 7, 128)   512         ['conv5_block12_1_conv[0][0]']   \n",
            " lization)                                                                                        \n",
            "                                                                                                  \n",
            " conv5_block12_1_relu (Activati  (None, 7, 7, 128)   0           ['conv5_block12_1_bn[0][0]']     \n",
            " on)                                                                                              \n",
            "                                                                                                  \n",
            " conv5_block12_2_conv (Conv2D)  (None, 7, 7, 32)     36864       ['conv5_block12_1_relu[0][0]']   \n",
            "                                                                                                  \n",
            " conv5_block12_concat (Concaten  (None, 7, 7, 896)   0           ['conv5_block11_concat[0][0]',   \n",
            " ate)                                                             'conv5_block12_2_conv[0][0]']   \n",
            "                                                                                                  \n",
            " conv5_block13_0_bn (BatchNorma  (None, 7, 7, 896)   3584        ['conv5_block12_concat[0][0]']   \n",
            " lization)                                                                                        \n",
            "                                                                                                  \n",
            " conv5_block13_0_relu (Activati  (None, 7, 7, 896)   0           ['conv5_block13_0_bn[0][0]']     \n",
            " on)                                                                                              \n",
            "                                                                                                  \n",
            " conv5_block13_1_conv (Conv2D)  (None, 7, 7, 128)    114688      ['conv5_block13_0_relu[0][0]']   \n",
            "                                                                                                  \n",
            " conv5_block13_1_bn (BatchNorma  (None, 7, 7, 128)   512         ['conv5_block13_1_conv[0][0]']   \n",
            " lization)                                                                                        \n",
            "                                                                                                  \n",
            " conv5_block13_1_relu (Activati  (None, 7, 7, 128)   0           ['conv5_block13_1_bn[0][0]']     \n",
            " on)                                                                                              \n",
            "                                                                                                  \n",
            " conv5_block13_2_conv (Conv2D)  (None, 7, 7, 32)     36864       ['conv5_block13_1_relu[0][0]']   \n",
            "                                                                                                  \n",
            " conv5_block13_concat (Concaten  (None, 7, 7, 928)   0           ['conv5_block12_concat[0][0]',   \n",
            " ate)                                                             'conv5_block13_2_conv[0][0]']   \n",
            "                                                                                                  \n",
            " conv5_block14_0_bn (BatchNorma  (None, 7, 7, 928)   3712        ['conv5_block13_concat[0][0]']   \n",
            " lization)                                                                                        \n",
            "                                                                                                  \n",
            " conv5_block14_0_relu (Activati  (None, 7, 7, 928)   0           ['conv5_block14_0_bn[0][0]']     \n",
            " on)                                                                                              \n",
            "                                                                                                  \n",
            " conv5_block14_1_conv (Conv2D)  (None, 7, 7, 128)    118784      ['conv5_block14_0_relu[0][0]']   \n",
            "                                                                                                  \n",
            " conv5_block14_1_bn (BatchNorma  (None, 7, 7, 128)   512         ['conv5_block14_1_conv[0][0]']   \n",
            " lization)                                                                                        \n",
            "                                                                                                  \n",
            " conv5_block14_1_relu (Activati  (None, 7, 7, 128)   0           ['conv5_block14_1_bn[0][0]']     \n",
            " on)                                                                                              \n",
            "                                                                                                  \n",
            " conv5_block14_2_conv (Conv2D)  (None, 7, 7, 32)     36864       ['conv5_block14_1_relu[0][0]']   \n",
            "                                                                                                  \n",
            " conv5_block14_concat (Concaten  (None, 7, 7, 960)   0           ['conv5_block13_concat[0][0]',   \n",
            " ate)                                                             'conv5_block14_2_conv[0][0]']   \n",
            "                                                                                                  \n",
            " conv5_block15_0_bn (BatchNorma  (None, 7, 7, 960)   3840        ['conv5_block14_concat[0][0]']   \n",
            " lization)                                                                                        \n",
            "                                                                                                  \n",
            " conv5_block15_0_relu (Activati  (None, 7, 7, 960)   0           ['conv5_block15_0_bn[0][0]']     \n",
            " on)                                                                                              \n",
            "                                                                                                  \n",
            " conv5_block15_1_conv (Conv2D)  (None, 7, 7, 128)    122880      ['conv5_block15_0_relu[0][0]']   \n",
            "                                                                                                  \n",
            " conv5_block15_1_bn (BatchNorma  (None, 7, 7, 128)   512         ['conv5_block15_1_conv[0][0]']   \n",
            " lization)                                                                                        \n",
            "                                                                                                  \n",
            " conv5_block15_1_relu (Activati  (None, 7, 7, 128)   0           ['conv5_block15_1_bn[0][0]']     \n",
            " on)                                                                                              \n",
            "                                                                                                  \n",
            " conv5_block15_2_conv (Conv2D)  (None, 7, 7, 32)     36864       ['conv5_block15_1_relu[0][0]']   \n",
            "                                                                                                  \n",
            " conv5_block15_concat (Concaten  (None, 7, 7, 992)   0           ['conv5_block14_concat[0][0]',   \n",
            " ate)                                                             'conv5_block15_2_conv[0][0]']   \n",
            "                                                                                                  \n",
            " conv5_block16_0_bn (BatchNorma  (None, 7, 7, 992)   3968        ['conv5_block15_concat[0][0]']   \n",
            " lization)                                                                                        \n",
            "                                                                                                  \n",
            " conv5_block16_0_relu (Activati  (None, 7, 7, 992)   0           ['conv5_block16_0_bn[0][0]']     \n",
            " on)                                                                                              \n",
            "                                                                                                  \n",
            " conv5_block16_1_conv (Conv2D)  (None, 7, 7, 128)    126976      ['conv5_block16_0_relu[0][0]']   \n",
            "                                                                                                  \n",
            " conv5_block16_1_bn (BatchNorma  (None, 7, 7, 128)   512         ['conv5_block16_1_conv[0][0]']   \n",
            " lization)                                                                                        \n",
            "                                                                                                  \n",
            " conv5_block16_1_relu (Activati  (None, 7, 7, 128)   0           ['conv5_block16_1_bn[0][0]']     \n",
            " on)                                                                                              \n",
            "                                                                                                  \n",
            " conv5_block16_2_conv (Conv2D)  (None, 7, 7, 32)     36864       ['conv5_block16_1_relu[0][0]']   \n",
            "                                                                                                  \n",
            " conv5_block16_concat (Concaten  (None, 7, 7, 1024)  0           ['conv5_block15_concat[0][0]',   \n",
            " ate)                                                             'conv5_block16_2_conv[0][0]']   \n",
            "                                                                                                  \n",
            " bn (BatchNormalization)        (None, 7, 7, 1024)   4096        ['conv5_block16_concat[0][0]']   \n",
            "                                                                                                  \n",
            " relu (Activation)              (None, 7, 7, 1024)   0           ['bn[0][0]']                     \n",
            "                                                                                                  \n",
            "==================================================================================================\n",
            "Total params: 7,037,504\n",
            "Trainable params: 0\n",
            "Non-trainable params: 7,037,504\n",
            "__________________________________________________________________________________________________\n"
          ]
        }
      ],
      "source": [
        "densenet = keras.applications.DenseNet121(\n",
        "    weights=\"imagenet\",\n",
        "    include_top=False,\n",
        "    input_shape=(IMAGE_HEIGHT,IMAGE_WIDTH,3)\n",
        ")\n",
        "\n",
        "densenet.trainable = False\n",
        "densenet.summary()"
      ]
    },
    {
      "cell_type": "markdown",
      "source": [
        "###Dense"
      ],
      "metadata": {
        "id": "3-2Dxl3vToLy"
      }
    },
    {
      "cell_type": "code",
      "source": [
        "inputs = keras.Input(shape=(IMAGE_HEIGHT,IMAGE_WIDTH,3))\n",
        "x = keras.applications.densenet.preprocess_input(inputs)\n",
        "x = densenet(x)\n",
        "\n",
        "x = layers.GlobalAveragePooling2D(name='gap')(x)\n",
        "x = layers.Dense(512,activation='relu', name='classifier_hidden')(x)\n",
        "output = layers.Dense(len(CLASSES), activation='softmax')(x)\n",
        "model = tf.keras.models.Model(inputs=inputs, outputs=output, name=\"DenseNet\")\n",
        "\n",
        "model = compile_model(model, loss=\"sparse_categorical_crossentropy\")\n",
        "model.summary()"
      ],
      "metadata": {
        "id": "zWKU7Vw0T-Xw",
        "colab": {
          "base_uri": "https://localhost:8080/"
        },
        "outputId": "c35ed90c-f4b6-45e6-f320-7b97a01f2522"
      },
      "execution_count": null,
      "outputs": [
        {
          "output_type": "stream",
          "name": "stdout",
          "text": [
            "Model: \"DenseNet\"\n",
            "_________________________________________________________________\n",
            " Layer (type)                Output Shape              Param #   \n",
            "=================================================================\n",
            " input_4 (InputLayer)        [(None, 224, 224, 3)]     0         \n",
            "                                                                 \n",
            " tf.math.truediv_4 (TFOpLamb  (None, 224, 224, 3)      0         \n",
            " da)                                                             \n",
            "                                                                 \n",
            " tf.nn.bias_add_2 (TFOpLambd  (None, 224, 224, 3)      0         \n",
            " a)                                                              \n",
            "                                                                 \n",
            " tf.math.truediv_5 (TFOpLamb  (None, 224, 224, 3)      0         \n",
            " da)                                                             \n",
            "                                                                 \n",
            " densenet121 (Functional)    (None, 7, 7, 1024)        7037504   \n",
            "                                                                 \n",
            " gap (GlobalAveragePooling2D  (None, 1024)             0         \n",
            " )                                                               \n",
            "                                                                 \n",
            " classifier_hidden (Dense)   (None, 512)               524800    \n",
            "                                                                 \n",
            " dense_2 (Dense)             (None, 7)                 3591      \n",
            "                                                                 \n",
            "=================================================================\n",
            "Total params: 7,565,895\n",
            "Trainable params: 528,391\n",
            "Non-trainable params: 7,037,504\n",
            "_________________________________________________________________\n"
          ]
        }
      ]
    },
    {
      "cell_type": "code",
      "source": [
        "model, history = run_model(model, \"Dense\", training_images, val_images, EPOCHS, patience=5, monitor='val_loss', class_weight=class_weight)"
      ],
      "metadata": {
        "id": "Gzv6FYdNUjPG",
        "colab": {
          "base_uri": "https://localhost:8080/"
        },
        "outputId": "4ec9b6c4-5f7c-4da5-ca33-eaeb6f4f1784"
      },
      "execution_count": null,
      "outputs": [
        {
          "output_type": "stream",
          "name": "stdout",
          "text": [
            "Epoch 1/50\n",
            "219/220 [============================>.] - ETA: 0s - loss: 1.3957 - accuracy: 0.6391\n",
            "Epoch 1: val_loss improved from inf to 0.85902, saving model to /content/models/Dense.h5\n",
            "220/220 [==============================] - 38s 146ms/step - loss: 1.3958 - accuracy: 0.6393 - val_loss: 0.8590 - val_accuracy: 0.6720\n",
            "Epoch 2/50\n",
            "219/220 [============================>.] - ETA: 0s - loss: 1.0683 - accuracy: 0.7018\n",
            "Epoch 2: val_loss improved from 0.85902 to 0.83657, saving model to /content/models/Dense.h5\n",
            "220/220 [==============================] - 30s 132ms/step - loss: 1.0679 - accuracy: 0.7017 - val_loss: 0.8366 - val_accuracy: 0.6813\n",
            "Epoch 3/50\n",
            "219/220 [============================>.] - ETA: 0s - loss: 0.9509 - accuracy: 0.7412\n",
            "Epoch 3: val_loss improved from 0.83657 to 0.73514, saving model to /content/models/Dense.h5\n",
            "220/220 [==============================] - 30s 132ms/step - loss: 0.9503 - accuracy: 0.7412 - val_loss: 0.7351 - val_accuracy: 0.7140\n",
            "Epoch 4/50\n",
            "219/220 [============================>.] - ETA: 0s - loss: 0.8527 - accuracy: 0.7553\n",
            "Epoch 4: val_loss did not improve from 0.73514\n",
            "220/220 [==============================] - 30s 134ms/step - loss: 0.8523 - accuracy: 0.7553 - val_loss: 0.8085 - val_accuracy: 0.6887\n",
            "Epoch 5/50\n",
            "219/220 [============================>.] - ETA: 0s - loss: 0.7814 - accuracy: 0.7754\n",
            "Epoch 5: val_loss did not improve from 0.73514\n",
            "220/220 [==============================] - 32s 140ms/step - loss: 0.7810 - accuracy: 0.7753 - val_loss: 0.9053 - val_accuracy: 0.6600\n",
            "Epoch 6/50\n",
            "219/220 [============================>.] - ETA: 0s - loss: 0.6926 - accuracy: 0.7925\n",
            "Epoch 6: val_loss improved from 0.73514 to 0.71338, saving model to /content/models/Dense.h5\n",
            "220/220 [==============================] - 30s 133ms/step - loss: 0.6922 - accuracy: 0.7927 - val_loss: 0.7134 - val_accuracy: 0.7507\n",
            "Epoch 7/50\n",
            "219/220 [============================>.] - ETA: 0s - loss: 0.6308 - accuracy: 0.8101\n",
            "Epoch 7: val_loss improved from 0.71338 to 0.69422, saving model to /content/models/Dense.h5\n",
            "220/220 [==============================] - 31s 137ms/step - loss: 0.6305 - accuracy: 0.8101 - val_loss: 0.6942 - val_accuracy: 0.7440\n",
            "Epoch 8/50\n",
            "219/220 [============================>.] - ETA: 0s - loss: 0.5850 - accuracy: 0.8192\n",
            "Epoch 8: val_loss improved from 0.69422 to 0.67431, saving model to /content/models/Dense.h5\n",
            "220/220 [==============================] - 30s 132ms/step - loss: 0.5847 - accuracy: 0.8194 - val_loss: 0.6743 - val_accuracy: 0.7680\n",
            "Epoch 9/50\n",
            "219/220 [============================>.] - ETA: 0s - loss: 0.5206 - accuracy: 0.8298\n",
            "Epoch 9: val_loss did not improve from 0.67431\n",
            "220/220 [==============================] - 29s 130ms/step - loss: 0.5204 - accuracy: 0.8298 - val_loss: 0.7201 - val_accuracy: 0.7560\n",
            "Epoch 10/50\n",
            "219/220 [============================>.] - ETA: 0s - loss: 0.4962 - accuracy: 0.8395\n",
            "Epoch 10: val_loss did not improve from 0.67431\n",
            "220/220 [==============================] - 30s 135ms/step - loss: 0.4964 - accuracy: 0.8395 - val_loss: 0.7135 - val_accuracy: 0.7533\n",
            "Epoch 11/50\n",
            "219/220 [============================>.] - ETA: 0s - loss: 0.4309 - accuracy: 0.8564\n",
            "Epoch 11: val_loss did not improve from 0.67431\n",
            "220/220 [==============================] - 29s 130ms/step - loss: 0.4307 - accuracy: 0.8564 - val_loss: 0.7704 - val_accuracy: 0.7400\n",
            "Epoch 12/50\n",
            "219/220 [============================>.] - ETA: 0s - loss: 0.3966 - accuracy: 0.8682\n",
            "Epoch 12: val_loss did not improve from 0.67431\n",
            "220/220 [==============================] - 29s 130ms/step - loss: 0.3965 - accuracy: 0.8681 - val_loss: 0.7272 - val_accuracy: 0.7680\n",
            "Epoch 13/50\n",
            "219/220 [============================>.] - ETA: 0s - loss: 0.3375 - accuracy: 0.8824\n",
            "Epoch 13: val_loss did not improve from 0.67431\n",
            "220/220 [==============================] - 29s 130ms/step - loss: 0.3372 - accuracy: 0.8825 - val_loss: 0.7133 - val_accuracy: 0.7760\n"
          ]
        }
      ]
    },
    {
      "cell_type": "code",
      "source": [
        "evaluate_model(model, test_images)"
      ],
      "metadata": {
        "id": "E38WM4UIUjfH",
        "colab": {
          "base_uri": "https://localhost:8080/"
        },
        "outputId": "bb0c072c-de57-4ef6-d31a-3bb07f92dc6e"
      },
      "execution_count": null,
      "outputs": [
        {
          "output_type": "stream",
          "name": "stdout",
          "text": [
            "48/48 [==============================] - 7s 110ms/step - loss: 0.6770 - accuracy: 0.7538\n",
            "Loss on test set: 0.67701256275177\n",
            "Accuracy on test set: 0.75380539894104\n",
            "                precision    recall  f1-score   support\n",
            "\n",
            "       Actinic     0.4634    0.3800    0.4176        50\n",
            "           BCC     0.5890    0.5375    0.5621        80\n",
            "Dermatofibroma     0.2500    0.3333    0.2857        18\n",
            "     Keratosis     0.4706    0.6265    0.5375       166\n",
            "      Melanoma     0.4516    0.4167    0.4334       168\n",
            "          Nevu     0.9042    0.8719    0.8878      1007\n",
            "      Vascular     0.7308    0.8636    0.7917        22\n",
            "\n",
            "      accuracy                         0.7538      1511\n",
            "     macro avg     0.5514    0.5756    0.5594      1511\n",
            "  weighted avg     0.7647    0.7538    0.7574      1511\n",
            "\n"
          ]
        }
      ]
    },
    {
      "cell_type": "code",
      "source": [
        "plot_confusionmatrix(model, test_images)"
      ],
      "metadata": {
        "id": "sWKfR63sUjfI",
        "colab": {
          "base_uri": "https://localhost:8080/"
        },
        "outputId": "28f500a0-4e69-480a-d70b-783206646a86"
      },
      "execution_count": null,
      "outputs": [
        {
          "output_type": "stream",
          "name": "stdout",
          "text": [
            "48/48 [==============================] - 5s 111ms/step\n"
          ]
        },
        {
          "output_type": "display_data",
          "data": {
            "text/plain": [
              "<Figure size 720x720 with 2 Axes>"
            ],
            "image/png": "[encoded data removed]"
          },
          "metadata": {
            "needs_background": "light"
          }
        }
      ]
    },
    {
      "cell_type": "markdown",
      "source": [
        "### Dense Layer and Dropout"
      ],
      "metadata": {
        "id": "nkvnVHVTM0XL"
      }
    },
    {
      "cell_type": "code",
      "source": [
        "inputs = keras.Input(shape=(IMAGE_HEIGHT,IMAGE_WIDTH,3))\n",
        "x = keras.applications.densenet.preprocess_input(inputs)\n",
        "x = densenet(x)\n",
        "\n",
        "x = layers.GlobalAveragePooling2D(name='gap')(x)\n",
        "x = layers.Flatten(name='flatten')(x)\n",
        "x = layers.Dense(512,activation='relu', name='classifier_hidden')(x)\n",
        "x = layers.Dropout(DROPOUT)(x)\n",
        "output = layers.Dense(len(CLASSES), activation='softmax')(x)\n",
        "\n",
        "model = tf.keras.models.Model(inputs=inputs, outputs=output, name=\"DenseNet\")\n",
        "\n",
        "model = compile_model(model, loss=\"sparse_categorical_crossentropy\")\n",
        "model.summary()"
      ],
      "metadata": {
        "id": "5UAMDmzXNGCY",
        "colab": {
          "base_uri": "https://localhost:8080/"
        },
        "outputId": "6554c45a-87e3-46c3-d798-b4749107a9b5"
      },
      "execution_count": null,
      "outputs": [
        {
          "output_type": "stream",
          "name": "stdout",
          "text": [
            "Model: \"DenseNet\"\n",
            "_________________________________________________________________\n",
            " Layer (type)                Output Shape              Param #   \n",
            "=================================================================\n",
            " input_3 (InputLayer)        [(None, 224, 224, 3)]     0         \n",
            "                                                                 \n",
            " tf.math.truediv_2 (TFOpLamb  (None, 224, 224, 3)      0         \n",
            " da)                                                             \n",
            "                                                                 \n",
            " tf.nn.bias_add_1 (TFOpLambd  (None, 224, 224, 3)      0         \n",
            " a)                                                              \n",
            "                                                                 \n",
            " tf.math.truediv_3 (TFOpLamb  (None, 224, 224, 3)      0         \n",
            " da)                                                             \n",
            "                                                                 \n",
            " densenet121 (Functional)    (None, 7, 7, 1024)        7037504   \n",
            "                                                                 \n",
            " gap (GlobalAveragePooling2D  (None, 1024)             0         \n",
            " )                                                               \n",
            "                                                                 \n",
            " flatten (Flatten)           (None, 1024)              0         \n",
            "                                                                 \n",
            " classifier_hidden (Dense)   (None, 512)               524800    \n",
            "                                                                 \n",
            " dropout (Dropout)           (None, 512)               0         \n",
            "                                                                 \n",
            " dense_1 (Dense)             (None, 7)                 3591      \n",
            "                                                                 \n",
            "=================================================================\n",
            "Total params: 7,565,895\n",
            "Trainable params: 528,391\n",
            "Non-trainable params: 7,037,504\n",
            "_________________________________________________________________\n"
          ]
        }
      ]
    },
    {
      "cell_type": "code",
      "source": [
        "model, history = run_model(model, \"DenseDropout\", training_images, val_images, EPOCHS, patience=5, monitor='val_loss', class_weight=class_weight)"
      ],
      "metadata": {
        "id": "ELSe2FycNWcB",
        "colab": {
          "base_uri": "https://localhost:8080/"
        },
        "outputId": "cb153b9a-b860-4755-a67c-d8503b32cfb9"
      },
      "execution_count": null,
      "outputs": [
        {
          "output_type": "stream",
          "name": "stdout",
          "text": [
            "Epoch 1/50\n",
            "219/220 [============================>.] - ETA: 0s - loss: 1.4877 - accuracy: 0.6237\n",
            "Epoch 1: val_loss improved from inf to 1.00187, saving model to /content/models/Dense.h5\n",
            "220/220 [==============================] - 38s 141ms/step - loss: 1.4869 - accuracy: 0.6236 - val_loss: 1.0019 - val_accuracy: 0.6040\n",
            "Epoch 2/50\n",
            "219/220 [============================>.] - ETA: 0s - loss: 1.1545 - accuracy: 0.6872\n",
            "Epoch 2: val_loss improved from 1.00187 to 0.75709, saving model to /content/models/Dense.h5\n",
            "220/220 [==============================] - 30s 132ms/step - loss: 1.1546 - accuracy: 0.6873 - val_loss: 0.7571 - val_accuracy: 0.7273\n",
            "Epoch 3/50\n",
            "219/220 [============================>.] - ETA: 0s - loss: 1.0573 - accuracy: 0.7036\n",
            "Epoch 3: val_loss did not improve from 0.75709\n",
            "220/220 [==============================] - 29s 129ms/step - loss: 1.0572 - accuracy: 0.7039 - val_loss: 0.8134 - val_accuracy: 0.6933\n",
            "Epoch 4/50\n",
            "219/220 [============================>.] - ETA: 0s - loss: 0.9740 - accuracy: 0.7220\n",
            "Epoch 4: val_loss did not improve from 0.75709\n",
            "220/220 [==============================] - 30s 134ms/step - loss: 0.9739 - accuracy: 0.7221 - val_loss: 0.8025 - val_accuracy: 0.6933\n",
            "Epoch 5/50\n",
            "219/220 [============================>.] - ETA: 0s - loss: 0.9182 - accuracy: 0.7386\n",
            "Epoch 5: val_loss did not improve from 0.75709\n",
            "220/220 [==============================] - 29s 130ms/step - loss: 0.9183 - accuracy: 0.7387 - val_loss: 0.8366 - val_accuracy: 0.6827\n",
            "Epoch 6/50\n",
            "219/220 [============================>.] - ETA: 0s - loss: 0.8845 - accuracy: 0.7384\n",
            "Epoch 6: val_loss did not improve from 0.75709\n",
            "220/220 [==============================] - 29s 130ms/step - loss: 0.8842 - accuracy: 0.7382 - val_loss: 0.8237 - val_accuracy: 0.6853\n",
            "Epoch 7/50\n",
            "219/220 [============================>.] - ETA: 0s - loss: 0.8377 - accuracy: 0.7497\n",
            "Epoch 7: val_loss improved from 0.75709 to 0.71161, saving model to /content/models/Dense.h5\n",
            "220/220 [==============================] - 31s 138ms/step - loss: 0.8374 - accuracy: 0.7498 - val_loss: 0.7116 - val_accuracy: 0.7340\n",
            "Epoch 8/50\n",
            "219/220 [============================>.] - ETA: 0s - loss: 0.7935 - accuracy: 0.7573\n",
            "Epoch 8: val_loss improved from 0.71161 to 0.66775, saving model to /content/models/Dense.h5\n",
            "220/220 [==============================] - 30s 132ms/step - loss: 0.7934 - accuracy: 0.7575 - val_loss: 0.6677 - val_accuracy: 0.7513\n",
            "Epoch 9/50\n",
            "219/220 [============================>.] - ETA: 0s - loss: 0.7369 - accuracy: 0.7723\n",
            "Epoch 9: val_loss did not improve from 0.66775\n",
            "220/220 [==============================] - 29s 130ms/step - loss: 0.7365 - accuracy: 0.7725 - val_loss: 0.7324 - val_accuracy: 0.7087\n",
            "Epoch 10/50\n",
            "219/220 [============================>.] - ETA: 0s - loss: 0.6946 - accuracy: 0.7818\n",
            "Epoch 10: val_loss did not improve from 0.66775\n",
            "220/220 [==============================] - 30s 132ms/step - loss: 0.6942 - accuracy: 0.7819 - val_loss: 0.6680 - val_accuracy: 0.7447\n",
            "Epoch 11/50\n",
            "219/220 [============================>.] - ETA: 0s - loss: 0.6644 - accuracy: 0.7917\n",
            "Epoch 11: val_loss did not improve from 0.66775\n",
            "220/220 [==============================] - 29s 130ms/step - loss: 0.6644 - accuracy: 0.7914 - val_loss: 0.7075 - val_accuracy: 0.7407\n",
            "Epoch 12/50\n",
            "219/220 [============================>.] - ETA: 0s - loss: 0.6629 - accuracy: 0.7942\n",
            "Epoch 12: val_loss did not improve from 0.66775\n",
            "220/220 [==============================] - 29s 130ms/step - loss: 0.6628 - accuracy: 0.7944 - val_loss: 0.8853 - val_accuracy: 0.6780\n",
            "Epoch 13/50\n",
            "219/220 [============================>.] - ETA: 0s - loss: 0.6212 - accuracy: 0.7967\n",
            "Epoch 13: val_loss did not improve from 0.66775\n",
            "220/220 [==============================] - 29s 130ms/step - loss: 0.6212 - accuracy: 0.7965 - val_loss: 0.7133 - val_accuracy: 0.7327\n"
          ]
        }
      ]
    },
    {
      "cell_type": "code",
      "source": [
        "show_training_and_validation_performance(history)"
      ],
      "metadata": {
        "id": "20RcW3cUNi5X",
        "colab": {
          "base_uri": "https://localhost:8080/"
        },
        "outputId": "8c4c1e2c-1280-45fb-c459-121020e45856"
      },
      "execution_count": null,
      "outputs": [
        {
          "output_type": "display_data",
          "data": {
            "text/plain": [
              "<Figure size 432x288 with 1 Axes>"
            ],
            "image/png": "[encoded data removed]"
          },
          "metadata": {
            "needs_background": "light"
          }
        },
        {
          "output_type": "display_data",
          "data": {
            "text/plain": [
              "<Figure size 432x288 with 1 Axes>"
            ],
            "image/png": "[encoded data removed]"
          },
          "metadata": {
            "needs_background": "light"
          }
        }
      ]
    },
    {
      "cell_type": "code",
      "source": [
        "evaluate_model(model, test_images)"
      ],
      "metadata": {
        "id": "SvYwsUw6Nk6C",
        "colab": {
          "base_uri": "https://localhost:8080/"
        },
        "outputId": "128c4018-891e-45f5-e7e7-2b2647b196d8"
      },
      "execution_count": null,
      "outputs": [
        {
          "output_type": "stream",
          "name": "stdout",
          "text": [
            "48/48 [==============================] - 7s 112ms/step - loss: 0.6523 - accuracy: 0.7637\n",
            "Loss on test set: 0.6523261070251465\n",
            "Accuracy on test set: 0.7637326121330261\n",
            "                precision    recall  f1-score   support\n",
            "\n",
            "       Actinic     0.5000    0.3400    0.4048        50\n",
            "           BCC     0.4385    0.7125    0.5429        80\n",
            "Dermatofibroma     0.2917    0.3889    0.3333        18\n",
            "     Keratosis     0.5763    0.4096    0.4789       166\n",
            "      Melanoma     0.5030    0.5000    0.5015       168\n",
            "          Nevu     0.8938    0.8947    0.8943      1007\n",
            "      Vascular     0.6667    0.9091    0.7692        22\n",
            "\n",
            "      accuracy                         0.7637      1511\n",
            "     macro avg     0.5528    0.5936    0.5607      1511\n",
            "  weighted avg     0.7679    0.7637    0.7617      1511\n",
            "\n"
          ]
        }
      ]
    },
    {
      "cell_type": "code",
      "source": [
        "plot_confusionmatrix(model, test_images)"
      ],
      "metadata": {
        "id": "YEbkGHRmNmz-",
        "colab": {
          "base_uri": "https://localhost:8080/"
        },
        "outputId": "ba4da86f-98e9-4441-a922-6e16bb9941c9"
      },
      "execution_count": null,
      "outputs": [
        {
          "output_type": "stream",
          "name": "stdout",
          "text": [
            "48/48 [==============================] - 5s 112ms/step\n"
          ]
        },
        {
          "output_type": "display_data",
          "data": {
            "text/plain": [
              "<Figure size 720x720 with 2 Axes>"
            ],
            "image/png": "[encoded data removed]"
          },
          "metadata": {
            "needs_background": "light"
          }
        }
      ]
    },
    {
      "cell_type": "code",
      "source": [],
      "metadata": {
        "id": "0eHY9UFs6cYA"
      },
      "execution_count": null,
      "outputs": []
    },
    {
      "cell_type": "markdown",
      "source": [
        "## Fine Tuning"
      ],
      "metadata": {
        "id": "yOH82yrqAhCB"
      }
    },
    {
      "cell_type": "code",
      "source": [
        "model = models.load_model('/content/gdrive/MyDrive/SkinCancer/Models/DenseNet/DenseDropout.h5')"
      ],
      "metadata": {
        "id": "rPBw41KJAiM4"
      },
      "execution_count": null,
      "outputs": []
    },
    {
      "cell_type": "markdown",
      "source": [
        "### Last Block"
      ],
      "metadata": {
        "id": "xoO3veaHHFDC"
      }
    },
    {
      "cell_type": "code",
      "source": [
        "trainable = False\n",
        "\n",
        "for layer in model.get_layer(\"densenet121\").layers:\n",
        "    if layer.name == 'conv5_block15_0_bn':\n",
        "        trainable = True\n",
        "    is_bn = layer.name.endswith('bn')  # keep BatchNorm freezed, good practice for finetuned models\n",
        "    if not is_bn:\n",
        "      layer.trainable = trainable\n",
        "\n",
        "model = compile_model(model, loss=\"sparse_categorical_crossentropy\", learning_rate=0.0001)\n",
        "model.summary()"
      ],
      "metadata": {
        "colab": {
          "base_uri": "https://localhost:8080/"
        },
        "id": "7JmSK_P7HEox",
        "outputId": "916ed0f2-96f0-46a6-e38f-748b276ffd76"
      },
      "execution_count": null,
      "outputs": [
        {
          "output_type": "stream",
          "name": "stdout",
          "text": [
            "Model: \"DenseNet\"\n",
            "_________________________________________________________________\n",
            " Layer (type)                Output Shape              Param #   \n",
            "=================================================================\n",
            " input_3 (InputLayer)        [(None, 224, 224, 3)]     0         \n",
            "                                                                 \n",
            " tf.math.truediv_2 (TFOpLamb  (None, 224, 224, 3)      0         \n",
            " da)                                                             \n",
            "                                                                 \n",
            " tf.nn.bias_add_1 (TFOpLambd  (None, 224, 224, 3)      0         \n",
            " a)                                                              \n",
            "                                                                 \n",
            " tf.math.truediv_3 (TFOpLamb  (None, 224, 224, 3)      0         \n",
            " da)                                                             \n",
            "                                                                 \n",
            " densenet121 (Functional)    (None, 7, 7, 1024)        7037504   \n",
            "                                                                 \n",
            " gap (GlobalAveragePooling2D  (None, 1024)             0         \n",
            " )                                                               \n",
            "                                                                 \n",
            " flatten (Flatten)           (None, 1024)              0         \n",
            "                                                                 \n",
            " classifier_hidden (Dense)   (None, 512)               524800    \n",
            "                                                                 \n",
            " dropout (Dropout)           (None, 512)               0         \n",
            "                                                                 \n",
            " dense_1 (Dense)             (None, 7)                 3591      \n",
            "                                                                 \n",
            "=================================================================\n",
            "Total params: 7,565,895\n",
            "Trainable params: 851,975\n",
            "Non-trainable params: 6,713,920\n",
            "_________________________________________________________________\n"
          ]
        }
      ]
    },
    {
      "cell_type": "code",
      "source": [
        "model, history = run_model(model, \"FT_Last1\", training_images, val_images, EPOCHS, patience=5, monitor='val_loss', class_weight=class_weight)"
      ],
      "metadata": {
        "colab": {
          "base_uri": "https://localhost:8080/"
        },
        "id": "l_FIND7aHv5-",
        "outputId": "c120aae6-eb75-4526-e858-5820046dc546"
      },
      "execution_count": null,
      "outputs": [
        {
          "output_type": "stream",
          "name": "stdout",
          "text": [
            "Epoch 1/50\n",
            "219/220 [============================>.] - ETA: 0s - loss: 0.3226 - accuracy: 0.8884\n",
            "Epoch 1: val_loss improved from inf to 0.68834, saving model to /content/models/FT_Last1.h5\n",
            "220/220 [==============================] - 38s 145ms/step - loss: 0.3224 - accuracy: 0.8885 - val_loss: 0.6883 - val_accuracy: 0.7513\n",
            "Epoch 2/50\n",
            "219/220 [============================>.] - ETA: 0s - loss: 0.2799 - accuracy: 0.8995\n",
            "Epoch 2: val_loss improved from 0.68834 to 0.63456, saving model to /content/models/FT_Last1.h5\n",
            "220/220 [==============================] - 32s 143ms/step - loss: 0.2797 - accuracy: 0.8996 - val_loss: 0.6346 - val_accuracy: 0.7800\n",
            "Epoch 3/50\n",
            "219/220 [============================>.] - ETA: 0s - loss: 0.2424 - accuracy: 0.9115\n",
            "Epoch 3: val_loss did not improve from 0.63456\n",
            "220/220 [==============================] - 31s 137ms/step - loss: 0.2423 - accuracy: 0.9116 - val_loss: 0.7799 - val_accuracy: 0.7513\n",
            "Epoch 4/50\n",
            "219/220 [============================>.] - ETA: 0s - loss: 0.2190 - accuracy: 0.9162\n",
            "Epoch 4: val_loss did not improve from 0.63456\n",
            "220/220 [==============================] - 30s 132ms/step - loss: 0.2190 - accuracy: 0.9162 - val_loss: 0.6590 - val_accuracy: 0.7893\n",
            "Epoch 5/50\n",
            "219/220 [============================>.] - ETA: 0s - loss: 0.1937 - accuracy: 0.9277\n",
            "Epoch 5: val_loss did not improve from 0.63456\n",
            "220/220 [==============================] - 30s 134ms/step - loss: 0.1940 - accuracy: 0.9276 - val_loss: 0.6496 - val_accuracy: 0.8007\n",
            "Epoch 6/50\n",
            "219/220 [============================>.] - ETA: 0s - loss: 0.1629 - accuracy: 0.9368\n",
            "Epoch 6: val_loss did not improve from 0.63456\n",
            "220/220 [==============================] - 30s 131ms/step - loss: 0.1628 - accuracy: 0.9368 - val_loss: 0.6803 - val_accuracy: 0.7980\n",
            "Epoch 7/50\n",
            "219/220 [============================>.] - ETA: 0s - loss: 0.1475 - accuracy: 0.9398\n",
            "Epoch 7: val_loss did not improve from 0.63456\n",
            "220/220 [==============================] - 30s 135ms/step - loss: 0.1474 - accuracy: 0.9397 - val_loss: 0.7244 - val_accuracy: 0.7940\n"
          ]
        }
      ]
    },
    {
      "cell_type": "code",
      "source": [
        "show_training_and_validation_performance(history)"
      ],
      "metadata": {
        "colab": {
          "base_uri": "https://localhost:8080/"
        },
        "id": "7VUZER_kHv5_",
        "outputId": "3e86f253-64a4-431e-8712-fd7eec54ef74"
      },
      "execution_count": null,
      "outputs": [
        {
          "output_type": "display_data",
          "data": {
            "text/plain": [
              "<Figure size 432x288 with 1 Axes>"
            ],
            "image/png": "[encoded data removed]"
          },
          "metadata": {
            "needs_background": "light"
          }
        },
        {
          "output_type": "display_data",
          "data": {
            "text/plain": [
              "<Figure size 432x288 with 1 Axes>"
            ],
            "image/png": "[encoded data removed]"
          },
          "metadata": {
            "needs_background": "light"
          }
        }
      ]
    },
    {
      "cell_type": "code",
      "source": [
        "evaluate_model(model, test_images)"
      ],
      "metadata": {
        "colab": {
          "base_uri": "https://localhost:8080/"
        },
        "id": "txWRAgLmHv5_",
        "outputId": "8c90da00-0633-4052-d7f9-6929f8a4831f"
      },
      "execution_count": null,
      "outputs": [
        {
          "output_type": "stream",
          "name": "stdout",
          "text": [
            "48/48 [==============================] - 8s 110ms/step - loss: 0.6500 - accuracy: 0.8074\n",
            "Loss on test set: 0.6500093340873718\n",
            "Accuracy on test set: 0.807412326335907\n",
            "                precision    recall  f1-score   support\n",
            "\n",
            "       Actinic     0.5750    0.4600    0.5111        50\n",
            "           BCC     0.7377    0.5625    0.6383        80\n",
            "Dermatofibroma     0.6364    0.3889    0.4828        18\n",
            "     Keratosis     0.5941    0.7229    0.6522       166\n",
            "      Melanoma     0.5266    0.5298    0.5282       168\n",
            "          Nevu     0.9133    0.9106    0.9120      1007\n",
            "      Vascular     0.7917    0.8636    0.8261        22\n",
            "\n",
            "      accuracy                         0.8074      1511\n",
            "     macro avg     0.6821    0.6340    0.6501      1511\n",
            "  weighted avg     0.8097    0.8074    0.8066      1511\n",
            "\n"
          ]
        }
      ]
    },
    {
      "cell_type": "code",
      "source": [
        "plot_confusionmatrix(model, test_images)"
      ],
      "metadata": {
        "colab": {
          "base_uri": "https://localhost:8080/"
        },
        "id": "_XKWMJxNHv5_",
        "outputId": "d4fa09b2-ab02-41d3-a9d3-0bcdd299e52d"
      },
      "execution_count": null,
      "outputs": [
        {
          "output_type": "stream",
          "name": "stdout",
          "text": [
            "48/48 [==============================] - 5s 112ms/step\n"
          ]
        },
        {
          "output_type": "display_data",
          "data": {
            "text/plain": [
              "<Figure size 720x720 with 2 Axes>"
            ],
            "image/png": "[encoded data removed]"
          },
          "metadata": {
            "needs_background": "light"
          }
        }
      ]
    },
    {
      "cell_type": "markdown",
      "source": [
        "### Last 3 Blocks"
      ],
      "metadata": {
        "id": "TTfRAwlTlMak"
      }
    },
    {
      "cell_type": "code",
      "source": [
        "model = models.load_model('/content/gdrive/MyDrive/SkinCancer/Models/DenseNet/DenseDropout.h5')"
      ],
      "metadata": {
        "id": "AkPyMEHRlT3z"
      },
      "execution_count": null,
      "outputs": []
    },
    {
      "cell_type": "code",
      "source": [
        "trainable = False\n",
        "\n",
        "for layer in model.get_layer(\"densenet121\").layers:\n",
        "    if layer.name == 'conv5_block13_0_bn':\n",
        "        trainable = True\n",
        "    is_bn = layer.name.endswith('bn')  # keep BatchNorm freezed, good practice for finetuned models\n",
        "    if not is_bn:\n",
        "      layer.trainable = trainable\n",
        "\n",
        "model = compile_model(model, loss=\"sparse_categorical_crossentropy\", learning_rate=0.0001)\n",
        "model.summary()"
      ],
      "metadata": {
        "colab": {
          "base_uri": "https://localhost:8080/"
        },
        "outputId": "63a43852-d5ac-491d-976e-34a2b73826a4",
        "id": "hmVS1pg6lMal"
      },
      "execution_count": null,
      "outputs": [
        {
          "output_type": "stream",
          "name": "stdout",
          "text": [
            "Model: \"DenseNet\"\n",
            "_________________________________________________________________\n",
            " Layer (type)                Output Shape              Param #   \n",
            "=================================================================\n",
            " input_3 (InputLayer)        [(None, 224, 224, 3)]     0         \n",
            "                                                                 \n",
            " tf.math.truediv_2 (TFOpLamb  (None, 224, 224, 3)      0         \n",
            " da)                                                             \n",
            "                                                                 \n",
            " tf.nn.bias_add_1 (TFOpLambd  (None, 224, 224, 3)      0         \n",
            " a)                                                              \n",
            "                                                                 \n",
            " tf.math.truediv_3 (TFOpLamb  (None, 224, 224, 3)      0         \n",
            " da)                                                             \n",
            "                                                                 \n",
            " densenet121 (Functional)    (None, 7, 7, 1024)        7037504   \n",
            "                                                                 \n",
            " gap (GlobalAveragePooling2D  (None, 1024)             0         \n",
            " )                                                               \n",
            "                                                                 \n",
            " flatten (Flatten)           (None, 1024)              0         \n",
            "                                                                 \n",
            " classifier_hidden (Dense)   (None, 512)               524800    \n",
            "                                                                 \n",
            " dropout (Dropout)           (None, 512)               0         \n",
            "                                                                 \n",
            " dense_1 (Dense)             (None, 7)                 3591      \n",
            "                                                                 \n",
            "=================================================================\n",
            "Total params: 7,565,895\n",
            "Trainable params: 1,159,175\n",
            "Non-trainable params: 6,406,720\n",
            "_________________________________________________________________\n"
          ]
        }
      ]
    },
    {
      "cell_type": "code",
      "source": [
        "model, history = run_model(model, \"FT_Last3\", training_images, val_images, EPOCHS, patience=5, monitor='val_loss', class_weight=class_weight)"
      ],
      "metadata": {
        "colab": {
          "base_uri": "https://localhost:8080/"
        },
        "outputId": "52b31f01-717b-4744-b480-8bd8f96a7891",
        "id": "m_1hk7t9lMal"
      },
      "execution_count": null,
      "outputs": [
        {
          "output_type": "stream",
          "name": "stdout",
          "text": [
            "Epoch 1/50\n",
            "220/220 [==============================] - ETA: 0s - loss: 0.7180 - accuracy: 0.7904\n",
            "Epoch 1: val_loss improved from inf to 0.67265, saving model to /content/models/FT_Last1.h5\n",
            "220/220 [==============================] - 41s 156ms/step - loss: 0.7180 - accuracy: 0.7904 - val_loss: 0.6727 - val_accuracy: 0.7373\n",
            "Epoch 2/50\n",
            "219/220 [============================>.] - ETA: 0s - loss: 0.6171 - accuracy: 0.8069\n",
            "Epoch 2: val_loss did not improve from 0.67265\n",
            "220/220 [==============================] - 30s 134ms/step - loss: 0.6178 - accuracy: 0.8070 - val_loss: 0.7915 - val_accuracy: 0.7047\n",
            "Epoch 3/50\n",
            "219/220 [============================>.] - ETA: 0s - loss: 0.5544 - accuracy: 0.8189\n",
            "Epoch 3: val_loss improved from 0.67265 to 0.66496, saving model to /content/models/FT_Last1.h5\n",
            "220/220 [==============================] - 31s 137ms/step - loss: 0.5540 - accuracy: 0.8191 - val_loss: 0.6650 - val_accuracy: 0.7493\n",
            "Epoch 4/50\n",
            "219/220 [============================>.] - ETA: 0s - loss: 0.4751 - accuracy: 0.8426\n",
            "Epoch 4: val_loss did not improve from 0.66496\n",
            "220/220 [==============================] - 31s 138ms/step - loss: 0.4749 - accuracy: 0.8426 - val_loss: 0.6822 - val_accuracy: 0.7473\n",
            "Epoch 5/50\n",
            "219/220 [============================>.] - ETA: 0s - loss: 0.4005 - accuracy: 0.8563\n",
            "Epoch 5: val_loss improved from 0.66496 to 0.61187, saving model to /content/models/FT_Last1.h5\n",
            "220/220 [==============================] - 31s 137ms/step - loss: 0.4006 - accuracy: 0.8563 - val_loss: 0.6119 - val_accuracy: 0.7900\n",
            "Epoch 6/50\n",
            "219/220 [============================>.] - ETA: 0s - loss: 0.3415 - accuracy: 0.8786\n",
            "Epoch 6: val_loss did not improve from 0.61187\n",
            "220/220 [==============================] - 30s 134ms/step - loss: 0.3412 - accuracy: 0.8787 - val_loss: 0.7659 - val_accuracy: 0.7407\n",
            "Epoch 7/50\n",
            "220/220 [==============================] - ETA: 0s - loss: 0.3072 - accuracy: 0.8884\n",
            "Epoch 7: val_loss did not improve from 0.61187\n",
            "220/220 [==============================] - 32s 141ms/step - loss: 0.3072 - accuracy: 0.8884 - val_loss: 0.7147 - val_accuracy: 0.7673\n",
            "Epoch 8/50\n",
            "219/220 [============================>.] - ETA: 0s - loss: 0.2669 - accuracy: 0.9020\n",
            "Epoch 8: val_loss did not improve from 0.61187\n",
            "220/220 [==============================] - 31s 139ms/step - loss: 0.2667 - accuracy: 0.9021 - val_loss: 0.6875 - val_accuracy: 0.7787\n",
            "Epoch 9/50\n",
            "219/220 [============================>.] - ETA: 0s - loss: 0.2212 - accuracy: 0.9161\n",
            "Epoch 9: val_loss did not improve from 0.61187\n",
            "220/220 [==============================] - 30s 135ms/step - loss: 0.2211 - accuracy: 0.9162 - val_loss: 0.7555 - val_accuracy: 0.7753\n",
            "Epoch 10/50\n",
            "219/220 [============================>.] - ETA: 0s - loss: 0.1671 - accuracy: 0.9345\n",
            "Epoch 10: val_loss did not improve from 0.61187\n",
            "220/220 [==============================] - 30s 134ms/step - loss: 0.1672 - accuracy: 0.9346 - val_loss: 0.7068 - val_accuracy: 0.7840\n"
          ]
        }
      ]
    },
    {
      "cell_type": "code",
      "source": [
        "show_training_and_validation_performance(history)"
      ],
      "metadata": {
        "colab": {
          "base_uri": "https://localhost:8080/"
        },
        "outputId": "74ea6a51-fa8a-407f-ed22-3ca2c8c1c270",
        "id": "mjWc05B3lMam"
      },
      "execution_count": null,
      "outputs": [
        {
          "output_type": "display_data",
          "data": {
            "text/plain": [
              "<Figure size 432x288 with 1 Axes>"
            ],
            "image/png": "[encoded data removed]"
          },
          "metadata": {
            "needs_background": "light"
          }
        },
        {
          "output_type": "display_data",
          "data": {
            "text/plain": [
              "<Figure size 432x288 with 1 Axes>"
            ],
            "image/png": "[encoded data removed]"
          },
          "metadata": {
            "needs_background": "light"
          }
        }
      ]
    },
    {
      "cell_type": "code",
      "source": [
        "evaluate_model(model, test_images)"
      ],
      "metadata": {
        "colab": {
          "base_uri": "https://localhost:8080/"
        },
        "outputId": "050e985a-d5bf-425e-f60b-6a1680f6899c",
        "id": "tZWBNgAdlMam"
      },
      "execution_count": null,
      "outputs": [
        {
          "output_type": "stream",
          "name": "stdout",
          "text": [
            "48/48 [==============================] - 8s 132ms/step - loss: 0.6187 - accuracy: 0.7929\n",
            "Loss on test set: 0.6186519265174866\n",
            "Accuracy on test set: 0.7928524017333984\n",
            "                precision    recall  f1-score   support\n",
            "\n",
            "       Actinic     0.6000    0.4200    0.4941        50\n",
            "           BCC     0.5833    0.7875    0.6702        80\n",
            "Dermatofibroma     0.3182    0.3889    0.3500        18\n",
            "     Keratosis     0.5545    0.7048    0.6207       166\n",
            "      Melanoma     0.6420    0.3095    0.4177       168\n",
            "          Nevu     0.8914    0.9126    0.9019      1007\n",
            "      Vascular     0.8261    0.8636    0.8444        22\n",
            "\n",
            "      accuracy                         0.7929      1511\n",
            "     macro avg     0.6308    0.6267    0.6141      1511\n",
            "  weighted avg     0.7929    0.7929    0.7840      1511\n",
            "\n"
          ]
        }
      ]
    },
    {
      "cell_type": "code",
      "source": [
        "plot_confusionmatrix(model, test_images)"
      ],
      "metadata": {
        "colab": {
          "base_uri": "https://localhost:8080/"
        },
        "outputId": "e716a8cc-b445-4c46-b3c9-d60458480afb",
        "id": "dzEMjha2lMam"
      },
      "execution_count": null,
      "outputs": [
        {
          "output_type": "stream",
          "name": "stdout",
          "text": [
            "48/48 [==============================] - 5s 111ms/step\n"
          ]
        },
        {
          "output_type": "display_data",
          "data": {
            "text/plain": [
              "<Figure size 720x720 with 2 Axes>"
            ],
            "image/png": "[encoded data removed]"
          },
          "metadata": {
            "needs_background": "light"
          }
        }
      ]
    },
    {
      "cell_type": "markdown",
      "source": [
        "### Last Conv Block"
      ],
      "metadata": {
        "id": "_0Y1wiuEnMOB"
      }
    },
    {
      "cell_type": "code",
      "source": [
        "model = models.load_model('/content/gdrive/MyDrive/SkinCancer/Models/DenseNet/DenseDropout.h5')"
      ],
      "metadata": {
        "id": "-AFRabwgnMOC"
      },
      "execution_count": null,
      "outputs": []
    },
    {
      "cell_type": "code",
      "source": [
        "trainable = False\n",
        "\n",
        "for layer in model.get_layer(\"densenet121\").layers:\n",
        "    is_bn = layer.name.endswith('bn')  # keep BatchNorm freezed, good practice for finetuned models\n",
        "    if 'conv5' in layer._name and not is_bn:\n",
        "        layer.trainable = True\n",
        "\n",
        "model = compile_model(model, loss=\"sparse_categorical_crossentropy\", learning_rate=0.0001)\n",
        "model.summary()"
      ],
      "metadata": {
        "colab": {
          "base_uri": "https://localhost:8080/"
        },
        "outputId": "df2e4f1e-841e-4e49-b98c-b2f5745fbebc",
        "id": "jndnHjUrnMOC"
      },
      "execution_count": null,
      "outputs": [
        {
          "output_type": "stream",
          "name": "stdout",
          "text": [
            "Model: \"DenseNet\"\n",
            "_________________________________________________________________\n",
            " Layer (type)                Output Shape              Param #   \n",
            "=================================================================\n",
            " input_3 (InputLayer)        [(None, 224, 224, 3)]     0         \n",
            "                                                                 \n",
            " tf.math.truediv_2 (TFOpLamb  (None, 224, 224, 3)      0         \n",
            " da)                                                             \n",
            "                                                                 \n",
            " tf.nn.bias_add_1 (TFOpLambd  (None, 224, 224, 3)      0         \n",
            " a)                                                              \n",
            "                                                                 \n",
            " tf.math.truediv_3 (TFOpLamb  (None, 224, 224, 3)      0         \n",
            " da)                                                             \n",
            "                                                                 \n",
            " densenet121 (Functional)    (None, 7, 7, 1024)        7037504   \n",
            "                                                                 \n",
            " gap (GlobalAveragePooling2D  (None, 1024)             0         \n",
            " )                                                               \n",
            "                                                                 \n",
            " flatten (Flatten)           (None, 1024)              0         \n",
            "                                                                 \n",
            " classifier_hidden (Dense)   (None, 512)               524800    \n",
            "                                                                 \n",
            " dropout (Dropout)           (None, 512)               0         \n",
            "                                                                 \n",
            " dense_1 (Dense)             (None, 7)                 3591      \n",
            "                                                                 \n",
            "=================================================================\n",
            "Total params: 7,565,895\n",
            "Trainable params: 2,658,311\n",
            "Non-trainable params: 4,907,584\n",
            "_________________________________________________________________\n"
          ]
        }
      ]
    },
    {
      "cell_type": "code",
      "source": [
        "model, history = run_model(model, \"FT_LastWhole\", training_images, val_images, EPOCHS, patience=5, monitor='val_loss', class_weight=class_weight)"
      ],
      "metadata": {
        "colab": {
          "base_uri": "https://localhost:8080/"
        },
        "outputId": "9cab3698-19b3-447b-e94d-951332434fce",
        "id": "7oqByUMQnMOC"
      },
      "execution_count": null,
      "outputs": [
        {
          "output_type": "stream",
          "name": "stdout",
          "text": [
            "Epoch 1/50\n",
            "220/220 [==============================] - ETA: 0s - loss: 0.7681 - accuracy: 0.7740\n",
            "Epoch 1: val_loss improved from inf to 0.66000, saving model to /content/models/FT_LastWhole.h5\n",
            "220/220 [==============================] - 2039s 9s/step - loss: 0.7681 - accuracy: 0.7740 - val_loss: 0.6600 - val_accuracy: 0.7547\n",
            "Epoch 2/50\n",
            "219/220 [============================>.] - ETA: 0s - loss: 0.5687 - accuracy: 0.8193\n",
            "Epoch 2: val_loss improved from 0.66000 to 0.65302, saving model to /content/models/FT_LastWhole.h5\n",
            "220/220 [==============================] - 32s 143ms/step - loss: 0.5690 - accuracy: 0.8192 - val_loss: 0.6530 - val_accuracy: 0.7460\n",
            "Epoch 3/50\n",
            "219/220 [============================>.] - ETA: 0s - loss: 0.4382 - accuracy: 0.8522\n",
            "Epoch 3: val_loss improved from 0.65302 to 0.62037, saving model to /content/models/FT_LastWhole.h5\n",
            "220/220 [==============================] - 32s 143ms/step - loss: 0.4379 - accuracy: 0.8522 - val_loss: 0.6204 - val_accuracy: 0.7700\n",
            "Epoch 4/50\n",
            "219/220 [============================>.] - ETA: 0s - loss: 0.3389 - accuracy: 0.8810\n",
            "Epoch 4: val_loss did not improve from 0.62037\n",
            "220/220 [==============================] - 32s 141ms/step - loss: 0.3386 - accuracy: 0.8811 - val_loss: 0.6338 - val_accuracy: 0.7840\n",
            "Epoch 5/50\n",
            "219/220 [============================>.] - ETA: 0s - loss: 0.2748 - accuracy: 0.9003\n",
            "Epoch 5: val_loss did not improve from 0.62037\n",
            "220/220 [==============================] - 33s 148ms/step - loss: 0.2748 - accuracy: 0.9002 - val_loss: 0.7127 - val_accuracy: 0.7573\n",
            "Epoch 6/50\n",
            "219/220 [============================>.] - ETA: 0s - loss: 0.2245 - accuracy: 0.9241\n",
            "Epoch 6: val_loss did not improve from 0.62037\n",
            "220/220 [==============================] - 32s 141ms/step - loss: 0.2245 - accuracy: 0.9242 - val_loss: 0.6296 - val_accuracy: 0.7947\n",
            "Epoch 7/50\n",
            "219/220 [============================>.] - ETA: 0s - loss: 0.1996 - accuracy: 0.9289\n",
            "Epoch 7: val_loss did not improve from 0.62037\n",
            "220/220 [==============================] - 32s 141ms/step - loss: 0.1995 - accuracy: 0.9290 - val_loss: 0.6906 - val_accuracy: 0.7920\n",
            "Epoch 8/50\n",
            "219/220 [============================>.] - ETA: 0s - loss: 0.1674 - accuracy: 0.9401\n",
            "Epoch 8: val_loss did not improve from 0.62037\n",
            "220/220 [==============================] - 32s 141ms/step - loss: 0.1672 - accuracy: 0.9401 - val_loss: 0.6771 - val_accuracy: 0.8040\n"
          ]
        }
      ]
    },
    {
      "cell_type": "code",
      "source": [
        "show_training_and_validation_performance(history)"
      ],
      "metadata": {
        "colab": {
          "base_uri": "https://localhost:8080/",
          "height": 545
        },
        "outputId": "c5203eb8-d77c-4afd-b4c9-bd2bc27fd725",
        "id": "9uMXNtKPnMOC"
      },
      "execution_count": null,
      "outputs": [
        {
          "output_type": "display_data",
          "data": {
            "text/plain": [
              "<Figure size 432x288 with 1 Axes>"
            ],
            "image/png": "[encoded data removed]"
          },
          "metadata": {
            "needs_background": "light"
          }
        },
        {
          "output_type": "display_data",
          "data": {
            "text/plain": [
              "<Figure size 432x288 with 1 Axes>"
            ],
            "image/png": "[encoded data removed]"
          },
          "metadata": {
            "needs_background": "light"
          }
        }
      ]
    },
    {
      "cell_type": "code",
      "source": [
        "evaluate_model(model, test_images)"
      ],
      "metadata": {
        "colab": {
          "base_uri": "https://localhost:8080/"
        },
        "outputId": "843ec11f-c697-46f7-892b-80d72306c739",
        "id": "mV8ZClfhnMOD"
      },
      "execution_count": null,
      "outputs": [
        {
          "output_type": "stream",
          "name": "stdout",
          "text": [
            "48/48 [==============================] - 359s 7s/step - loss: 0.6275 - accuracy: 0.7823\n",
            "Loss on test set: 0.6274610161781311\n",
            "Accuracy on test set: 0.7822633981704712\n",
            "                precision    recall  f1-score   support\n",
            "\n",
            "       Actinic     0.5758    0.3800    0.4578        50\n",
            "           BCC     0.6933    0.6500    0.6710        80\n",
            "Dermatofibroma     0.5385    0.3889    0.4516        18\n",
            "     Keratosis     0.5777    0.7169    0.6398       166\n",
            "      Melanoma     0.4430    0.6250    0.5185       168\n",
            "          Nevu     0.9328    0.8550    0.8922      1007\n",
            "      Vascular     0.7917    0.8636    0.8261        22\n",
            "\n",
            "      accuracy                         0.7823      1511\n",
            "     macro avg     0.6504    0.6399    0.6367      1511\n",
            "  weighted avg     0.8081    0.7823    0.7906      1511\n",
            "\n"
          ]
        }
      ]
    },
    {
      "cell_type": "code",
      "source": [
        "plot_confusionmatrix(model, test_images)"
      ],
      "metadata": {
        "colab": {
          "base_uri": "https://localhost:8080/",
          "height": 647
        },
        "outputId": "ad5fa862-39ca-468f-a90d-232eff95ddfa",
        "id": "P4FZxtafnMOD"
      },
      "execution_count": null,
      "outputs": [
        {
          "output_type": "stream",
          "name": "stdout",
          "text": [
            "48/48 [==============================] - 5s 109ms/step\n"
          ]
        },
        {
          "output_type": "display_data",
          "data": {
            "text/plain": [
              "<Figure size 720x720 with 2 Axes>"
            ],
            "image/png": "[encoded data removed]"
          },
          "metadata": {
            "needs_background": "light"
          }
        }
      ]
    }
  ]
}