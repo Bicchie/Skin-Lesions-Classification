{
  "nbformat": 4,
  "nbformat_minor": 0,
  "metadata": {
    "colab": {
      "provenance": [],
      "authorship_tag": "ABX9TyOwXRW30sD1ZlaqHlpR1Ns+",
      "include_colab_link": true
    },
    "kernelspec": {
      "name": "python3",
      "display_name": "Python 3"
    },
    "language_info": {
      "name": "python"
    },
    "gpuClass": "standard"
  },
  "cells": [
    {
      "cell_type": "markdown",
      "metadata": {
        "id": "view-in-github",
        "colab_type": "text"
      },
      "source": [
        "<a href=\"https://colab.research.google.com/github/Bicchie/Skin-Lesions-Classification/blob/main/6_ResNet.ipynb\" target=\"_parent\"><img src=\"https://colab.research.google.com/assets/colab-badge.svg\" alt=\"Open In Colab\"/></a>"
      ]
    },
    {
      "cell_type": "markdown",
      "source": [
        "#Skin Lesions Classifications using pretrained network ResNet"
      ],
      "metadata": {
        "id": "sa07OK_PRi6w"
      }
    },
    {
      "cell_type": "markdown",
      "source": [
        "## Initialization"
      ],
      "metadata": {
        "id": "HMQTsFGNhXxF"
      }
    },
    {
      "cell_type": "code",
      "execution_count": null,
      "metadata": {
        "id": "dS0_gw6PLYnb"
      },
      "outputs": [],
      "source": [
        "from google.colab import drive\n",
        "import tensorflow as tf\n",
        "from tensorflow import keras\n",
        "from tensorflow.keras import optimizers\n",
        "from keras import layers\n",
        "from keras import models\n",
        "import os\n",
        "import math\n",
        "import shutil\n",
        "import matplotlib.pyplot as plt\n",
        "from sklearn import metrics\n",
        "from sklearn.metrics import ConfusionMatrixDisplay\n",
        "import numpy as np"
      ]
    },
    {
      "cell_type": "code",
      "source": [
        "drive.mount('/content/gdrive', force_remount=True)"
      ],
      "metadata": {
        "colab": {
          "base_uri": "https://localhost:8080/"
        },
        "id": "eCoZZomfLsT4",
        "outputId": "f0e01573-19ba-4409-9e97-e19d9fb911e0"
      },
      "execution_count": null,
      "outputs": [
        {
          "output_type": "stream",
          "name": "stdout",
          "text": [
            "Mounted at /content/gdrive\n"
          ]
        }
      ]
    },
    {
      "cell_type": "code",
      "source": [
        "IMAGE_HEIGHT = 224\n",
        "IMAGE_WIDTH = 224\n",
        "TRAIN_DIR = '/content/gdrive/MyDrive/SkinCancer/OriginalDataset/train'\n",
        "VAL_DIR = '/content/gdrive/MyDrive/SkinCancer/OriginalDataset/val'\n",
        "TEST_DIR = '/content/gdrive/MyDrive/SkinCancer/OriginalDataset/test'\n",
        "MODELS_PATH = '/content/gdrive/MyDrive/SkinCancer/Models'\n",
        "\n",
        "LOCAL_MODELS_FOLDER = \"/content/models\"\n",
        "if not os.path.exists(LOCAL_MODELS_FOLDER):\n",
        "  os.makedirs(LOCAL_MODELS_FOLDER)\n",
        "GLOBAL_MODELS_FOLDER = \"/content/gdrive/MyDrive/SkinCancer/Models/ResNet\"\n",
        "if not os.path.exists(GLOBAL_MODELS_FOLDER):\n",
        "  os.makedirs(GLOBAL_MODELS_FOLDER)\n",
        "\n",
        "CLASSES = ['Actinic', 'BCC', 'Dermatofibroma', 'Keratosis', 'Melanoma', 'Nevu', 'Vascular']\n",
        "BATCH_SIZE = 32\n",
        "RANDOM_SEED = 42\n",
        "EPOCHS=50\n",
        "DROPOUT = 0.3"
      ],
      "metadata": {
        "id": "4Ak2H8jHLuEt"
      },
      "execution_count": null,
      "outputs": []
    },
    {
      "cell_type": "markdown",
      "source": [
        "###Dataset Loading"
      ],
      "metadata": {
        "id": "kkkhjr1MxwRC"
      }
    },
    {
      "cell_type": "markdown",
      "source": [
        "Note that since 450x600 is too large, It is used the interpolation tool in Keras to resize the images in 224x224, also to fit the input of most pretrained networks."
      ],
      "metadata": {
        "id": "iwnC7oot1kyJ"
      }
    },
    {
      "cell_type": "code",
      "source": [
        "training_images = tf.keras.preprocessing.image_dataset_from_directory(\n",
        "    TRAIN_DIR,\n",
        "    labels='inferred',\n",
        "    batch_size=BATCH_SIZE,\n",
        "    color_mode='rgb',\n",
        "    image_size=(IMAGE_HEIGHT,IMAGE_WIDTH),\n",
        "    interpolation='bilinear',\n",
        "    shuffle=True,\n",
        "    seed=RANDOM_SEED\n",
        ")\n",
        "\n",
        "val_images = tf.keras.preprocessing.image_dataset_from_directory(\n",
        "    VAL_DIR,\n",
        "    labels='inferred',\n",
        "    batch_size=BATCH_SIZE,\n",
        "    color_mode='rgb',\n",
        "    image_size=(IMAGE_HEIGHT,IMAGE_WIDTH),\n",
        "    interpolation='bilinear',\n",
        "    shuffle=True,\n",
        "    seed=RANDOM_SEED\n",
        ")\n",
        "\n",
        "test_images = tf.keras.preprocessing.image_dataset_from_directory(\n",
        "    TEST_DIR,\n",
        "    labels='inferred',\n",
        "    batch_size=BATCH_SIZE,\n",
        "    color_mode='rgb',\n",
        "    image_size=(IMAGE_HEIGHT,IMAGE_WIDTH),\n",
        "    interpolation='bilinear',\n",
        "    shuffle=False,\n",
        "    seed=RANDOM_SEED\n",
        ")"
      ],
      "metadata": {
        "colab": {
          "base_uri": "https://localhost:8080/"
        },
        "id": "2MqCw7Wfxzg5",
        "outputId": "21a590ac-1823-4456-e104-d1790924f076"
      },
      "execution_count": null,
      "outputs": [
        {
          "output_type": "stream",
          "name": "stdout",
          "text": [
            "Found 7014 files belonging to 7 classes.\n",
            "Found 1500 files belonging to 7 classes.\n",
            "Found 1511 files belonging to 7 classes.\n"
          ]
        }
      ]
    },
    {
      "cell_type": "code",
      "source": [
        "print(training_images)"
      ],
      "metadata": {
        "colab": {
          "base_uri": "https://localhost:8080/"
        },
        "id": "9TCr2sCNx2UZ",
        "outputId": "9cf401c6-2d7e-43e1-ad24-6e0504cb0a00"
      },
      "execution_count": null,
      "outputs": [
        {
          "output_type": "stream",
          "name": "stdout",
          "text": [
            "<BatchDataset element_spec=(TensorSpec(shape=(None, 224, 224, 3), dtype=tf.float32, name=None), TensorSpec(shape=(None,), dtype=tf.int32, name=None))>\n"
          ]
        }
      ]
    },
    {
      "cell_type": "markdown",
      "source": [
        "## Utility"
      ],
      "metadata": {
        "id": "8AASo4CnB50J"
      }
    },
    {
      "cell_type": "code",
      "source": [
        "def compile_model(model, metrics='accuracy', loss='sparse_categorical_crossentropy', optimizer='adam', learning_rate = 0.001):\n",
        "  '''\n",
        "    compile_model is used to compile the current model\n",
        "    :param model: model to compile\n",
        "    :param optimizer: optimizer to be used\n",
        "    :param learning_rate: learning rate parameter for the optimizer\n",
        "  '''\n",
        "  if optimizer == 'adam':\n",
        "    optimizer=optimizers.Adam(learning_rate=learning_rate)\n",
        "  elif optimizer == 'rmsprop':\n",
        "    optimizer = optimizers.RMSprop(learning_rate=learning_rate)\n",
        "  else:\n",
        "    return\n",
        "\n",
        "  model.compile(loss=loss,\n",
        "    optimizer=optimizer,\n",
        "    metrics=[metrics])\n",
        "\n",
        "  return model\n",
        "\n",
        "def run_model (model, model_name, train_ds, val_ds, epochs=50, patience=3, monitor='val_loss', class_weight=None):\n",
        "  '''\n",
        "  run_model is used to run the current mode\n",
        "  :param model: model to run\n",
        "  :param model_name: name given to save the model\n",
        "  :param epochs: how many epochs to do\n",
        "  :param patience: patience value for Early Stopping\n",
        "  :param monitor: what to monitor for Early Stopping and Model Checkpoint\n",
        "  '''\n",
        "  # local save path for the models\n",
        "  save_path = LOCAL_MODELS_FOLDER + '/' + model_name + \".h5\"\n",
        "\n",
        "  callbacks_list = [\n",
        "                  keras.callbacks.EarlyStopping(monitor=monitor, patience=patience), #we implement EarlyStopping to prevent overfitting\n",
        "                  keras.callbacks.ModelCheckpoint(\n",
        "                      filepath = save_path,\n",
        "                      monitor=monitor,\n",
        "                      verbose=1,\n",
        "                      save_best_only=True)\n",
        "                  ]\n",
        "           \n",
        "  history = model.fit(train_ds,\n",
        "                    epochs=epochs,\n",
        "                    validation_data=val_ds,\n",
        "                    callbacks=callbacks_list,\n",
        "                    class_weight=class_weight\n",
        "                    )\n",
        "  # save on Drive only the best model\n",
        "  shutil.copy(save_path, GLOBAL_MODELS_FOLDER + '/' + model_name + '.h5')\n",
        "  return tf.keras.models.load_model(save_path), history\n",
        "\n",
        "\n",
        "def show_training_and_validation_performance(history):\n",
        "  '''\n",
        "  show_training_and_validation_performance is used to plot the performances during the training phase\n",
        "  :param history: object in which are recorded all the events\n",
        "  '''\n",
        "  acc = history.history['accuracy']\n",
        "  val_acc = history.history['val_accuracy']\n",
        "  loss = history.history['loss']\n",
        "  val_loss = history.history['val_loss']\n",
        "\n",
        "  epochs = range(len(acc))\n",
        "\n",
        "  plt.plot(epochs, acc, 'bo', label='Training accuracy')\n",
        "  plt.plot(epochs, val_acc, 'b', label='Validation accuracy')\n",
        "  plt.title('Training and validation accuracy')\n",
        "  plt.legend()\n",
        "\n",
        "  plt.figure()\n",
        "\n",
        "  plt.plot(epochs, loss, 'bo', label='Training loss')\n",
        "  plt.plot(epochs, val_loss, 'b', label='Validation loss')\n",
        "  plt.title('Training and validation loss')\n",
        "  plt.legend()\n",
        "\n",
        "  plt.show()\n",
        "\n",
        "\n",
        "def evaluate_model(model, test_ds):\n",
        "  test_loss, test_accuracy = model.evaluate(test_ds)\n",
        "  print(\"Loss on test set: \" +str(test_loss))\n",
        "  print(\"Accuracy on test set: \" +str(test_accuracy))\n",
        "  test_labels = np.concatenate([label for image, label in test_ds], axis=0) # retrieve the labels of the test set\n",
        "  test_predictions = model.predict(test_ds)  # probabilities for all classes\n",
        "  test_predictions = np.argmax(test_predictions, axis=-1)  # index of the classes with largest probability\n",
        "  print(metrics.classification_report(test_labels, test_predictions, target_names=CLASSES, digits=4))\n",
        "\n",
        "def plot_confusionmatrix(model, test_ds):\n",
        "  test_labels = np.concatenate([label for image, label in test_ds], axis=0) # retrieve the labels of the test set\n",
        "  test_predictions = model.predict(test_ds, verbose=1)  # probabilities for all classes\n",
        "  test_predictions = np.argmax(test_predictions, axis=-1)  # index of the classes with largest probability\n",
        "  # plot confusion matrix\n",
        "  fig, ax = plt.subplots(figsize=(10, 10))\n",
        "  ConfusionMatrixDisplay.from_predictions(test_labels, test_predictions, xticks_rotation='vertical', ax=ax, display_labels=CLASSES)\n",
        "\n",
        "\n",
        "def create_class_weight(labels_dict,mu=0.7):\n",
        "    total = np.sum(list(labels_dict.values()))\n",
        "    keys = labels_dict.keys()\n",
        "    class_weight = dict()\n",
        "    \n",
        "    for key in keys:\n",
        "        score = math.log(mu*total/float(labels_dict[key]))\n",
        "        class_weight[key] = score if score > 0.5 else 0.5\n",
        "    \n",
        "    return class_weight\n",
        "\n",
        "# actually compute the CLASS WEIGHTS\n",
        "labels_dict = {0:327, 1:514, 2:115, 3:1099, 4:1113, 5:6705, 6:142}\n",
        "\n",
        "class_weight = create_class_weight(labels_dict)"
      ],
      "metadata": {
        "id": "411pI0DC0L9B"
      },
      "execution_count": null,
      "outputs": []
    },
    {
      "cell_type": "markdown",
      "source": [
        "## Feature Extraction"
      ],
      "metadata": {
        "id": "UoKMsE9DUdZw"
      }
    },
    {
      "cell_type": "markdown",
      "source": [
        "Let's use the ResNet as Feature Extractor."
      ],
      "metadata": {
        "id": "QPr3q0dgUh9-"
      }
    },
    {
      "cell_type": "code",
      "execution_count": null,
      "metadata": {
        "id": "4S1RQfGMJ3Ni",
        "colab": {
          "base_uri": "https://localhost:8080/"
        },
        "outputId": "9ab453e9-e5a2-4d93-f293-00f77149de7a"
      },
      "outputs": [
        {
          "output_type": "stream",
          "name": "stdout",
          "text": [
            "Downloading data from https://storage.googleapis.com/tensorflow/keras-applications/resnet/resnet50_weights_tf_dim_ordering_tf_kernels_notop.h5\n",
            "94773248/94765736 [==============================] - 1s 0us/step\n",
            "94781440/94765736 [==============================] - 1s 0us/step\n",
            "Model: \"resnet50\"\n",
            "__________________________________________________________________________________________________\n",
            " Layer (type)                   Output Shape         Param #     Connected to                     \n",
            "==================================================================================================\n",
            " input_1 (InputLayer)           [(None, 224, 224, 3  0           []                               \n",
            "                                )]                                                                \n",
            "                                                                                                  \n",
            " conv1_pad (ZeroPadding2D)      (None, 230, 230, 3)  0           ['input_1[0][0]']                \n",
            "                                                                                                  \n",
            " conv1_conv (Conv2D)            (None, 112, 112, 64  9472        ['conv1_pad[0][0]']              \n",
            "                                )                                                                 \n",
            "                                                                                                  \n",
            " conv1_bn (BatchNormalization)  (None, 112, 112, 64  256         ['conv1_conv[0][0]']             \n",
            "                                )                                                                 \n",
            "                                                                                                  \n",
            " conv1_relu (Activation)        (None, 112, 112, 64  0           ['conv1_bn[0][0]']               \n",
            "                                )                                                                 \n",
            "                                                                                                  \n",
            " pool1_pad (ZeroPadding2D)      (None, 114, 114, 64  0           ['conv1_relu[0][0]']             \n",
            "                                )                                                                 \n",
            "                                                                                                  \n",
            " pool1_pool (MaxPooling2D)      (None, 56, 56, 64)   0           ['pool1_pad[0][0]']              \n",
            "                                                                                                  \n",
            " conv2_block1_1_conv (Conv2D)   (None, 56, 56, 64)   4160        ['pool1_pool[0][0]']             \n",
            "                                                                                                  \n",
            " conv2_block1_1_bn (BatchNormal  (None, 56, 56, 64)  256         ['conv2_block1_1_conv[0][0]']    \n",
            " ization)                                                                                         \n",
            "                                                                                                  \n",
            " conv2_block1_1_relu (Activatio  (None, 56, 56, 64)  0           ['conv2_block1_1_bn[0][0]']      \n",
            " n)                                                                                               \n",
            "                                                                                                  \n",
            " conv2_block1_2_conv (Conv2D)   (None, 56, 56, 64)   36928       ['conv2_block1_1_relu[0][0]']    \n",
            "                                                                                                  \n",
            " conv2_block1_2_bn (BatchNormal  (None, 56, 56, 64)  256         ['conv2_block1_2_conv[0][0]']    \n",
            " ization)                                                                                         \n",
            "                                                                                                  \n",
            " conv2_block1_2_relu (Activatio  (None, 56, 56, 64)  0           ['conv2_block1_2_bn[0][0]']      \n",
            " n)                                                                                               \n",
            "                                                                                                  \n",
            " conv2_block1_0_conv (Conv2D)   (None, 56, 56, 256)  16640       ['pool1_pool[0][0]']             \n",
            "                                                                                                  \n",
            " conv2_block1_3_conv (Conv2D)   (None, 56, 56, 256)  16640       ['conv2_block1_2_relu[0][0]']    \n",
            "                                                                                                  \n",
            " conv2_block1_0_bn (BatchNormal  (None, 56, 56, 256)  1024       ['conv2_block1_0_conv[0][0]']    \n",
            " ization)                                                                                         \n",
            "                                                                                                  \n",
            " conv2_block1_3_bn (BatchNormal  (None, 56, 56, 256)  1024       ['conv2_block1_3_conv[0][0]']    \n",
            " ization)                                                                                         \n",
            "                                                                                                  \n",
            " conv2_block1_add (Add)         (None, 56, 56, 256)  0           ['conv2_block1_0_bn[0][0]',      \n",
            "                                                                  'conv2_block1_3_bn[0][0]']      \n",
            "                                                                                                  \n",
            " conv2_block1_out (Activation)  (None, 56, 56, 256)  0           ['conv2_block1_add[0][0]']       \n",
            "                                                                                                  \n",
            " conv2_block2_1_conv (Conv2D)   (None, 56, 56, 64)   16448       ['conv2_block1_out[0][0]']       \n",
            "                                                                                                  \n",
            " conv2_block2_1_bn (BatchNormal  (None, 56, 56, 64)  256         ['conv2_block2_1_conv[0][0]']    \n",
            " ization)                                                                                         \n",
            "                                                                                                  \n",
            " conv2_block2_1_relu (Activatio  (None, 56, 56, 64)  0           ['conv2_block2_1_bn[0][0]']      \n",
            " n)                                                                                               \n",
            "                                                                                                  \n",
            " conv2_block2_2_conv (Conv2D)   (None, 56, 56, 64)   36928       ['conv2_block2_1_relu[0][0]']    \n",
            "                                                                                                  \n",
            " conv2_block2_2_bn (BatchNormal  (None, 56, 56, 64)  256         ['conv2_block2_2_conv[0][0]']    \n",
            " ization)                                                                                         \n",
            "                                                                                                  \n",
            " conv2_block2_2_relu (Activatio  (None, 56, 56, 64)  0           ['conv2_block2_2_bn[0][0]']      \n",
            " n)                                                                                               \n",
            "                                                                                                  \n",
            " conv2_block2_3_conv (Conv2D)   (None, 56, 56, 256)  16640       ['conv2_block2_2_relu[0][0]']    \n",
            "                                                                                                  \n",
            " conv2_block2_3_bn (BatchNormal  (None, 56, 56, 256)  1024       ['conv2_block2_3_conv[0][0]']    \n",
            " ization)                                                                                         \n",
            "                                                                                                  \n",
            " conv2_block2_add (Add)         (None, 56, 56, 256)  0           ['conv2_block1_out[0][0]',       \n",
            "                                                                  'conv2_block2_3_bn[0][0]']      \n",
            "                                                                                                  \n",
            " conv2_block2_out (Activation)  (None, 56, 56, 256)  0           ['conv2_block2_add[0][0]']       \n",
            "                                                                                                  \n",
            " conv2_block3_1_conv (Conv2D)   (None, 56, 56, 64)   16448       ['conv2_block2_out[0][0]']       \n",
            "                                                                                                  \n",
            " conv2_block3_1_bn (BatchNormal  (None, 56, 56, 64)  256         ['conv2_block3_1_conv[0][0]']    \n",
            " ization)                                                                                         \n",
            "                                                                                                  \n",
            " conv2_block3_1_relu (Activatio  (None, 56, 56, 64)  0           ['conv2_block3_1_bn[0][0]']      \n",
            " n)                                                                                               \n",
            "                                                                                                  \n",
            " conv2_block3_2_conv (Conv2D)   (None, 56, 56, 64)   36928       ['conv2_block3_1_relu[0][0]']    \n",
            "                                                                                                  \n",
            " conv2_block3_2_bn (BatchNormal  (None, 56, 56, 64)  256         ['conv2_block3_2_conv[0][0]']    \n",
            " ization)                                                                                         \n",
            "                                                                                                  \n",
            " conv2_block3_2_relu (Activatio  (None, 56, 56, 64)  0           ['conv2_block3_2_bn[0][0]']      \n",
            " n)                                                                                               \n",
            "                                                                                                  \n",
            " conv2_block3_3_conv (Conv2D)   (None, 56, 56, 256)  16640       ['conv2_block3_2_relu[0][0]']    \n",
            "                                                                                                  \n",
            " conv2_block3_3_bn (BatchNormal  (None, 56, 56, 256)  1024       ['conv2_block3_3_conv[0][0]']    \n",
            " ization)                                                                                         \n",
            "                                                                                                  \n",
            " conv2_block3_add (Add)         (None, 56, 56, 256)  0           ['conv2_block2_out[0][0]',       \n",
            "                                                                  'conv2_block3_3_bn[0][0]']      \n",
            "                                                                                                  \n",
            " conv2_block3_out (Activation)  (None, 56, 56, 256)  0           ['conv2_block3_add[0][0]']       \n",
            "                                                                                                  \n",
            " conv3_block1_1_conv (Conv2D)   (None, 28, 28, 128)  32896       ['conv2_block3_out[0][0]']       \n",
            "                                                                                                  \n",
            " conv3_block1_1_bn (BatchNormal  (None, 28, 28, 128)  512        ['conv3_block1_1_conv[0][0]']    \n",
            " ization)                                                                                         \n",
            "                                                                                                  \n",
            " conv3_block1_1_relu (Activatio  (None, 28, 28, 128)  0          ['conv3_block1_1_bn[0][0]']      \n",
            " n)                                                                                               \n",
            "                                                                                                  \n",
            " conv3_block1_2_conv (Conv2D)   (None, 28, 28, 128)  147584      ['conv3_block1_1_relu[0][0]']    \n",
            "                                                                                                  \n",
            " conv3_block1_2_bn (BatchNormal  (None, 28, 28, 128)  512        ['conv3_block1_2_conv[0][0]']    \n",
            " ization)                                                                                         \n",
            "                                                                                                  \n",
            " conv3_block1_2_relu (Activatio  (None, 28, 28, 128)  0          ['conv3_block1_2_bn[0][0]']      \n",
            " n)                                                                                               \n",
            "                                                                                                  \n",
            " conv3_block1_0_conv (Conv2D)   (None, 28, 28, 512)  131584      ['conv2_block3_out[0][0]']       \n",
            "                                                                                                  \n",
            " conv3_block1_3_conv (Conv2D)   (None, 28, 28, 512)  66048       ['conv3_block1_2_relu[0][0]']    \n",
            "                                                                                                  \n",
            " conv3_block1_0_bn (BatchNormal  (None, 28, 28, 512)  2048       ['conv3_block1_0_conv[0][0]']    \n",
            " ization)                                                                                         \n",
            "                                                                                                  \n",
            " conv3_block1_3_bn (BatchNormal  (None, 28, 28, 512)  2048       ['conv3_block1_3_conv[0][0]']    \n",
            " ization)                                                                                         \n",
            "                                                                                                  \n",
            " conv3_block1_add (Add)         (None, 28, 28, 512)  0           ['conv3_block1_0_bn[0][0]',      \n",
            "                                                                  'conv3_block1_3_bn[0][0]']      \n",
            "                                                                                                  \n",
            " conv3_block1_out (Activation)  (None, 28, 28, 512)  0           ['conv3_block1_add[0][0]']       \n",
            "                                                                                                  \n",
            " conv3_block2_1_conv (Conv2D)   (None, 28, 28, 128)  65664       ['conv3_block1_out[0][0]']       \n",
            "                                                                                                  \n",
            " conv3_block2_1_bn (BatchNormal  (None, 28, 28, 128)  512        ['conv3_block2_1_conv[0][0]']    \n",
            " ization)                                                                                         \n",
            "                                                                                                  \n",
            " conv3_block2_1_relu (Activatio  (None, 28, 28, 128)  0          ['conv3_block2_1_bn[0][0]']      \n",
            " n)                                                                                               \n",
            "                                                                                                  \n",
            " conv3_block2_2_conv (Conv2D)   (None, 28, 28, 128)  147584      ['conv3_block2_1_relu[0][0]']    \n",
            "                                                                                                  \n",
            " conv3_block2_2_bn (BatchNormal  (None, 28, 28, 128)  512        ['conv3_block2_2_conv[0][0]']    \n",
            " ization)                                                                                         \n",
            "                                                                                                  \n",
            " conv3_block2_2_relu (Activatio  (None, 28, 28, 128)  0          ['conv3_block2_2_bn[0][0]']      \n",
            " n)                                                                                               \n",
            "                                                                                                  \n",
            " conv3_block2_3_conv (Conv2D)   (None, 28, 28, 512)  66048       ['conv3_block2_2_relu[0][0]']    \n",
            "                                                                                                  \n",
            " conv3_block2_3_bn (BatchNormal  (None, 28, 28, 512)  2048       ['conv3_block2_3_conv[0][0]']    \n",
            " ization)                                                                                         \n",
            "                                                                                                  \n",
            " conv3_block2_add (Add)         (None, 28, 28, 512)  0           ['conv3_block1_out[0][0]',       \n",
            "                                                                  'conv3_block2_3_bn[0][0]']      \n",
            "                                                                                                  \n",
            " conv3_block2_out (Activation)  (None, 28, 28, 512)  0           ['conv3_block2_add[0][0]']       \n",
            "                                                                                                  \n",
            " conv3_block3_1_conv (Conv2D)   (None, 28, 28, 128)  65664       ['conv3_block2_out[0][0]']       \n",
            "                                                                                                  \n",
            " conv3_block3_1_bn (BatchNormal  (None, 28, 28, 128)  512        ['conv3_block3_1_conv[0][0]']    \n",
            " ization)                                                                                         \n",
            "                                                                                                  \n",
            " conv3_block3_1_relu (Activatio  (None, 28, 28, 128)  0          ['conv3_block3_1_bn[0][0]']      \n",
            " n)                                                                                               \n",
            "                                                                                                  \n",
            " conv3_block3_2_conv (Conv2D)   (None, 28, 28, 128)  147584      ['conv3_block3_1_relu[0][0]']    \n",
            "                                                                                                  \n",
            " conv3_block3_2_bn (BatchNormal  (None, 28, 28, 128)  512        ['conv3_block3_2_conv[0][0]']    \n",
            " ization)                                                                                         \n",
            "                                                                                                  \n",
            " conv3_block3_2_relu (Activatio  (None, 28, 28, 128)  0          ['conv3_block3_2_bn[0][0]']      \n",
            " n)                                                                                               \n",
            "                                                                                                  \n",
            " conv3_block3_3_conv (Conv2D)   (None, 28, 28, 512)  66048       ['conv3_block3_2_relu[0][0]']    \n",
            "                                                                                                  \n",
            " conv3_block3_3_bn (BatchNormal  (None, 28, 28, 512)  2048       ['conv3_block3_3_conv[0][0]']    \n",
            " ization)                                                                                         \n",
            "                                                                                                  \n",
            " conv3_block3_add (Add)         (None, 28, 28, 512)  0           ['conv3_block2_out[0][0]',       \n",
            "                                                                  'conv3_block3_3_bn[0][0]']      \n",
            "                                                                                                  \n",
            " conv3_block3_out (Activation)  (None, 28, 28, 512)  0           ['conv3_block3_add[0][0]']       \n",
            "                                                                                                  \n",
            " conv3_block4_1_conv (Conv2D)   (None, 28, 28, 128)  65664       ['conv3_block3_out[0][0]']       \n",
            "                                                                                                  \n",
            " conv3_block4_1_bn (BatchNormal  (None, 28, 28, 128)  512        ['conv3_block4_1_conv[0][0]']    \n",
            " ization)                                                                                         \n",
            "                                                                                                  \n",
            " conv3_block4_1_relu (Activatio  (None, 28, 28, 128)  0          ['conv3_block4_1_bn[0][0]']      \n",
            " n)                                                                                               \n",
            "                                                                                                  \n",
            " conv3_block4_2_conv (Conv2D)   (None, 28, 28, 128)  147584      ['conv3_block4_1_relu[0][0]']    \n",
            "                                                                                                  \n",
            " conv3_block4_2_bn (BatchNormal  (None, 28, 28, 128)  512        ['conv3_block4_2_conv[0][0]']    \n",
            " ization)                                                                                         \n",
            "                                                                                                  \n",
            " conv3_block4_2_relu (Activatio  (None, 28, 28, 128)  0          ['conv3_block4_2_bn[0][0]']      \n",
            " n)                                                                                               \n",
            "                                                                                                  \n",
            " conv3_block4_3_conv (Conv2D)   (None, 28, 28, 512)  66048       ['conv3_block4_2_relu[0][0]']    \n",
            "                                                                                                  \n",
            " conv3_block4_3_bn (BatchNormal  (None, 28, 28, 512)  2048       ['conv3_block4_3_conv[0][0]']    \n",
            " ization)                                                                                         \n",
            "                                                                                                  \n",
            " conv3_block4_add (Add)         (None, 28, 28, 512)  0           ['conv3_block3_out[0][0]',       \n",
            "                                                                  'conv3_block4_3_bn[0][0]']      \n",
            "                                                                                                  \n",
            " conv3_block4_out (Activation)  (None, 28, 28, 512)  0           ['conv3_block4_add[0][0]']       \n",
            "                                                                                                  \n",
            " conv4_block1_1_conv (Conv2D)   (None, 14, 14, 256)  131328      ['conv3_block4_out[0][0]']       \n",
            "                                                                                                  \n",
            " conv4_block1_1_bn (BatchNormal  (None, 14, 14, 256)  1024       ['conv4_block1_1_conv[0][0]']    \n",
            " ization)                                                                                         \n",
            "                                                                                                  \n",
            " conv4_block1_1_relu (Activatio  (None, 14, 14, 256)  0          ['conv4_block1_1_bn[0][0]']      \n",
            " n)                                                                                               \n",
            "                                                                                                  \n",
            " conv4_block1_2_conv (Conv2D)   (None, 14, 14, 256)  590080      ['conv4_block1_1_relu[0][0]']    \n",
            "                                                                                                  \n",
            " conv4_block1_2_bn (BatchNormal  (None, 14, 14, 256)  1024       ['conv4_block1_2_conv[0][0]']    \n",
            " ization)                                                                                         \n",
            "                                                                                                  \n",
            " conv4_block1_2_relu (Activatio  (None, 14, 14, 256)  0          ['conv4_block1_2_bn[0][0]']      \n",
            " n)                                                                                               \n",
            "                                                                                                  \n",
            " conv4_block1_0_conv (Conv2D)   (None, 14, 14, 1024  525312      ['conv3_block4_out[0][0]']       \n",
            "                                )                                                                 \n",
            "                                                                                                  \n",
            " conv4_block1_3_conv (Conv2D)   (None, 14, 14, 1024  263168      ['conv4_block1_2_relu[0][0]']    \n",
            "                                )                                                                 \n",
            "                                                                                                  \n",
            " conv4_block1_0_bn (BatchNormal  (None, 14, 14, 1024  4096       ['conv4_block1_0_conv[0][0]']    \n",
            " ization)                       )                                                                 \n",
            "                                                                                                  \n",
            " conv4_block1_3_bn (BatchNormal  (None, 14, 14, 1024  4096       ['conv4_block1_3_conv[0][0]']    \n",
            " ization)                       )                                                                 \n",
            "                                                                                                  \n",
            " conv4_block1_add (Add)         (None, 14, 14, 1024  0           ['conv4_block1_0_bn[0][0]',      \n",
            "                                )                                 'conv4_block1_3_bn[0][0]']      \n",
            "                                                                                                  \n",
            " conv4_block1_out (Activation)  (None, 14, 14, 1024  0           ['conv4_block1_add[0][0]']       \n",
            "                                )                                                                 \n",
            "                                                                                                  \n",
            " conv4_block2_1_conv (Conv2D)   (None, 14, 14, 256)  262400      ['conv4_block1_out[0][0]']       \n",
            "                                                                                                  \n",
            " conv4_block2_1_bn (BatchNormal  (None, 14, 14, 256)  1024       ['conv4_block2_1_conv[0][0]']    \n",
            " ization)                                                                                         \n",
            "                                                                                                  \n",
            " conv4_block2_1_relu (Activatio  (None, 14, 14, 256)  0          ['conv4_block2_1_bn[0][0]']      \n",
            " n)                                                                                               \n",
            "                                                                                                  \n",
            " conv4_block2_2_conv (Conv2D)   (None, 14, 14, 256)  590080      ['conv4_block2_1_relu[0][0]']    \n",
            "                                                                                                  \n",
            " conv4_block2_2_bn (BatchNormal  (None, 14, 14, 256)  1024       ['conv4_block2_2_conv[0][0]']    \n",
            " ization)                                                                                         \n",
            "                                                                                                  \n",
            " conv4_block2_2_relu (Activatio  (None, 14, 14, 256)  0          ['conv4_block2_2_bn[0][0]']      \n",
            " n)                                                                                               \n",
            "                                                                                                  \n",
            " conv4_block2_3_conv (Conv2D)   (None, 14, 14, 1024  263168      ['conv4_block2_2_relu[0][0]']    \n",
            "                                )                                                                 \n",
            "                                                                                                  \n",
            " conv4_block2_3_bn (BatchNormal  (None, 14, 14, 1024  4096       ['conv4_block2_3_conv[0][0]']    \n",
            " ization)                       )                                                                 \n",
            "                                                                                                  \n",
            " conv4_block2_add (Add)         (None, 14, 14, 1024  0           ['conv4_block1_out[0][0]',       \n",
            "                                )                                 'conv4_block2_3_bn[0][0]']      \n",
            "                                                                                                  \n",
            " conv4_block2_out (Activation)  (None, 14, 14, 1024  0           ['conv4_block2_add[0][0]']       \n",
            "                                )                                                                 \n",
            "                                                                                                  \n",
            " conv4_block3_1_conv (Conv2D)   (None, 14, 14, 256)  262400      ['conv4_block2_out[0][0]']       \n",
            "                                                                                                  \n",
            " conv4_block3_1_bn (BatchNormal  (None, 14, 14, 256)  1024       ['conv4_block3_1_conv[0][0]']    \n",
            " ization)                                                                                         \n",
            "                                                                                                  \n",
            " conv4_block3_1_relu (Activatio  (None, 14, 14, 256)  0          ['conv4_block3_1_bn[0][0]']      \n",
            " n)                                                                                               \n",
            "                                                                                                  \n",
            " conv4_block3_2_conv (Conv2D)   (None, 14, 14, 256)  590080      ['conv4_block3_1_relu[0][0]']    \n",
            "                                                                                                  \n",
            " conv4_block3_2_bn (BatchNormal  (None, 14, 14, 256)  1024       ['conv4_block3_2_conv[0][0]']    \n",
            " ization)                                                                                         \n",
            "                                                                                                  \n",
            " conv4_block3_2_relu (Activatio  (None, 14, 14, 256)  0          ['conv4_block3_2_bn[0][0]']      \n",
            " n)                                                                                               \n",
            "                                                                                                  \n",
            " conv4_block3_3_conv (Conv2D)   (None, 14, 14, 1024  263168      ['conv4_block3_2_relu[0][0]']    \n",
            "                                )                                                                 \n",
            "                                                                                                  \n",
            " conv4_block3_3_bn (BatchNormal  (None, 14, 14, 1024  4096       ['conv4_block3_3_conv[0][0]']    \n",
            " ization)                       )                                                                 \n",
            "                                                                                                  \n",
            " conv4_block3_add (Add)         (None, 14, 14, 1024  0           ['conv4_block2_out[0][0]',       \n",
            "                                )                                 'conv4_block3_3_bn[0][0]']      \n",
            "                                                                                                  \n",
            " conv4_block3_out (Activation)  (None, 14, 14, 1024  0           ['conv4_block3_add[0][0]']       \n",
            "                                )                                                                 \n",
            "                                                                                                  \n",
            " conv4_block4_1_conv (Conv2D)   (None, 14, 14, 256)  262400      ['conv4_block3_out[0][0]']       \n",
            "                                                                                                  \n",
            " conv4_block4_1_bn (BatchNormal  (None, 14, 14, 256)  1024       ['conv4_block4_1_conv[0][0]']    \n",
            " ization)                                                                                         \n",
            "                                                                                                  \n",
            " conv4_block4_1_relu (Activatio  (None, 14, 14, 256)  0          ['conv4_block4_1_bn[0][0]']      \n",
            " n)                                                                                               \n",
            "                                                                                                  \n",
            " conv4_block4_2_conv (Conv2D)   (None, 14, 14, 256)  590080      ['conv4_block4_1_relu[0][0]']    \n",
            "                                                                                                  \n",
            " conv4_block4_2_bn (BatchNormal  (None, 14, 14, 256)  1024       ['conv4_block4_2_conv[0][0]']    \n",
            " ization)                                                                                         \n",
            "                                                                                                  \n",
            " conv4_block4_2_relu (Activatio  (None, 14, 14, 256)  0          ['conv4_block4_2_bn[0][0]']      \n",
            " n)                                                                                               \n",
            "                                                                                                  \n",
            " conv4_block4_3_conv (Conv2D)   (None, 14, 14, 1024  263168      ['conv4_block4_2_relu[0][0]']    \n",
            "                                )                                                                 \n",
            "                                                                                                  \n",
            " conv4_block4_3_bn (BatchNormal  (None, 14, 14, 1024  4096       ['conv4_block4_3_conv[0][0]']    \n",
            " ization)                       )                                                                 \n",
            "                                                                                                  \n",
            " conv4_block4_add (Add)         (None, 14, 14, 1024  0           ['conv4_block3_out[0][0]',       \n",
            "                                )                                 'conv4_block4_3_bn[0][0]']      \n",
            "                                                                                                  \n",
            " conv4_block4_out (Activation)  (None, 14, 14, 1024  0           ['conv4_block4_add[0][0]']       \n",
            "                                )                                                                 \n",
            "                                                                                                  \n",
            " conv4_block5_1_conv (Conv2D)   (None, 14, 14, 256)  262400      ['conv4_block4_out[0][0]']       \n",
            "                                                                                                  \n",
            " conv4_block5_1_bn (BatchNormal  (None, 14, 14, 256)  1024       ['conv4_block5_1_conv[0][0]']    \n",
            " ization)                                                                                         \n",
            "                                                                                                  \n",
            " conv4_block5_1_relu (Activatio  (None, 14, 14, 256)  0          ['conv4_block5_1_bn[0][0]']      \n",
            " n)                                                                                               \n",
            "                                                                                                  \n",
            " conv4_block5_2_conv (Conv2D)   (None, 14, 14, 256)  590080      ['conv4_block5_1_relu[0][0]']    \n",
            "                                                                                                  \n",
            " conv4_block5_2_bn (BatchNormal  (None, 14, 14, 256)  1024       ['conv4_block5_2_conv[0][0]']    \n",
            " ization)                                                                                         \n",
            "                                                                                                  \n",
            " conv4_block5_2_relu (Activatio  (None, 14, 14, 256)  0          ['conv4_block5_2_bn[0][0]']      \n",
            " n)                                                                                               \n",
            "                                                                                                  \n",
            " conv4_block5_3_conv (Conv2D)   (None, 14, 14, 1024  263168      ['conv4_block5_2_relu[0][0]']    \n",
            "                                )                                                                 \n",
            "                                                                                                  \n",
            " conv4_block5_3_bn (BatchNormal  (None, 14, 14, 1024  4096       ['conv4_block5_3_conv[0][0]']    \n",
            " ization)                       )                                                                 \n",
            "                                                                                                  \n",
            " conv4_block5_add (Add)         (None, 14, 14, 1024  0           ['conv4_block4_out[0][0]',       \n",
            "                                )                                 'conv4_block5_3_bn[0][0]']      \n",
            "                                                                                                  \n",
            " conv4_block5_out (Activation)  (None, 14, 14, 1024  0           ['conv4_block5_add[0][0]']       \n",
            "                                )                                                                 \n",
            "                                                                                                  \n",
            " conv4_block6_1_conv (Conv2D)   (None, 14, 14, 256)  262400      ['conv4_block5_out[0][0]']       \n",
            "                                                                                                  \n",
            " conv4_block6_1_bn (BatchNormal  (None, 14, 14, 256)  1024       ['conv4_block6_1_conv[0][0]']    \n",
            " ization)                                                                                         \n",
            "                                                                                                  \n",
            " conv4_block6_1_relu (Activatio  (None, 14, 14, 256)  0          ['conv4_block6_1_bn[0][0]']      \n",
            " n)                                                                                               \n",
            "                                                                                                  \n",
            " conv4_block6_2_conv (Conv2D)   (None, 14, 14, 256)  590080      ['conv4_block6_1_relu[0][0]']    \n",
            "                                                                                                  \n",
            " conv4_block6_2_bn (BatchNormal  (None, 14, 14, 256)  1024       ['conv4_block6_2_conv[0][0]']    \n",
            " ization)                                                                                         \n",
            "                                                                                                  \n",
            " conv4_block6_2_relu (Activatio  (None, 14, 14, 256)  0          ['conv4_block6_2_bn[0][0]']      \n",
            " n)                                                                                               \n",
            "                                                                                                  \n",
            " conv4_block6_3_conv (Conv2D)   (None, 14, 14, 1024  263168      ['conv4_block6_2_relu[0][0]']    \n",
            "                                )                                                                 \n",
            "                                                                                                  \n",
            " conv4_block6_3_bn (BatchNormal  (None, 14, 14, 1024  4096       ['conv4_block6_3_conv[0][0]']    \n",
            " ization)                       )                                                                 \n",
            "                                                                                                  \n",
            " conv4_block6_add (Add)         (None, 14, 14, 1024  0           ['conv4_block5_out[0][0]',       \n",
            "                                )                                 'conv4_block6_3_bn[0][0]']      \n",
            "                                                                                                  \n",
            " conv4_block6_out (Activation)  (None, 14, 14, 1024  0           ['conv4_block6_add[0][0]']       \n",
            "                                )                                                                 \n",
            "                                                                                                  \n",
            " conv5_block1_1_conv (Conv2D)   (None, 7, 7, 512)    524800      ['conv4_block6_out[0][0]']       \n",
            "                                                                                                  \n",
            " conv5_block1_1_bn (BatchNormal  (None, 7, 7, 512)   2048        ['conv5_block1_1_conv[0][0]']    \n",
            " ization)                                                                                         \n",
            "                                                                                                  \n",
            " conv5_block1_1_relu (Activatio  (None, 7, 7, 512)   0           ['conv5_block1_1_bn[0][0]']      \n",
            " n)                                                                                               \n",
            "                                                                                                  \n",
            " conv5_block1_2_conv (Conv2D)   (None, 7, 7, 512)    2359808     ['conv5_block1_1_relu[0][0]']    \n",
            "                                                                                                  \n",
            " conv5_block1_2_bn (BatchNormal  (None, 7, 7, 512)   2048        ['conv5_block1_2_conv[0][0]']    \n",
            " ization)                                                                                         \n",
            "                                                                                                  \n",
            " conv5_block1_2_relu (Activatio  (None, 7, 7, 512)   0           ['conv5_block1_2_bn[0][0]']      \n",
            " n)                                                                                               \n",
            "                                                                                                  \n",
            " conv5_block1_0_conv (Conv2D)   (None, 7, 7, 2048)   2099200     ['conv4_block6_out[0][0]']       \n",
            "                                                                                                  \n",
            " conv5_block1_3_conv (Conv2D)   (None, 7, 7, 2048)   1050624     ['conv5_block1_2_relu[0][0]']    \n",
            "                                                                                                  \n",
            " conv5_block1_0_bn (BatchNormal  (None, 7, 7, 2048)  8192        ['conv5_block1_0_conv[0][0]']    \n",
            " ization)                                                                                         \n",
            "                                                                                                  \n",
            " conv5_block1_3_bn (BatchNormal  (None, 7, 7, 2048)  8192        ['conv5_block1_3_conv[0][0]']    \n",
            " ization)                                                                                         \n",
            "                                                                                                  \n",
            " conv5_block1_add (Add)         (None, 7, 7, 2048)   0           ['conv5_block1_0_bn[0][0]',      \n",
            "                                                                  'conv5_block1_3_bn[0][0]']      \n",
            "                                                                                                  \n",
            " conv5_block1_out (Activation)  (None, 7, 7, 2048)   0           ['conv5_block1_add[0][0]']       \n",
            "                                                                                                  \n",
            " conv5_block2_1_conv (Conv2D)   (None, 7, 7, 512)    1049088     ['conv5_block1_out[0][0]']       \n",
            "                                                                                                  \n",
            " conv5_block2_1_bn (BatchNormal  (None, 7, 7, 512)   2048        ['conv5_block2_1_conv[0][0]']    \n",
            " ization)                                                                                         \n",
            "                                                                                                  \n",
            " conv5_block2_1_relu (Activatio  (None, 7, 7, 512)   0           ['conv5_block2_1_bn[0][0]']      \n",
            " n)                                                                                               \n",
            "                                                                                                  \n",
            " conv5_block2_2_conv (Conv2D)   (None, 7, 7, 512)    2359808     ['conv5_block2_1_relu[0][0]']    \n",
            "                                                                                                  \n",
            " conv5_block2_2_bn (BatchNormal  (None, 7, 7, 512)   2048        ['conv5_block2_2_conv[0][0]']    \n",
            " ization)                                                                                         \n",
            "                                                                                                  \n",
            " conv5_block2_2_relu (Activatio  (None, 7, 7, 512)   0           ['conv5_block2_2_bn[0][0]']      \n",
            " n)                                                                                               \n",
            "                                                                                                  \n",
            " conv5_block2_3_conv (Conv2D)   (None, 7, 7, 2048)   1050624     ['conv5_block2_2_relu[0][0]']    \n",
            "                                                                                                  \n",
            " conv5_block2_3_bn (BatchNormal  (None, 7, 7, 2048)  8192        ['conv5_block2_3_conv[0][0]']    \n",
            " ization)                                                                                         \n",
            "                                                                                                  \n",
            " conv5_block2_add (Add)         (None, 7, 7, 2048)   0           ['conv5_block1_out[0][0]',       \n",
            "                                                                  'conv5_block2_3_bn[0][0]']      \n",
            "                                                                                                  \n",
            " conv5_block2_out (Activation)  (None, 7, 7, 2048)   0           ['conv5_block2_add[0][0]']       \n",
            "                                                                                                  \n",
            " conv5_block3_1_conv (Conv2D)   (None, 7, 7, 512)    1049088     ['conv5_block2_out[0][0]']       \n",
            "                                                                                                  \n",
            " conv5_block3_1_bn (BatchNormal  (None, 7, 7, 512)   2048        ['conv5_block3_1_conv[0][0]']    \n",
            " ization)                                                                                         \n",
            "                                                                                                  \n",
            " conv5_block3_1_relu (Activatio  (None, 7, 7, 512)   0           ['conv5_block3_1_bn[0][0]']      \n",
            " n)                                                                                               \n",
            "                                                                                                  \n",
            " conv5_block3_2_conv (Conv2D)   (None, 7, 7, 512)    2359808     ['conv5_block3_1_relu[0][0]']    \n",
            "                                                                                                  \n",
            " conv5_block3_2_bn (BatchNormal  (None, 7, 7, 512)   2048        ['conv5_block3_2_conv[0][0]']    \n",
            " ization)                                                                                         \n",
            "                                                                                                  \n",
            " conv5_block3_2_relu (Activatio  (None, 7, 7, 512)   0           ['conv5_block3_2_bn[0][0]']      \n",
            " n)                                                                                               \n",
            "                                                                                                  \n",
            " conv5_block3_3_conv (Conv2D)   (None, 7, 7, 2048)   1050624     ['conv5_block3_2_relu[0][0]']    \n",
            "                                                                                                  \n",
            " conv5_block3_3_bn (BatchNormal  (None, 7, 7, 2048)  8192        ['conv5_block3_3_conv[0][0]']    \n",
            " ization)                                                                                         \n",
            "                                                                                                  \n",
            " conv5_block3_add (Add)         (None, 7, 7, 2048)   0           ['conv5_block2_out[0][0]',       \n",
            "                                                                  'conv5_block3_3_bn[0][0]']      \n",
            "                                                                                                  \n",
            " conv5_block3_out (Activation)  (None, 7, 7, 2048)   0           ['conv5_block3_add[0][0]']       \n",
            "                                                                                                  \n",
            "==================================================================================================\n",
            "Total params: 23,587,712\n",
            "Trainable params: 0\n",
            "Non-trainable params: 23,587,712\n",
            "__________________________________________________________________________________________________\n"
          ]
        }
      ],
      "source": [
        "resnet = keras.applications.resnet.ResNet50(\n",
        "    weights=\"imagenet\",\n",
        "    include_top=False,\n",
        "    input_shape=(224,224,3)\n",
        ")\n",
        "\n",
        "resnet.trainable = False\n",
        "resnet.summary()"
      ]
    },
    {
      "cell_type": "markdown",
      "source": [
        "###Dense"
      ],
      "metadata": {
        "id": "3-2Dxl3vToLy"
      }
    },
    {
      "cell_type": "code",
      "source": [
        "inputs = keras.Input(shape=(IMAGE_HEIGHT,IMAGE_WIDTH,3))\n",
        "x = keras.applications.resnet50.preprocess_input(inputs)\n",
        "x = resnet(x)\n",
        "\n",
        "x = layers.GlobalAveragePooling2D(name='gap')(x)\n",
        "x = layers.Dense(512,activation='relu', name='classifier_hidden')(x)\n",
        "output = layers.Dense(len(CLASSES), activation='softmax')(x)\n",
        "model = tf.keras.models.Model(inputs=inputs, outputs=output, name=\"ResNet\")\n",
        "\n",
        "model = compile_model(model, loss=\"sparse_categorical_crossentropy\")\n",
        "model.summary()"
      ],
      "metadata": {
        "colab": {
          "base_uri": "https://localhost:8080/"
        },
        "id": "zWKU7Vw0T-Xw",
        "outputId": "85321cb6-dc78-4e07-e4a9-e806b34d0fe9"
      },
      "execution_count": null,
      "outputs": [
        {
          "output_type": "stream",
          "name": "stdout",
          "text": [
            "Model: \"ResNet\"\n",
            "_________________________________________________________________\n",
            " Layer (type)                Output Shape              Param #   \n",
            "=================================================================\n",
            " input_2 (InputLayer)        [(None, 224, 224, 3)]     0         \n",
            "                                                                 \n",
            " tf.__operators__.getitem (S  (None, 224, 224, 3)      0         \n",
            " licingOpLambda)                                                 \n",
            "                                                                 \n",
            " tf.nn.bias_add (TFOpLambda)  (None, 224, 224, 3)      0         \n",
            "                                                                 \n",
            " resnet50 (Functional)       (None, 7, 7, 2048)        23587712  \n",
            "                                                                 \n",
            " gap (GlobalAveragePooling2D  (None, 2048)             0         \n",
            " )                                                               \n",
            "                                                                 \n",
            " classifier_hidden (Dense)   (None, 512)               1049088   \n",
            "                                                                 \n",
            " dense (Dense)               (None, 7)                 3591      \n",
            "                                                                 \n",
            "=================================================================\n",
            "Total params: 24,640,391\n",
            "Trainable params: 1,052,679\n",
            "Non-trainable params: 23,587,712\n",
            "_________________________________________________________________\n"
          ]
        }
      ]
    },
    {
      "cell_type": "code",
      "source": [
        "model, history = run_model(model, \"Dense\", training_images, val_images, EPOCHS, patience=5, monitor='val_loss', class_weight=class_weight)"
      ],
      "metadata": {
        "colab": {
          "base_uri": "https://localhost:8080/"
        },
        "id": "Gzv6FYdNUjPG",
        "outputId": "872c6400-bf5d-41d8-c20f-f452140aa850"
      },
      "execution_count": null,
      "outputs": [
        {
          "output_type": "stream",
          "name": "stdout",
          "text": [
            "Epoch 1/50\n",
            "220/220 [==============================] - ETA: 0s - loss: 1.4066 - accuracy: 0.6496\n",
            "Epoch 1: val_loss improved from inf to 0.71210, saving model to /content/models/Dense.h5\n",
            "220/220 [==============================] - 799s 3s/step - loss: 1.4066 - accuracy: 0.6496 - val_loss: 0.7121 - val_accuracy: 0.7320\n",
            "Epoch 2/50\n",
            "219/220 [============================>.] - ETA: 0s - loss: 0.9204 - accuracy: 0.7383\n",
            "Epoch 2: val_loss did not improve from 0.71210\n",
            "220/220 [==============================] - 28s 123ms/step - loss: 0.9208 - accuracy: 0.7382 - val_loss: 0.8323 - val_accuracy: 0.6800\n",
            "Epoch 3/50\n",
            "219/220 [============================>.] - ETA: 0s - loss: 0.7704 - accuracy: 0.7697\n",
            "Epoch 3: val_loss improved from 0.71210 to 0.68629, saving model to /content/models/Dense.h5\n",
            "220/220 [==============================] - 30s 133ms/step - loss: 0.7703 - accuracy: 0.7697 - val_loss: 0.6863 - val_accuracy: 0.7453\n",
            "Epoch 4/50\n",
            "219/220 [============================>.] - ETA: 0s - loss: 0.6718 - accuracy: 0.7987\n",
            "Epoch 4: val_loss improved from 0.68629 to 0.63709, saving model to /content/models/Dense.h5\n",
            "220/220 [==============================] - 28s 126ms/step - loss: 0.6713 - accuracy: 0.7988 - val_loss: 0.6371 - val_accuracy: 0.7693\n",
            "Epoch 5/50\n",
            "219/220 [============================>.] - ETA: 0s - loss: 0.5797 - accuracy: 0.8136\n",
            "Epoch 5: val_loss did not improve from 0.63709\n",
            "220/220 [==============================] - 28s 125ms/step - loss: 0.5795 - accuracy: 0.8137 - val_loss: 0.8165 - val_accuracy: 0.7067\n",
            "Epoch 6/50\n",
            "219/220 [============================>.] - ETA: 0s - loss: 0.5009 - accuracy: 0.8383\n",
            "Epoch 6: val_loss did not improve from 0.63709\n",
            "220/220 [==============================] - 29s 129ms/step - loss: 0.5007 - accuracy: 0.8385 - val_loss: 0.6842 - val_accuracy: 0.7600\n",
            "Epoch 7/50\n",
            "219/220 [============================>.] - ETA: 0s - loss: 0.4335 - accuracy: 0.8559\n",
            "Epoch 7: val_loss did not improve from 0.63709\n",
            "220/220 [==============================] - 28s 125ms/step - loss: 0.4337 - accuracy: 0.8560 - val_loss: 0.7191 - val_accuracy: 0.7460\n",
            "Epoch 8/50\n",
            "219/220 [============================>.] - ETA: 0s - loss: 0.3894 - accuracy: 0.8740\n",
            "Epoch 8: val_loss improved from 0.63709 to 0.60985, saving model to /content/models/Dense.h5\n",
            "220/220 [==============================] - 28s 126ms/step - loss: 0.3892 - accuracy: 0.8741 - val_loss: 0.6098 - val_accuracy: 0.7920\n",
            "Epoch 9/50\n",
            "219/220 [============================>.] - ETA: 0s - loss: 0.3495 - accuracy: 0.8824\n",
            "Epoch 9: val_loss did not improve from 0.60985\n",
            "220/220 [==============================] - 29s 131ms/step - loss: 0.3492 - accuracy: 0.8825 - val_loss: 0.7814 - val_accuracy: 0.7427\n",
            "Epoch 10/50\n",
            "219/220 [============================>.] - ETA: 0s - loss: 0.2953 - accuracy: 0.8917\n",
            "Epoch 10: val_loss did not improve from 0.60985\n",
            "220/220 [==============================] - 33s 146ms/step - loss: 0.2951 - accuracy: 0.8918 - val_loss: 0.6445 - val_accuracy: 0.7927\n",
            "Epoch 11/50\n",
            "219/220 [============================>.] - ETA: 0s - loss: 0.2496 - accuracy: 0.9115\n",
            "Epoch 11: val_loss did not improve from 0.60985\n",
            "220/220 [==============================] - 28s 125ms/step - loss: 0.2495 - accuracy: 0.9115 - val_loss: 0.7098 - val_accuracy: 0.7807\n",
            "Epoch 12/50\n",
            "219/220 [============================>.] - ETA: 0s - loss: 0.2159 - accuracy: 0.9229\n",
            "Epoch 12: val_loss did not improve from 0.60985\n",
            "220/220 [==============================] - 29s 129ms/step - loss: 0.2158 - accuracy: 0.9230 - val_loss: 0.8239 - val_accuracy: 0.7293\n",
            "Epoch 13/50\n",
            "219/220 [============================>.] - ETA: 0s - loss: 0.1900 - accuracy: 0.9267\n",
            "Epoch 13: val_loss did not improve from 0.60985\n",
            "220/220 [==============================] - 28s 125ms/step - loss: 0.1899 - accuracy: 0.9267 - val_loss: 0.7171 - val_accuracy: 0.7893\n"
          ]
        }
      ]
    },
    {
      "cell_type": "code",
      "source": [
        "evaluate_model(model, test_images)"
      ],
      "metadata": {
        "colab": {
          "base_uri": "https://localhost:8080/"
        },
        "outputId": "1133de8e-8275-4d46-8263-aa46eb8a8ec6",
        "id": "E38WM4UIUjfH"
      },
      "execution_count": null,
      "outputs": [
        {
          "output_type": "stream",
          "name": "stdout",
          "text": [
            "48/48 [==============================] - 144s 3s/step - loss: 0.6512 - accuracy: 0.7915\n",
            "Loss on test set: 0.6511757969856262\n",
            "Accuracy on test set: 0.7915287613868713\n",
            "                precision    recall  f1-score   support\n",
            "\n",
            "       Actinic     0.4643    0.5200    0.4906        50\n",
            "           BCC     0.4957    0.7250    0.5888        80\n",
            "Dermatofibroma     0.5882    0.5556    0.5714        18\n",
            "     Keratosis     0.6519    0.5301    0.5847       166\n",
            "      Melanoma     0.5444    0.5476    0.5460       168\n",
            "          Nevu     0.9077    0.8987    0.9032      1007\n",
            "      Vascular     0.8500    0.7727    0.8095        22\n",
            "\n",
            "      accuracy                         0.7915      1511\n",
            "     macro avg     0.6432    0.6500    0.6420      1511\n",
            "  weighted avg     0.7981    0.7915    0.7929      1511\n",
            "\n"
          ]
        }
      ]
    },
    {
      "cell_type": "code",
      "source": [
        "plot_confusionmatrix(model, test_images)"
      ],
      "metadata": {
        "colab": {
          "base_uri": "https://localhost:8080/",
          "height": 647
        },
        "id": "sWKfR63sUjfI",
        "outputId": "eddc0447-a968-4aa9-f87c-b43930669871"
      },
      "execution_count": null,
      "outputs": [
        {
          "output_type": "stream",
          "name": "stdout",
          "text": [
            "48/48 [==============================] - 5s 109ms/step\n"
          ]
        },
        {
          "output_type": "display_data",
          "data": {
            "text/plain": [
              "<Figure size 720x720 with 2 Axes>"
            ],
            "image/png": "[encoded data removed]"
          },
          "metadata": {
            "needs_background": "light"
          }
        }
      ]
    },
    {
      "cell_type": "markdown",
      "source": [
        "### Dense Layer and Dropout"
      ],
      "metadata": {
        "id": "nkvnVHVTM0XL"
      }
    },
    {
      "cell_type": "code",
      "source": [
        "inputs = keras.Input(shape=(IMAGE_HEIGHT,IMAGE_WIDTH,3))\n",
        "x = keras.applications.resnet50.preprocess_input(inputs)\n",
        "x = resnet(x)\n",
        "\n",
        "x = layers.GlobalAveragePooling2D(name='gap')(x)\n",
        "x = layers.Flatten(name='flatten')(x)\n",
        "x = layers.Dense(512,activation='relu', name='classifier_hidden')(x)\n",
        "x = layers.Dropout(DROPOUT)(x)\n",
        "output = layers.Dense(len(CLASSES), activation='softmax')(x)\n",
        "\n",
        "model = tf.keras.models.Model(inputs=inputs, outputs=output, name=\"ResNet\")\n",
        "\n",
        "model = compile_model(model, loss=\"sparse_categorical_crossentropy\")\n",
        "model.summary()"
      ],
      "metadata": {
        "colab": {
          "base_uri": "https://localhost:8080/"
        },
        "id": "5UAMDmzXNGCY",
        "outputId": "a7edc115-71fe-4edb-aa5f-733314b84b99"
      },
      "execution_count": null,
      "outputs": [
        {
          "output_type": "stream",
          "name": "stdout",
          "text": [
            "Model: \"ResNet\"\n",
            "_________________________________________________________________\n",
            " Layer (type)                Output Shape              Param #   \n",
            "=================================================================\n",
            " input_3 (InputLayer)        [(None, 224, 224, 3)]     0         \n",
            "                                                                 \n",
            " tf.__operators__.getitem_1   (None, 224, 224, 3)      0         \n",
            " (SlicingOpLambda)                                               \n",
            "                                                                 \n",
            " tf.nn.bias_add_1 (TFOpLambd  (None, 224, 224, 3)      0         \n",
            " a)                                                              \n",
            "                                                                 \n",
            " resnet50 (Functional)       (None, 7, 7, 2048)        23587712  \n",
            "                                                                 \n",
            " gap (GlobalAveragePooling2D  (None, 2048)             0         \n",
            " )                                                               \n",
            "                                                                 \n",
            " flatten (Flatten)           (None, 2048)              0         \n",
            "                                                                 \n",
            " classifier_hidden (Dense)   (None, 512)               1049088   \n",
            "                                                                 \n",
            " dropout (Dropout)           (None, 512)               0         \n",
            "                                                                 \n",
            " dense_1 (Dense)             (None, 7)                 3591      \n",
            "                                                                 \n",
            "=================================================================\n",
            "Total params: 24,640,391\n",
            "Trainable params: 1,052,679\n",
            "Non-trainable params: 23,587,712\n",
            "_________________________________________________________________\n"
          ]
        }
      ]
    },
    {
      "cell_type": "code",
      "source": [
        "model, history = run_model(model, \"DenseDropout\", training_images, val_images, EPOCHS, patience=5, monitor='val_loss', class_weight=class_weight)"
      ],
      "metadata": {
        "colab": {
          "base_uri": "https://localhost:8080/"
        },
        "id": "ELSe2FycNWcB",
        "outputId": "2caa84ef-621c-470c-b0be-a9fe9ff663a5"
      },
      "execution_count": null,
      "outputs": [
        {
          "output_type": "stream",
          "name": "stdout",
          "text": [
            "Epoch 1/50\n",
            "219/220 [============================>.] - ETA: 0s - loss: 1.5614 - accuracy: 0.6314\n",
            "Epoch 1: val_loss improved from inf to 0.78004, saving model to /content/models/DenseDropout.h5\n",
            "220/220 [==============================] - 32s 132ms/step - loss: 1.5604 - accuracy: 0.6317 - val_loss: 0.7800 - val_accuracy: 0.7280\n",
            "Epoch 2/50\n",
            "219/220 [============================>.] - ETA: 0s - loss: 1.0744 - accuracy: 0.7008\n",
            "Epoch 2: val_loss did not improve from 0.78004\n",
            "220/220 [==============================] - 29s 129ms/step - loss: 1.0742 - accuracy: 0.7009 - val_loss: 0.7951 - val_accuracy: 0.7107\n",
            "Epoch 3/50\n",
            "219/220 [============================>.] - ETA: 0s - loss: 0.9457 - accuracy: 0.7280\n",
            "Epoch 3: val_loss improved from 0.78004 to 0.66724, saving model to /content/models/DenseDropout.h5\n",
            "220/220 [==============================] - 29s 127ms/step - loss: 0.9451 - accuracy: 0.7281 - val_loss: 0.6672 - val_accuracy: 0.7493\n",
            "Epoch 4/50\n",
            "219/220 [============================>.] - ETA: 0s - loss: 0.8484 - accuracy: 0.7544\n",
            "Epoch 4: val_loss did not improve from 0.66724\n",
            "220/220 [==============================] - 28s 125ms/step - loss: 0.8480 - accuracy: 0.7543 - val_loss: 0.7231 - val_accuracy: 0.7207\n",
            "Epoch 5/50\n",
            "219/220 [============================>.] - ETA: 0s - loss: 0.7895 - accuracy: 0.7671\n",
            "Epoch 5: val_loss improved from 0.66724 to 0.65514, saving model to /content/models/DenseDropout.h5\n",
            "220/220 [==============================] - 28s 126ms/step - loss: 0.7901 - accuracy: 0.7670 - val_loss: 0.6551 - val_accuracy: 0.7493\n",
            "Epoch 6/50\n",
            "219/220 [============================>.] - ETA: 0s - loss: 0.7507 - accuracy: 0.7754\n",
            "Epoch 6: val_loss improved from 0.65514 to 0.64981, saving model to /content/models/DenseDropout.h5\n",
            "220/220 [==============================] - 28s 127ms/step - loss: 0.7505 - accuracy: 0.7756 - val_loss: 0.6498 - val_accuracy: 0.7440\n",
            "Epoch 7/50\n",
            "219/220 [============================>.] - ETA: 0s - loss: 0.6826 - accuracy: 0.7855\n",
            "Epoch 7: val_loss did not improve from 0.64981\n",
            "220/220 [==============================] - 28s 126ms/step - loss: 0.6824 - accuracy: 0.7856 - val_loss: 0.6924 - val_accuracy: 0.7453\n",
            "Epoch 8/50\n",
            "219/220 [============================>.] - ETA: 0s - loss: 0.6320 - accuracy: 0.8019\n",
            "Epoch 8: val_loss did not improve from 0.64981\n",
            "220/220 [==============================] - 28s 123ms/step - loss: 0.6317 - accuracy: 0.8021 - val_loss: 0.6649 - val_accuracy: 0.7553\n",
            "Epoch 9/50\n",
            "219/220 [============================>.] - ETA: 0s - loss: 0.5978 - accuracy: 0.8149\n",
            "Epoch 9: val_loss did not improve from 0.64981\n",
            "220/220 [==============================] - 28s 124ms/step - loss: 0.5974 - accuracy: 0.8151 - val_loss: 0.6723 - val_accuracy: 0.7420\n",
            "Epoch 10/50\n",
            "219/220 [============================>.] - ETA: 0s - loss: 0.5616 - accuracy: 0.8208\n",
            "Epoch 10: val_loss improved from 0.64981 to 0.62893, saving model to /content/models/DenseDropout.h5\n",
            "220/220 [==============================] - 29s 128ms/step - loss: 0.5621 - accuracy: 0.8208 - val_loss: 0.6289 - val_accuracy: 0.7553\n",
            "Epoch 11/50\n",
            "219/220 [============================>.] - ETA: 0s - loss: 0.5186 - accuracy: 0.8305\n",
            "Epoch 11: val_loss improved from 0.62893 to 0.62282, saving model to /content/models/DenseDropout.h5\n",
            "220/220 [==============================] - 28s 126ms/step - loss: 0.5187 - accuracy: 0.8306 - val_loss: 0.6228 - val_accuracy: 0.7693\n",
            "Epoch 12/50\n",
            "219/220 [============================>.] - ETA: 0s - loss: 0.4817 - accuracy: 0.8393\n",
            "Epoch 12: val_loss did not improve from 0.62282\n",
            "220/220 [==============================] - 28s 125ms/step - loss: 0.4815 - accuracy: 0.8395 - val_loss: 0.6260 - val_accuracy: 0.7753\n",
            "Epoch 13/50\n",
            "219/220 [============================>.] - ETA: 0s - loss: 0.4829 - accuracy: 0.8353\n",
            "Epoch 13: val_loss improved from 0.62282 to 0.61607, saving model to /content/models/DenseDropout.h5\n",
            "220/220 [==============================] - 28s 126ms/step - loss: 0.4826 - accuracy: 0.8355 - val_loss: 0.6161 - val_accuracy: 0.7853\n",
            "Epoch 14/50\n",
            "219/220 [============================>.] - ETA: 0s - loss: 0.4535 - accuracy: 0.8492\n",
            "Epoch 14: val_loss did not improve from 0.61607\n",
            "220/220 [==============================] - 28s 126ms/step - loss: 0.4537 - accuracy: 0.8490 - val_loss: 0.7700 - val_accuracy: 0.7307\n",
            "Epoch 15/50\n",
            "219/220 [============================>.] - ETA: 0s - loss: 0.4359 - accuracy: 0.8572\n",
            "Epoch 15: val_loss did not improve from 0.61607\n",
            "220/220 [==============================] - 28s 124ms/step - loss: 0.4356 - accuracy: 0.8573 - val_loss: 0.7645 - val_accuracy: 0.7280\n",
            "Epoch 16/50\n",
            "219/220 [============================>.] - ETA: 0s - loss: 0.4182 - accuracy: 0.8525\n",
            "Epoch 16: val_loss did not improve from 0.61607\n",
            "220/220 [==============================] - 28s 125ms/step - loss: 0.4181 - accuracy: 0.8524 - val_loss: 0.6675 - val_accuracy: 0.7713\n",
            "Epoch 17/50\n",
            "219/220 [============================>.] - ETA: 0s - loss: 0.3791 - accuracy: 0.8656\n",
            "Epoch 17: val_loss did not improve from 0.61607\n",
            "220/220 [==============================] - 28s 124ms/step - loss: 0.3794 - accuracy: 0.8654 - val_loss: 0.6371 - val_accuracy: 0.7933\n",
            "Epoch 18/50\n",
            "219/220 [============================>.] - ETA: 0s - loss: 0.3516 - accuracy: 0.8779\n",
            "Epoch 18: val_loss did not improve from 0.61607\n",
            "220/220 [==============================] - 28s 126ms/step - loss: 0.3514 - accuracy: 0.8780 - val_loss: 0.6395 - val_accuracy: 0.8060\n"
          ]
        }
      ]
    },
    {
      "cell_type": "code",
      "source": [
        "show_training_and_validation_performance(history)"
      ],
      "metadata": {
        "colab": {
          "base_uri": "https://localhost:8080/",
          "height": 545
        },
        "id": "20RcW3cUNi5X",
        "outputId": "00921098-4560-42ff-813c-b4406ff76174"
      },
      "execution_count": null,
      "outputs": [
        {
          "output_type": "display_data",
          "data": {
            "text/plain": [
              "<Figure size 432x288 with 1 Axes>"
            ],
            "image/png": "[encoded data removed]"
          },
          "metadata": {
            "needs_background": "light"
          }
        },
        {
          "output_type": "display_data",
          "data": {
            "text/plain": [
              "<Figure size 432x288 with 1 Axes>"
            ],
            "image/png": "[encoded data removed]"
          },
          "metadata": {
            "needs_background": "light"
          }
        }
      ]
    },
    {
      "cell_type": "code",
      "source": [
        "evaluate_model(model, test_images)"
      ],
      "metadata": {
        "colab": {
          "base_uri": "https://localhost:8080/"
        },
        "id": "SvYwsUw6Nk6C",
        "outputId": "fa7c185b-4c25-4a83-a12a-1fd6be4226a5"
      },
      "execution_count": null,
      "outputs": [
        {
          "output_type": "stream",
          "name": "stdout",
          "text": [
            "48/48 [==============================] - 6s 104ms/step - loss: 0.6560 - accuracy: 0.7717\n",
            "Loss on test set: 0.6559931635856628\n",
            "Accuracy on test set: 0.771674394607544\n",
            "                precision    recall  f1-score   support\n",
            "\n",
            "       Actinic     0.5897    0.4600    0.5169        50\n",
            "           BCC     0.5962    0.3875    0.4697        80\n",
            "Dermatofibroma     0.5000    0.3333    0.4000        18\n",
            "     Keratosis     0.5699    0.6627    0.6128       166\n",
            "      Melanoma     0.4434    0.5833    0.5039       168\n",
            "          Nevu     0.9071    0.8729    0.8897      1007\n",
            "      Vascular     0.7600    0.8636    0.8085        22\n",
            "\n",
            "      accuracy                         0.7717      1511\n",
            "     macro avg     0.6238    0.5948    0.6002      1511\n",
            "  weighted avg     0.7846    0.7717    0.7748      1511\n",
            "\n"
          ]
        }
      ]
    },
    {
      "cell_type": "code",
      "source": [
        "plot_confusionmatrix(model, test_images)"
      ],
      "metadata": {
        "colab": {
          "base_uri": "https://localhost:8080/",
          "height": 647
        },
        "id": "YEbkGHRmNmz-",
        "outputId": "e4e32d85-0f4a-43b2-946e-8b2b731e4402"
      },
      "execution_count": null,
      "outputs": [
        {
          "output_type": "stream",
          "name": "stdout",
          "text": [
            "48/48 [==============================] - 5s 106ms/step\n"
          ]
        },
        {
          "output_type": "display_data",
          "data": {
            "text/plain": [
              "<Figure size 720x720 with 2 Axes>"
            ],
            "image/png": "[encoded data removed]"
          },
          "metadata": {
            "needs_background": "light"
          }
        }
      ]
    },
    {
      "cell_type": "markdown",
      "source": [
        "## Fine Tuning"
      ],
      "metadata": {
        "id": "j5BW4JKbq57F"
      }
    },
    {
      "cell_type": "code",
      "source": [
        "model = models.load_model('/content/gdrive/MyDrive/SkinCancer/Models/ResNet/Dense.h5')"
      ],
      "metadata": {
        "id": "_wOBWSIJrCyW"
      },
      "execution_count": null,
      "outputs": []
    },
    {
      "cell_type": "markdown",
      "source": [
        "### Last Mini Block"
      ],
      "metadata": {
        "id": "89RJrtOsrOhs"
      }
    },
    {
      "cell_type": "code",
      "source": [
        "trainable = False\n",
        "\n",
        "for layer in model.get_layer(\"resnet50\").layers:\n",
        "    if 'conv5_block3_3_conv' in layer.name:\n",
        "        trainable = True\n",
        "    is_bn = layer.name.endswith('bn')  # keep BatchNorm freezed, good practice for finetuned models\n",
        "    if not is_bn:\n",
        "      layer.trainable = trainable\n",
        "\n",
        "model = compile_model(model, loss=\"sparse_categorical_crossentropy\", learning_rate=0.0001)\n",
        "model.summary()"
      ],
      "metadata": {
        "colab": {
          "base_uri": "https://localhost:8080/"
        },
        "id": "EZjg1lv06rXQ",
        "outputId": "bff7c933-e6be-417b-e73b-4eb11b5de267"
      },
      "execution_count": null,
      "outputs": [
        {
          "output_type": "stream",
          "name": "stdout",
          "text": [
            "Model: \"ResNet\"\n",
            "_________________________________________________________________\n",
            " Layer (type)                Output Shape              Param #   \n",
            "=================================================================\n",
            " input_2 (InputLayer)        [(None, 224, 224, 3)]     0         \n",
            "                                                                 \n",
            " tf.__operators__.getitem (S  (None, 224, 224, 3)      0         \n",
            " licingOpLambda)                                                 \n",
            "                                                                 \n",
            " tf.nn.bias_add (TFOpLambda)  (None, 224, 224, 3)      0         \n",
            "                                                                 \n",
            " resnet50 (Functional)       (None, 7, 7, 2048)        23587712  \n",
            "                                                                 \n",
            " gap (GlobalAveragePooling2D  (None, 2048)             0         \n",
            " )                                                               \n",
            "                                                                 \n",
            " classifier_hidden (Dense)   (None, 512)               1049088   \n",
            "                                                                 \n",
            " dense (Dense)               (None, 7)                 3591      \n",
            "                                                                 \n",
            "=================================================================\n",
            "Total params: 24,640,391\n",
            "Trainable params: 2,103,303\n",
            "Non-trainable params: 22,537,088\n",
            "_________________________________________________________________\n"
          ]
        }
      ]
    },
    {
      "cell_type": "code",
      "source": [
        "model, history = run_model(model, \"FT_LastBlock\", training_images, val_images, EPOCHS, patience=5, monitor='val_loss', class_weight=class_weight)"
      ],
      "metadata": {
        "colab": {
          "base_uri": "https://localhost:8080/"
        },
        "outputId": "78231ca4-502b-421a-9bf1-388d2a2407cd",
        "id": "Ku_p1z3F7D5C"
      },
      "execution_count": null,
      "outputs": [
        {
          "output_type": "stream",
          "name": "stdout",
          "text": [
            "Epoch 1/50\n",
            "220/220 [==============================] - ETA: 0s - loss: 0.3379 - accuracy: 0.8831\n",
            "Epoch 1: val_loss improved from inf to 0.69368, saving model to /content/models/FT_LastBlock.h5\n",
            "220/220 [==============================] - 34s 131ms/step - loss: 0.3379 - accuracy: 0.8831 - val_loss: 0.6937 - val_accuracy: 0.7573\n",
            "Epoch 2/50\n",
            "219/220 [============================>.] - ETA: 0s - loss: 0.2211 - accuracy: 0.9254\n",
            "Epoch 2: val_loss improved from 0.69368 to 0.62374, saving model to /content/models/FT_LastBlock.h5\n",
            "220/220 [==============================] - 30s 134ms/step - loss: 0.2210 - accuracy: 0.9254 - val_loss: 0.6237 - val_accuracy: 0.7953\n",
            "Epoch 3/50\n",
            "219/220 [============================>.] - ETA: 0s - loss: 0.1739 - accuracy: 0.9409\n",
            "Epoch 3: val_loss did not improve from 0.62374\n",
            "220/220 [==============================] - 28s 126ms/step - loss: 0.1738 - accuracy: 0.9410 - val_loss: 0.6512 - val_accuracy: 0.7987\n",
            "Epoch 4/50\n",
            "219/220 [============================>.] - ETA: 0s - loss: 0.1345 - accuracy: 0.9580\n",
            "Epoch 4: val_loss did not improve from 0.62374\n",
            "220/220 [==============================] - 29s 127ms/step - loss: 0.1345 - accuracy: 0.9581 - val_loss: 0.6520 - val_accuracy: 0.8000\n",
            "Epoch 5/50\n",
            "219/220 [============================>.] - ETA: 0s - loss: 0.1015 - accuracy: 0.9668\n",
            "Epoch 5: val_loss did not improve from 0.62374\n",
            "220/220 [==============================] - 29s 127ms/step - loss: 0.1015 - accuracy: 0.9666 - val_loss: 0.6551 - val_accuracy: 0.8047\n",
            "Epoch 6/50\n",
            "219/220 [============================>.] - ETA: 0s - loss: 0.0765 - accuracy: 0.9760\n",
            "Epoch 6: val_loss did not improve from 0.62374\n",
            "220/220 [==============================] - 28s 125ms/step - loss: 0.0765 - accuracy: 0.9760 - val_loss: 0.6968 - val_accuracy: 0.8127\n",
            "Epoch 7/50\n",
            "219/220 [============================>.] - ETA: 0s - loss: 0.0574 - accuracy: 0.9836\n",
            "Epoch 7: val_loss did not improve from 0.62374\n",
            "220/220 [==============================] - 28s 127ms/step - loss: 0.0573 - accuracy: 0.9836 - val_loss: 0.7052 - val_accuracy: 0.8027\n"
          ]
        }
      ]
    },
    {
      "cell_type": "code",
      "source": [
        "show_training_and_validation_performance(history)"
      ],
      "metadata": {
        "colab": {
          "base_uri": "https://localhost:8080/",
          "height": 545
        },
        "outputId": "050c3146-ce3f-493a-e479-417a208f9a0e",
        "id": "U3MmyalF7D5C"
      },
      "execution_count": null,
      "outputs": [
        {
          "output_type": "display_data",
          "data": {
            "text/plain": [
              "<Figure size 432x288 with 1 Axes>"
            ],
            "image/png": "[encoded data removed]"
          },
          "metadata": {
            "needs_background": "light"
          }
        },
        {
          "output_type": "display_data",
          "data": {
            "text/plain": [
              "<Figure size 432x288 with 1 Axes>"
            ],
            "image/png": "[encoded data removed]"
          },
          "metadata": {
            "needs_background": "light"
          }
        }
      ]
    },
    {
      "cell_type": "code",
      "source": [
        "evaluate_model(model, test_images)"
      ],
      "metadata": {
        "colab": {
          "base_uri": "https://localhost:8080/"
        },
        "outputId": "cc3b0e83-3a31-408d-e20a-96cc0c46ead3",
        "id": "RhRcPnFI7D5D"
      },
      "execution_count": null,
      "outputs": [
        {
          "output_type": "stream",
          "name": "stdout",
          "text": [
            "48/48 [==============================] - 6s 103ms/step - loss: 0.6790 - accuracy: 0.7836\n",
            "Loss on test set: 0.6789987087249756\n",
            "Accuracy on test set: 0.7835870385169983\n",
            "                precision    recall  f1-score   support\n",
            "\n",
            "       Actinic     0.5106    0.4800    0.4948        50\n",
            "           BCC     0.4836    0.7375    0.5842        80\n",
            "Dermatofibroma     0.4167    0.5556    0.4762        18\n",
            "     Keratosis     0.6051    0.5723    0.5882       166\n",
            "      Melanoma     0.5260    0.5417    0.5337       168\n",
            "          Nevu     0.9193    0.8818    0.9002      1007\n",
            "      Vascular     0.7727    0.7727    0.7727        22\n",
            "\n",
            "      accuracy                         0.7836      1511\n",
            "     macro avg     0.6049    0.6488    0.6214      1511\n",
            "  weighted avg     0.7963    0.7836    0.7881      1511\n",
            "\n"
          ]
        }
      ]
    },
    {
      "cell_type": "code",
      "source": [
        "plot_confusionmatrix(model, test_images)"
      ],
      "metadata": {
        "colab": {
          "base_uri": "https://localhost:8080/",
          "height": 647
        },
        "outputId": "8d54d479-da1f-4ab7-9ea6-92bb5821d090",
        "id": "8K3KNhHj7D5D"
      },
      "execution_count": null,
      "outputs": [
        {
          "output_type": "stream",
          "name": "stdout",
          "text": [
            "48/48 [==============================] - 5s 107ms/step\n"
          ]
        },
        {
          "output_type": "display_data",
          "data": {
            "text/plain": [
              "<Figure size 720x720 with 2 Axes>"
            ],
            "image/png": "[encoded data removed]"
          },
          "metadata": {
            "needs_background": "light"
          }
        }
      ]
    },
    {
      "cell_type": "markdown",
      "source": [
        "### Last Block"
      ],
      "metadata": {
        "id": "pYitf9Ps6y1Y"
      }
    },
    {
      "cell_type": "code",
      "source": [
        "trainable = False\n",
        "\n",
        "for layer in model.get_layer(\"resnet50\").layers:\n",
        "    if 'conv5_block3' in layer.name:\n",
        "        trainable = True\n",
        "    is_bn = layer.name.endswith('bn')  # keep BatchNorm freezed, good practice for finetuned models\n",
        "    if not is_bn:\n",
        "      layer.trainable = trainable\n",
        "\n",
        "model = compile_model(model, loss=\"sparse_categorical_crossentropy\", learning_rate=0.0001)\n",
        "model.summary()"
      ],
      "metadata": {
        "colab": {
          "base_uri": "https://localhost:8080/"
        },
        "id": "1UEkqAc4rN8H",
        "outputId": "4c6c4e35-2740-4509-cc3f-9031b9319a8b"
      },
      "execution_count": null,
      "outputs": [
        {
          "output_type": "stream",
          "name": "stdout",
          "text": [
            "Model: \"ResNet\"\n",
            "_________________________________________________________________\n",
            " Layer (type)                Output Shape              Param #   \n",
            "=================================================================\n",
            " input_2 (InputLayer)        [(None, 224, 224, 3)]     0         \n",
            "                                                                 \n",
            " tf.__operators__.getitem (S  (None, 224, 224, 3)      0         \n",
            " licingOpLambda)                                                 \n",
            "                                                                 \n",
            " tf.nn.bias_add (TFOpLambda)  (None, 224, 224, 3)      0         \n",
            "                                                                 \n",
            " resnet50 (Functional)       (None, 7, 7, 2048)        23587712  \n",
            "                                                                 \n",
            " gap (GlobalAveragePooling2D  (None, 2048)             0         \n",
            " )                                                               \n",
            "                                                                 \n",
            " classifier_hidden (Dense)   (None, 512)               1049088   \n",
            "                                                                 \n",
            " dense (Dense)               (None, 7)                 3591      \n",
            "                                                                 \n",
            "=================================================================\n",
            "Total params: 24,640,391\n",
            "Trainable params: 5,512,199\n",
            "Non-trainable params: 19,128,192\n",
            "_________________________________________________________________\n"
          ]
        }
      ]
    },
    {
      "cell_type": "code",
      "source": [
        "model, history = run_model(model, \"FT_LastWhole\", training_images, val_images, EPOCHS, patience=5, monitor='val_loss', class_weight=class_weight)"
      ],
      "metadata": {
        "colab": {
          "base_uri": "https://localhost:8080/"
        },
        "outputId": "9b901a02-b0fc-4cbd-c958-56a9851299b9",
        "id": "Cf1SxT70653R"
      },
      "execution_count": null,
      "outputs": [
        {
          "output_type": "stream",
          "name": "stdout",
          "text": [
            "Epoch 1/50\n",
            "220/220 [==============================] - ETA: 0s - loss: 0.3109 - accuracy: 0.8999\n",
            "Epoch 1: val_loss improved from inf to 0.59578, saving model to /content/models/FT_LastWhole.h5\n",
            "220/220 [==============================] - 36s 143ms/step - loss: 0.3109 - accuracy: 0.8999 - val_loss: 0.5958 - val_accuracy: 0.7887\n",
            "Epoch 2/50\n",
            "219/220 [============================>.] - ETA: 0s - loss: 0.1880 - accuracy: 0.9368\n",
            "Epoch 2: val_loss improved from 0.59578 to 0.58189, saving model to /content/models/FT_LastWhole.h5\n",
            "220/220 [==============================] - 31s 136ms/step - loss: 0.1884 - accuracy: 0.9366 - val_loss: 0.5819 - val_accuracy: 0.7933\n",
            "Epoch 3/50\n",
            "219/220 [============================>.] - ETA: 0s - loss: 0.1296 - accuracy: 0.9569\n",
            "Epoch 3: val_loss did not improve from 0.58189\n",
            "220/220 [==============================] - 30s 135ms/step - loss: 0.1295 - accuracy: 0.9569 - val_loss: 0.6367 - val_accuracy: 0.8087\n",
            "Epoch 4/50\n",
            "219/220 [============================>.] - ETA: 0s - loss: 0.0766 - accuracy: 0.9795\n",
            "Epoch 4: val_loss did not improve from 0.58189\n",
            "220/220 [==============================] - 30s 134ms/step - loss: 0.0766 - accuracy: 0.9795 - val_loss: 0.6311 - val_accuracy: 0.8360\n",
            "Epoch 5/50\n",
            "219/220 [============================>.] - ETA: 0s - loss: 0.0838 - accuracy: 0.9767\n",
            "Epoch 5: val_loss did not improve from 0.58189\n",
            "220/220 [==============================] - 30s 134ms/step - loss: 0.0837 - accuracy: 0.9768 - val_loss: 0.7110 - val_accuracy: 0.7907\n",
            "Epoch 6/50\n",
            "219/220 [============================>.] - ETA: 0s - loss: 0.0639 - accuracy: 0.9805\n",
            "Epoch 6: val_loss did not improve from 0.58189\n",
            "220/220 [==============================] - 31s 138ms/step - loss: 0.0639 - accuracy: 0.9805 - val_loss: 0.7070 - val_accuracy: 0.8067\n",
            "Epoch 7/50\n",
            "219/220 [============================>.] - ETA: 0s - loss: 0.0399 - accuracy: 0.9900\n",
            "Epoch 7: val_loss did not improve from 0.58189\n",
            "220/220 [==============================] - 30s 135ms/step - loss: 0.0399 - accuracy: 0.9900 - val_loss: 0.7284 - val_accuracy: 0.7920\n"
          ]
        }
      ]
    },
    {
      "cell_type": "code",
      "source": [
        "show_training_and_validation_performance(history)"
      ],
      "metadata": {
        "colab": {
          "base_uri": "https://localhost:8080/",
          "height": 545
        },
        "outputId": "5c40cdec-f778-48ac-dc64-7da1959d8aed",
        "id": "Wcqhc3tS653S"
      },
      "execution_count": null,
      "outputs": [
        {
          "output_type": "display_data",
          "data": {
            "text/plain": [
              "<Figure size 432x288 with 1 Axes>"
            ],
            "image/png": "[encoded data removed]"
          },
          "metadata": {
            "needs_background": "light"
          }
        },
        {
          "output_type": "display_data",
          "data": {
            "text/plain": [
              "<Figure size 432x288 with 1 Axes>"
            ],
            "image/png": "[encoded data removed]"
          },
          "metadata": {
            "needs_background": "light"
          }
        }
      ]
    },
    {
      "cell_type": "code",
      "source": [
        "evaluate_model(model, test_images)"
      ],
      "metadata": {
        "colab": {
          "base_uri": "https://localhost:8080/"
        },
        "outputId": "b4b5b2da-a1c1-40e8-c3f1-3b3efda5d0d7",
        "id": "wr3gxJnw653S"
      },
      "execution_count": null,
      "outputs": [
        {
          "output_type": "stream",
          "name": "stdout",
          "text": [
            "48/48 [==============================] - 6s 106ms/step - loss: 0.6219 - accuracy: 0.7836\n",
            "Loss on test set: 0.6218715906143188\n",
            "Accuracy on test set: 0.7835870385169983\n",
            "                precision    recall  f1-score   support\n",
            "\n",
            "       Actinic     0.5250    0.4200    0.4667        50\n",
            "           BCC     0.5243    0.6750    0.5902        80\n",
            "Dermatofibroma     0.5000    0.5556    0.5263        18\n",
            "     Keratosis     0.6513    0.5964    0.6226       166\n",
            "      Melanoma     0.4864    0.6369    0.5515       168\n",
            "          Nevu     0.9144    0.8699    0.8916      1007\n",
            "      Vascular     0.9444    0.7727    0.8500        22\n",
            "\n",
            "      accuracy                         0.7836      1511\n",
            "     macro avg     0.6494    0.6466    0.6427      1511\n",
            "  weighted avg     0.7999    0.7836    0.7893      1511\n",
            "\n"
          ]
        }
      ]
    },
    {
      "cell_type": "code",
      "source": [
        "plot_confusionmatrix(model, test_images)"
      ],
      "metadata": {
        "colab": {
          "base_uri": "https://localhost:8080/",
          "height": 647
        },
        "outputId": "301a6fb3-7b87-49ff-deeb-8fe795153a55",
        "id": "rUhJhx70653S"
      },
      "execution_count": null,
      "outputs": [
        {
          "output_type": "stream",
          "name": "stdout",
          "text": [
            "48/48 [==============================] - 5s 108ms/step\n"
          ]
        },
        {
          "output_type": "display_data",
          "data": {
            "text/plain": [
              "<Figure size 720x720 with 2 Axes>"
            ],
            "image/png": "[encoded data removed]"
          },
          "metadata": {
            "needs_background": "light"
          }
        }
      ]
    },
    {
      "cell_type": "markdown",
      "source": [
        "### Last Conv Block"
      ],
      "metadata": {
        "id": "O24GbE1l94mY"
      }
    },
    {
      "cell_type": "code",
      "source": [
        "trainable = False\n",
        "\n",
        "for layer in model.get_layer(\"resnet50\").layers:\n",
        "    if 'conv5' in layer.name:\n",
        "        trainable = True\n",
        "    is_bn = layer.name.endswith('bn')  # keep BatchNorm freezed, good practice for finetuned models\n",
        "    if not is_bn:\n",
        "      layer.trainable = trainable\n",
        "\n",
        "model = compile_model(model, loss=\"sparse_categorical_crossentropy\", learning_rate=0.0001)\n",
        "model.summary()"
      ],
      "metadata": {
        "colab": {
          "base_uri": "https://localhost:8080/"
        },
        "outputId": "9edb8283-6439-4903-def3-112a762aaa73",
        "id": "DmfTAhYd94mY"
      },
      "execution_count": null,
      "outputs": [
        {
          "output_type": "stream",
          "name": "stdout",
          "text": [
            "Model: \"ResNet\"\n",
            "_________________________________________________________________\n",
            " Layer (type)                Output Shape              Param #   \n",
            "=================================================================\n",
            " input_2 (InputLayer)        [(None, 224, 224, 3)]     0         \n",
            "                                                                 \n",
            " tf.__operators__.getitem (S  (None, 224, 224, 3)      0         \n",
            " licingOpLambda)                                                 \n",
            "                                                                 \n",
            " tf.nn.bias_add (TFOpLambda)  (None, 224, 224, 3)      0         \n",
            "                                                                 \n",
            " resnet50 (Functional)       (None, 7, 7, 2048)        23587712  \n",
            "                                                                 \n",
            " gap (GlobalAveragePooling2D  (None, 2048)             0         \n",
            " )                                                               \n",
            "                                                                 \n",
            " classifier_hidden (Dense)   (None, 512)               1049088   \n",
            "                                                                 \n",
            " dense (Dense)               (None, 7)                 3591      \n",
            "                                                                 \n",
            "=================================================================\n",
            "Total params: 24,640,391\n",
            "Trainable params: 16,006,151\n",
            "Non-trainable params: 8,634,240\n",
            "_________________________________________________________________\n"
          ]
        }
      ]
    },
    {
      "cell_type": "code",
      "source": [
        "model, history = run_model(model, \"FT_LastConv\", training_images, val_images, EPOCHS, patience=5, monitor='val_loss', class_weight=class_weight)"
      ],
      "metadata": {
        "colab": {
          "base_uri": "https://localhost:8080/"
        },
        "outputId": "c87fbecb-d96b-4d9c-bec2-63849730392e",
        "id": "CbhYvnZ994mZ"
      },
      "execution_count": null,
      "outputs": [
        {
          "output_type": "stream",
          "name": "stdout",
          "text": [
            "Epoch 1/50\n",
            "220/220 [==============================] - ETA: 0s - loss: 0.6458 - accuracy: 0.8020\n",
            "Epoch 1: val_loss improved from inf to 0.62385, saving model to /content/models/FT_LastConv.h5\n",
            "220/220 [==============================] - 41s 167ms/step - loss: 0.6458 - accuracy: 0.8020 - val_loss: 0.6239 - val_accuracy: 0.7633\n",
            "Epoch 2/50\n",
            "219/220 [============================>.] - ETA: 0s - loss: 0.3739 - accuracy: 0.8789\n",
            "Epoch 2: val_loss improved from 0.62385 to 0.60666, saving model to /content/models/FT_LastConv.h5\n",
            "220/220 [==============================] - 37s 163ms/step - loss: 0.3736 - accuracy: 0.8790 - val_loss: 0.6067 - val_accuracy: 0.7940\n",
            "Epoch 3/50\n",
            "219/220 [============================>.] - ETA: 0s - loss: 0.2721 - accuracy: 0.9060\n",
            "Epoch 3: val_loss improved from 0.60666 to 0.52438, saving model to /content/models/FT_LastConv.h5\n",
            "220/220 [==============================] - 36s 162ms/step - loss: 0.2719 - accuracy: 0.9060 - val_loss: 0.5244 - val_accuracy: 0.8220\n",
            "Epoch 4/50\n",
            "219/220 [============================>.] - ETA: 0s - loss: 0.2033 - accuracy: 0.9312\n",
            "Epoch 4: val_loss did not improve from 0.52438\n",
            "220/220 [==============================] - 36s 159ms/step - loss: 0.2032 - accuracy: 0.9313 - val_loss: 0.7182 - val_accuracy: 0.7707\n",
            "Epoch 5/50\n",
            "219/220 [============================>.] - ETA: 0s - loss: 0.1646 - accuracy: 0.9389\n",
            "Epoch 5: val_loss did not improve from 0.52438\n",
            "220/220 [==============================] - 35s 158ms/step - loss: 0.1649 - accuracy: 0.9388 - val_loss: 0.5748 - val_accuracy: 0.8140\n",
            "Epoch 6/50\n",
            "219/220 [============================>.] - ETA: 0s - loss: 0.1327 - accuracy: 0.9559\n",
            "Epoch 6: val_loss did not improve from 0.52438\n",
            "220/220 [==============================] - 36s 159ms/step - loss: 0.1327 - accuracy: 0.9559 - val_loss: 0.7025 - val_accuracy: 0.8093\n",
            "Epoch 7/50\n",
            "219/220 [============================>.] - ETA: 0s - loss: 0.1255 - accuracy: 0.9565\n",
            "Epoch 7: val_loss did not improve from 0.52438\n",
            "220/220 [==============================] - 36s 159ms/step - loss: 0.1254 - accuracy: 0.9565 - val_loss: 0.6331 - val_accuracy: 0.8233\n",
            "Epoch 8/50\n",
            "219/220 [============================>.] - ETA: 0s - loss: 0.1030 - accuracy: 0.9649\n",
            "Epoch 8: val_loss did not improve from 0.52438\n",
            "220/220 [==============================] - 36s 158ms/step - loss: 0.1029 - accuracy: 0.9649 - val_loss: 0.6280 - val_accuracy: 0.8273\n"
          ]
        }
      ]
    },
    {
      "cell_type": "code",
      "source": [
        "show_training_and_validation_performance(history)"
      ],
      "metadata": {
        "colab": {
          "base_uri": "https://localhost:8080/",
          "height": 545
        },
        "outputId": "743360d5-d4ae-40bc-d0c5-c386c1165dd3",
        "id": "o6Dp9Viw94mZ"
      },
      "execution_count": null,
      "outputs": [
        {
          "output_type": "display_data",
          "data": {
            "text/plain": [
              "<Figure size 432x288 with 1 Axes>"
            ],
            "image/png": "[encoded data removed]"
          },
          "metadata": {
            "needs_background": "light"
          }
        },
        {
          "output_type": "display_data",
          "data": {
            "text/plain": [
              "<Figure size 432x288 with 1 Axes>"
            ],
            "image/png": "[encoded data removed]"
          },
          "metadata": {
            "needs_background": "light"
          }
        }
      ]
    },
    {
      "cell_type": "code",
      "source": [
        "evaluate_model(model, test_images)"
      ],
      "metadata": {
        "colab": {
          "base_uri": "https://localhost:8080/"
        },
        "outputId": "a59c5c54-d11f-4a57-a2ae-deacb2ef7172",
        "id": "YD8SKsTp94mZ"
      },
      "execution_count": null,
      "outputs": [
        {
          "output_type": "stream",
          "name": "stdout",
          "text": [
            "48/48 [==============================] - 6s 104ms/step - loss: 0.5840 - accuracy: 0.8101\n",
            "Loss on test set: 0.5840002298355103\n",
            "Accuracy on test set: 0.8100595474243164\n",
            "                precision    recall  f1-score   support\n",
            "\n",
            "       Actinic     0.4231    0.4400    0.4314        50\n",
            "           BCC     0.6667    0.6000    0.6316        80\n",
            "Dermatofibroma     0.4444    0.4444    0.4444        18\n",
            "     Keratosis     0.6913    0.6205    0.6540       166\n",
            "      Melanoma     0.6400    0.4762    0.5461       168\n",
            "          Nevu     0.8814    0.9374    0.9086      1007\n",
            "      Vascular     0.7917    0.8636    0.8261        22\n",
            "\n",
            "      accuracy                         0.8101      1511\n",
            "     macro avg     0.6484    0.6260    0.6346      1511\n",
            "  weighted avg     0.8006    0.8101    0.8031      1511\n",
            "\n"
          ]
        }
      ]
    },
    {
      "cell_type": "code",
      "source": [
        "plot_confusionmatrix(model, test_images)"
      ],
      "metadata": {
        "colab": {
          "base_uri": "https://localhost:8080/",
          "height": 647
        },
        "outputId": "4251af31-c860-4ca6-a1e3-fd1eeb899966",
        "id": "Mh2NwEqY94mZ"
      },
      "execution_count": null,
      "outputs": [
        {
          "output_type": "stream",
          "name": "stdout",
          "text": [
            "48/48 [==============================] - 5s 107ms/step\n"
          ]
        },
        {
          "output_type": "display_data",
          "data": {
            "text/plain": [
              "<Figure size 720x720 with 2 Axes>"
            ],
            "image/png": "[encoded data removed]"
          },
          "metadata": {
            "needs_background": "light"
          }
        }
      ]
    }
  ]
}