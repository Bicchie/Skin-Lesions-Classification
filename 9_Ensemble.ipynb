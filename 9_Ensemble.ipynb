{
  "nbformat": 4,
  "nbformat_minor": 0,
  "metadata": {
    "colab": {
      "provenance": [],
      "collapsed_sections": [
        "kkkhjr1MxwRC",
        "M2QL-IFJ51ME",
        "nKzhX_X68mGK"
      ],
      "authorship_tag": "ABX9TyN8702hbvqWRGRRjQSWcv7o",
      "include_colab_link": true
    },
    "kernelspec": {
      "name": "python3",
      "display_name": "Python 3"
    },
    "language_info": {
      "name": "python"
    },
    "accelerator": "GPU",
    "gpuClass": "standard"
  },
  "cells": [
    {
      "cell_type": "markdown",
      "metadata": {
        "id": "view-in-github",
        "colab_type": "text"
      },
      "source": [
        "<a href=\"https://colab.research.google.com/github/Bicchie/Skin-Lesions-Classification/blob/main/9_Ensemble.ipynb\" target=\"_parent\"><img src=\"https://colab.research.google.com/assets/colab-badge.svg\" alt=\"Open In Colab\"/></a>"
      ]
    },
    {
      "cell_type": "markdown",
      "source": [
        "#Skin Lesions Classifications using Ensemble"
      ],
      "metadata": {
        "id": "znt8UEX50VC1"
      }
    },
    {
      "cell_type": "markdown",
      "source": [
        "## Initialization"
      ],
      "metadata": {
        "id": "CYv_HijlhWRu"
      }
    },
    {
      "cell_type": "code",
      "execution_count": null,
      "metadata": {
        "id": "dS0_gw6PLYnb"
      },
      "outputs": [],
      "source": [
        "from google.colab import drive\n",
        "import tensorflow as tf\n",
        "from tensorflow import keras\n",
        "from tensorflow.keras import optimizers\n",
        "import random as rn\n",
        "from keras import layers\n",
        "from keras import models\n",
        "import os\n",
        "import math\n",
        "import shutil\n",
        "import matplotlib.pyplot as plt\n",
        "from sklearn import metrics\n",
        "from sklearn.metrics import ConfusionMatrixDisplay\n",
        "import numpy as np"
      ]
    },
    {
      "cell_type": "code",
      "source": [
        "drive.mount('/content/gdrive', force_remount=True)"
      ],
      "metadata": {
        "id": "eCoZZomfLsT4",
        "colab": {
          "base_uri": "https://localhost:8080/"
        },
        "outputId": "69b45d49-67d7-4130-ebce-9300f79a6d31"
      },
      "execution_count": null,
      "outputs": [
        {
          "output_type": "stream",
          "name": "stdout",
          "text": [
            "Mounted at /content/gdrive\n"
          ]
        }
      ]
    },
    {
      "cell_type": "code",
      "source": [
        "IMAGE_HEIGHT = 224\n",
        "IMAGE_WIDTH = 224\n",
        "TRAIN_DIR = '/content/gdrive/MyDrive/SkinCancer/OriginalDataset/train'\n",
        "VAL_DIR = '/content/gdrive/MyDrive/SkinCancer/OriginalDataset/val'\n",
        "TEST_DIR = '/content/gdrive/MyDrive/SkinCancer/OriginalDataset/test'\n",
        "MODELS_PATH = '/content/gdrive/MyDrive/SkinCancer/Models'\n",
        "\n",
        "CLASSES = ['Actinic', 'BCC', 'Dermatofibroma', 'Keratosis', 'Melanoma', 'Nevu', 'Vascular']\n",
        "BATCH_SIZE = 32\n",
        "RANDOM_SEED = 42\n",
        "EPOCHS=50\n",
        "DROPOUT = 0.3"
      ],
      "metadata": {
        "id": "4Ak2H8jHLuEt"
      },
      "execution_count": null,
      "outputs": []
    },
    {
      "cell_type": "markdown",
      "source": [
        "###Dataset Loading"
      ],
      "metadata": {
        "id": "kkkhjr1MxwRC"
      }
    },
    {
      "cell_type": "markdown",
      "source": [
        "Note that since 450x600 is too large, It is used the interpolation tool in Keras to resize the images in 224x224, also to fit the input of most pretrained networks."
      ],
      "metadata": {
        "id": "iwnC7oot1kyJ"
      }
    },
    {
      "cell_type": "code",
      "source": [
        "val_images = tf.keras.preprocessing.image_dataset_from_directory(\n",
        "    VAL_DIR,\n",
        "    labels='inferred',\n",
        "    batch_size=BATCH_SIZE,\n",
        "    color_mode='rgb',\n",
        "    image_size=(IMAGE_HEIGHT,IMAGE_WIDTH),\n",
        "    interpolation='bilinear',\n",
        "    shuffle=True,\n",
        "    seed=RANDOM_SEED\n",
        ")\n",
        "\n",
        "test_images = tf.keras.preprocessing.image_dataset_from_directory(\n",
        "    TEST_DIR,\n",
        "    labels='inferred',\n",
        "    batch_size=BATCH_SIZE,\n",
        "    color_mode='rgb',\n",
        "    image_size=(IMAGE_HEIGHT,IMAGE_WIDTH),\n",
        "    interpolation='bilinear',\n",
        "    shuffle=False,\n",
        "    seed=RANDOM_SEED\n",
        ")"
      ],
      "metadata": {
        "colab": {
          "base_uri": "https://localhost:8080/"
        },
        "id": "2MqCw7Wfxzg5",
        "outputId": "750d8bc0-c7f1-4477-967b-d790d38eeaa2"
      },
      "execution_count": null,
      "outputs": [
        {
          "output_type": "stream",
          "name": "stdout",
          "text": [
            "Found 1500 files belonging to 7 classes.\n",
            "Found 1511 files belonging to 7 classes.\n"
          ]
        }
      ]
    },
    {
      "cell_type": "markdown",
      "source": [
        "## Utility"
      ],
      "metadata": {
        "id": "8AASo4CnB50J"
      }
    },
    {
      "cell_type": "code",
      "source": [
        "def evaluate_model(true_labels, predicted_labels):\n",
        "  print(\"Accuracy on test set: \" +str(metrics.accuracy_score(true_labels, predicted_labels)))\n",
        "  print(metrics.classification_report(true_labels, predicted_labels, target_names=CLASSES, digits=4))\n",
        "  # plot confusion matrix\n",
        "  fig, ax = plt.subplots(figsize=(10, 10))\n",
        "  ConfusionMatrixDisplay.from_predictions(true_labels, predicted_labels, xticks_rotation='vertical', ax=ax, display_labels=CLASSES)\n",
        "\n",
        "def plot_confusionmatrix(model, test_ds):\n",
        "  test_labels = np.concatenate([label for image, label in test_ds], axis=0) # retrieve the labels of the test set\n",
        "  test_predictions = model.predict(test_ds, verbose=1)  # probabilities for all classes\n",
        "  test_predictions = np.argmax(test_predictions, axis=-1)  # index of the classes with largest probability\n",
        "  # plot confusion matrix\n",
        "  fig, ax = plt.subplots(figsize=(10, 10))\n",
        "  ConfusionMatrixDisplay.from_predictions(test_labels, test_predictions, xticks_rotation='vertical', ax=ax, display_labels=CLASSES)\n",
        "\n",
        "def get_accuracy(true_labels, predicted_labels):\n",
        "  return metrics.accuracy_score(true_labels, predicted_labels)"
      ],
      "metadata": {
        "id": "411pI0DC0L9B"
      },
      "execution_count": null,
      "outputs": []
    },
    {
      "cell_type": "markdown",
      "source": [
        "## Load Models"
      ],
      "metadata": {
        "id": "W2xhyTYZ2IjC"
      }
    },
    {
      "cell_type": "markdown",
      "source": [
        "Load the best model for each approach."
      ],
      "metadata": {
        "id": "Tv5YUgL-46-U"
      }
    },
    {
      "cell_type": "code",
      "source": [
        "vgg_model = models.load_model('/content/gdrive/MyDrive/SkinCancer/Models/VGG/FT_LastBlock.h5')\n",
        "inception_model = models.load_model('/content/gdrive/MyDrive/SkinCancer/Models/Inception/FT_Last1.h5')\n",
        "densenet_model = models.load_model('/content/gdrive/MyDrive/SkinCancer/Models/DenseNet/FT_LastWhole.h5')\n",
        "resnet_model = models.load_model('/content/gdrive/MyDrive/SkinCancer/Models/ResNet/FT_LastWhole.h5')"
      ],
      "metadata": {
        "id": "OV7ohG5w3K30"
      },
      "execution_count": null,
      "outputs": []
    },
    {
      "cell_type": "markdown",
      "source": [
        "We calculate the results of each model on the test set and we concatenate the results on a single list object. The same procedure is done also for the validation set, since this results will be useful when we are gonna find the best weights for the ensemble model."
      ],
      "metadata": {
        "id": "Z7vSnNZM6mev"
      }
    },
    {
      "cell_type": "markdown",
      "source": [
        "### Scores on Validation Set"
      ],
      "metadata": {
        "id": "MOd3tuXU5ccy"
      }
    },
    {
      "cell_type": "code",
      "source": [
        "vgg_model_val = vgg_model.predict(val_images)\n",
        "inception_model_val = inception_model.predict(val_images)\n",
        "densenet_model_val = densenet_model.predict(val_images)\n",
        "resnet_model_val = resnet_model.predict(val_images)\n",
        "\n",
        "model_val_scores = [vgg_model_val, inception_model_val, densenet_model_val, resnet_model_val]\n",
        "\n",
        "val_labels = tf.concat([label for image, label in val_images], axis = 0)"
      ],
      "metadata": {
        "id": "OpHTXhd85epU"
      },
      "execution_count": null,
      "outputs": []
    },
    {
      "cell_type": "code",
      "source": [
        "TRUE_VALIDATION_LABELS = tf.concat([labels_batch for data_batch, labels_batch in val_images], axis = 0)"
      ],
      "metadata": {
        "id": "WfkS-LOG2AeR"
      },
      "execution_count": null,
      "outputs": []
    },
    {
      "cell_type": "markdown",
      "source": [
        "### Scores on Test Set"
      ],
      "metadata": {
        "id": "8DgG-DiH6S6i"
      }
    },
    {
      "cell_type": "code",
      "source": [
        "vgg_model_test = vgg_model.predict(test_images)\n",
        "inception_model_test = inception_model.predict(test_images)\n",
        "densenet_model_test = densenet_model.predict(test_images)\n",
        "resnet_model_test = resnet_model.predict(test_images)\n",
        "\n",
        "model_test_scores = [vgg_model_test, inception_model_test, densenet_model_test, resnet_model_test]\n",
        "\n",
        "test_labels = tf.concat([label for image, label in test_images], axis = 0)"
      ],
      "metadata": {
        "id": "9YzVrpAb6VrI"
      },
      "execution_count": null,
      "outputs": []
    },
    {
      "cell_type": "markdown",
      "source": [
        "## Average Model"
      ],
      "metadata": {
        "id": "M2QL-IFJ51ME"
      }
    },
    {
      "cell_type": "markdown",
      "source": [
        "This is the equivalent of using weights of 0.25."
      ],
      "metadata": {
        "id": "80YHxVau4-mx"
      }
    },
    {
      "cell_type": "code",
      "source": [
        "model_test_scores = np.array(model_test_scores)\n",
        "ensemble_scores = np.mean(model_test_scores, axis=0)\n",
        "ensemble_prediction = np.argmax(ensemble_scores, axis=-1) # argmax across classes\n",
        "\n",
        "evaluate_model(test_labels, ensemble_prediction)"
      ],
      "metadata": {
        "colab": {
          "base_uri": "https://localhost:8080/",
          "height": 903
        },
        "id": "z6d09nag526x",
        "outputId": "46b6e2bb-75d6-46c1-e3da-4e396c6c76c6"
      },
      "execution_count": null,
      "outputs": [
        {
          "output_type": "stream",
          "name": "stdout",
          "text": [
            "Accuracy on test set: 0.8312375909993381\n",
            "                precision    recall  f1-score   support\n",
            "\n",
            "       Actinic     0.6364    0.5600    0.5957        50\n",
            "           BCC     0.6471    0.8250    0.7253        80\n",
            "Dermatofibroma     0.7000    0.3889    0.5000        18\n",
            "     Keratosis     0.6722    0.7289    0.6994       166\n",
            "      Melanoma     0.5917    0.5952    0.5935       168\n",
            "          Nevu     0.9299    0.9086    0.9191      1007\n",
            "      Vascular     0.8636    0.8636    0.8636        22\n",
            "\n",
            "      accuracy                         0.8312      1511\n",
            "     macro avg     0.7201    0.6958    0.6995      1511\n",
            "  weighted avg     0.8356    0.8312    0.8320      1511\n",
            "\n"
          ]
        },
        {
          "output_type": "display_data",
          "data": {
            "text/plain": [
              "<Figure size 720x720 with 2 Axes>"
            ],
            "image/png": "[encoded data removed]"
          },
          "metadata": {
            "needs_background": "light"
          }
        }
      ]
    },
    {
      "cell_type": "markdown",
      "source": [
        "## Weighted Average Model"
      ],
      "metadata": {
        "id": "nKzhX_X68mGK"
      }
    },
    {
      "cell_type": "code",
      "source": [
        "def calculate_ensemble_prediction(model_scores, weights):\n",
        "  model_scores = np.array(model_scores)\n",
        "  ensemble_scores = np.average(model_scores, axis=0, weights=weights)\n",
        "  ensemble_prediction = np.argmax(ensemble_scores, axis=-1) # argmax across classes\n",
        "  return ensemble_prediction"
      ],
      "metadata": {
        "id": "03N-Svkx8nro"
      },
      "execution_count": null,
      "outputs": []
    },
    {
      "cell_type": "code",
      "source": [
        "step = 0.05\n",
        "\n",
        "#record of the best model wrt accuracy on test set\n",
        "best_accuracy_model = {'weights':[], 'accuracy':0}\n",
        "\n",
        "for a in np.arange(0,1.01,step):\n",
        "  for b in np.arange(0,1.01,step):\n",
        "    for c in np.arange(0,1.01,step):\n",
        "      for d in np.arange(0,1.01,step):\n",
        "        if (a + b + c + d == 1):\n",
        "          predictions = calculate_ensemble_prediction(model_val_scores, [a, b, c, d])\n",
        "          acc = get_accuracy(val_labels, predictions)\n",
        "          new_model = {'weights':[a,b,c,d], 'accuracy':acc}\n",
        "          if new_model['accuracy'] > best_accuracy_model['accuracy']:\n",
        "            best_accuracy_model = new_model"
      ],
      "metadata": {
        "id": "mrn347fP8rM0"
      },
      "execution_count": null,
      "outputs": []
    },
    {
      "cell_type": "code",
      "source": [
        "best_accuracy_model"
      ],
      "metadata": {
        "colab": {
          "base_uri": "https://localhost:8080/"
        },
        "id": "pSEGu4XD9xwA",
        "outputId": "2b32e295-438e-460c-f425-15c645f4005d"
      },
      "execution_count": null,
      "outputs": [
        {
          "output_type": "execute_result",
          "data": {
            "text/plain": [
              "{'weights': [0.2, 0.2, 0.30000000000000004, 0.30000000000000004],\n",
              " 'accuracy': 0.6106666666666667}"
            ]
          },
          "metadata": {},
          "execution_count": 21
        }
      ]
    },
    {
      "cell_type": "markdown",
      "source": [
        "Impossibile che questo venga con accuracy più bassa dell'average che usa come pesi [0.25, 0.25, 0.25, 0.25].\n",
        "Invece lo è perché qui come cosa si usa validation e non il test...."
      ],
      "metadata": {
        "id": "N0fEXEQAESoi"
      }
    },
    {
      "cell_type": "code",
      "source": [
        "print(\"Model with best accuracy: \")\n",
        "print(\"Weights: \" + str(best_accuracy_model['weights']))\n",
        "best_acc_predictions = calculate_ensemble_prediction(model_test_scores, best_accuracy_model['weights'])\n",
        "evaluate_model(test_labels, best_acc_predictions)"
      ],
      "metadata": {
        "colab": {
          "base_uri": "https://localhost:8080/",
          "height": 940
        },
        "id": "9IYgrfyL-int",
        "outputId": "f0bf0a26-0a75-4d1b-b26c-6e446d2b6951"
      },
      "execution_count": null,
      "outputs": [
        {
          "output_type": "stream",
          "name": "stdout",
          "text": [
            "Model with best accuracy: \n",
            "Weights: [0.2, 0.2, 0.30000000000000004, 0.30000000000000004]\n",
            "Accuracy on test set: 0.8325612177365983\n",
            "                precision    recall  f1-score   support\n",
            "\n",
            "       Actinic     0.6364    0.5600    0.5957        50\n",
            "           BCC     0.6226    0.8250    0.7097        80\n",
            "Dermatofibroma     0.7273    0.4444    0.5517        18\n",
            "     Keratosis     0.6705    0.7108    0.6901       166\n",
            "      Melanoma     0.6000    0.6071    0.6036       168\n",
            "          Nevu     0.9337    0.9096    0.9215      1007\n",
            "      Vascular     0.8696    0.9091    0.8889        22\n",
            "\n",
            "      accuracy                         0.8326      1511\n",
            "     macro avg     0.7229    0.7095    0.7087      1511\n",
            "  weighted avg     0.8380    0.8326    0.8339      1511\n",
            "\n"
          ]
        },
        {
          "output_type": "display_data",
          "data": {
            "text/plain": [
              "<Figure size 720x720 with 2 Axes>"
            ],
            "image/png": "[encoded data removed]"
          },
          "metadata": {
            "needs_background": "light"
          }
        }
      ]
    },
    {
      "cell_type": "markdown",
      "source": [
        "## Genetic Algorithms\n"
      ],
      "metadata": {
        "id": "rLkAXBcsHGbA"
      }
    },
    {
      "cell_type": "markdown",
      "source": [
        "The weights of the ensemble can be found using Genetic algorithm. We have chromosomes composed by six genes (representing the weight of each model). Each transformation (crossover and mutation) will keep the sum of the genes of each chromosome equal to one.\n",
        "The code is inspired by https://machinelearningmastery.com/simple-genetic-algorithm-from-scratch-in-python/ post."
      ],
      "metadata": {
        "id": "ZBfAQVPb0XR3"
      }
    },
    {
      "cell_type": "markdown",
      "source": [
        "We used as **fitness function** the **accuracy**."
      ],
      "metadata": {
        "id": "7NI7kIgw1MBy"
      }
    },
    {
      "cell_type": "code",
      "source": [
        "def get_f1(weights):\n",
        "  predictions = calculate_ensemble_prediction(model_val_scores, weights)\n",
        "  return metrics.accuracy_score(val_labels, predictions)"
      ],
      "metadata": {
        "id": "_8apPwXE1nzk"
      },
      "execution_count": null,
      "outputs": []
    },
    {
      "cell_type": "code",
      "source": [
        "# tournament selection\n",
        "def tournament_selection(population, scores, k=5):\n",
        "  selection_indexes = [rn.randrange(0, len(population), 1) for i in range(k)]\n",
        "  selected_index = selection_indexes[0]\n",
        "  for i in selection_indexes[1:]:\n",
        "    # perform the tournament, i.e. check if new selection is better than last one\n",
        "    if scores[i] > scores[selected_index]:\n",
        "      selected_index = i\n",
        "  return population[selected_index]"
      ],
      "metadata": {
        "id": "WD7OhRIJ4SOJ"
      },
      "execution_count": null,
      "outputs": []
    },
    {
      "cell_type": "code",
      "source": [
        "# average crossover\n",
        "def crossover(parent_1, parent_2, r_genes):\n",
        "  children_1, children_2 = parent_1.copy(), parent_2.copy()\n",
        "  random_genes_indexes = [rn.randrange(0, len(parent_1), 1) for i in range(r_genes)]\n",
        "  for i in random_genes_indexes:\n",
        "    average = (parent_1[i] + parent_2[i])/2\n",
        "    children_1[i] = average\n",
        "    children_2[i] = average\n",
        "  return [[float(i)/sum(children_1) for i in children_1], \n",
        "          [float(i)/sum(children_2) for i in children_2]] # normalization is needed because the sum of weights must be one"
      ],
      "metadata": {
        "id": "vIiaUZB34fJ4"
      },
      "execution_count": null,
      "outputs": []
    },
    {
      "cell_type": "code",
      "source": [
        "# all-positions mutation\n",
        "def mutation(chromosome):\n",
        "  index = rn.randint(0, len(chromosome)-1)\n",
        "  chromosome[index] = rn.random()\n",
        "  return [float(i)/sum(chromosome) for i in chromosome]"
      ],
      "metadata": {
        "id": "PpobygKt4iCR"
      },
      "execution_count": null,
      "outputs": []
    },
    {
      "cell_type": "code",
      "source": [
        "def genetic_algorithm(fitness, number_of_models, population_size, number_of_generations, p_crossover, p_mutation):\n",
        "  # initial population of random chromosomes\n",
        "  population = []\n",
        "  for i in range(population_size):\n",
        "    chromosome = [rn.random() for _ in range(number_of_models)]\n",
        "    chromosome = [float(i)/sum(chromosome) for i in chromosome]\n",
        "    population.insert(i, chromosome)\n",
        "  # keep track of best solution\n",
        "  best_chromosome, best_fitness = 0, fitness(population[0])\n",
        "  # enumerate generations\n",
        "  for generation in range(number_of_generations):\n",
        "    # evaluate all candidates in the population\n",
        "    scores = [fitness(chromosome) for chromosome in population]\n",
        "    # check for new best solution\n",
        "    new_best = False\n",
        "    for i in range(population_size):\n",
        "      if scores[i] > best_fitness:\n",
        "        new_best = True\n",
        "        best_chromosome, best_fitness = population[i], scores[i]\n",
        "    if new_best:\n",
        "      print(\"Generation %d, best fitness = %.4f\" % (generation+1, best_fitness))\n",
        "    # select parents\n",
        "    selected = [tournament_selection(population, scores) for _ in range(population_size)]\n",
        "    # create the next generation\n",
        "    children = []\n",
        "    for i in range(0, population_size, 2):\n",
        "      # get selected parents in pairs\n",
        "      p1, p2 = selected[i], selected[i+1]\n",
        "      # crossover and mutation\n",
        "      if rn.random() < p_crossover:\n",
        "        for c in crossover(p1, p2, r_genes=2):\n",
        "          if rn.random() < p_mutation:\n",
        "            # mutation\n",
        "            mutation(c)\n",
        "          # store for next generation\n",
        "          children.append(c)\n",
        "      else:\n",
        "        children.append(p1)\n",
        "        children.append(p2)\n",
        "    # replace population\n",
        "    population = children\n",
        "  return [best_chromosome, best_fitness]"
      ],
      "metadata": {
        "id": "uw0xU73k4ms9"
      },
      "execution_count": null,
      "outputs": []
    },
    {
      "cell_type": "code",
      "source": [
        "weights = None\n",
        "fmeasure = -10\n",
        "for i in range(10):\n",
        "  print(\"Iteration \", i)\n",
        "  cw, cfm = genetic_algorithm(get_f1, 4, 300, 10, 0.4, 0.5)\n",
        "  if cfm > fmeasure:\n",
        "    fmeasure = cfm\n",
        "    weights = cw\n",
        "  print(\"------------\")"
      ],
      "metadata": {
        "colab": {
          "base_uri": "https://localhost:8080/"
        },
        "id": "7W1fzEbe75SU",
        "outputId": "03384e59-4659-4f8d-ee7d-00f1b45c38bd"
      },
      "execution_count": null,
      "outputs": [
        {
          "output_type": "stream",
          "name": "stdout",
          "text": [
            "Iteration  0\n",
            "Generation 1, best fitness = 0.6047\n",
            "Generation 2, best fitness = 0.6073\n",
            "Generation 4, best fitness = 0.6093\n",
            "Generation 7, best fitness = 0.6100\n",
            "------------\n",
            "Iteration  1\n",
            "Generation 1, best fitness = 0.6073\n",
            "Generation 3, best fitness = 0.6080\n",
            "Generation 4, best fitness = 0.6087\n",
            "Generation 6, best fitness = 0.6093\n",
            "Generation 10, best fitness = 0.6100\n",
            "------------\n",
            "Iteration  2\n",
            "Generation 1, best fitness = 0.6053\n",
            "Generation 2, best fitness = 0.6073\n",
            "Generation 8, best fitness = 0.6080\n",
            "------------\n",
            "Iteration  3\n",
            "Generation 1, best fitness = 0.6080\n",
            "Generation 4, best fitness = 0.6093\n",
            "------------\n",
            "Iteration  4\n",
            "Generation 1, best fitness = 0.6080\n",
            "Generation 4, best fitness = 0.6093\n",
            "Generation 5, best fitness = 0.6100\n",
            "------------\n",
            "Iteration  5\n",
            "Generation 1, best fitness = 0.6053\n",
            "Generation 2, best fitness = 0.6073\n",
            "Generation 3, best fitness = 0.6080\n",
            "Generation 4, best fitness = 0.6087\n",
            "Generation 7, best fitness = 0.6093\n",
            "------------\n",
            "Iteration  6\n",
            "Generation 1, best fitness = 0.6053\n",
            "Generation 3, best fitness = 0.6093\n",
            "Generation 7, best fitness = 0.6100\n",
            "------------\n",
            "Iteration  7\n",
            "Generation 1, best fitness = 0.6073\n",
            "Generation 3, best fitness = 0.6080\n",
            "Generation 5, best fitness = 0.6093\n",
            "Generation 6, best fitness = 0.6100\n",
            "Generation 10, best fitness = 0.6107\n",
            "------------\n",
            "Iteration  8\n",
            "Generation 1, best fitness = 0.6033\n",
            "Generation 2, best fitness = 0.6053\n",
            "Generation 3, best fitness = 0.6073\n",
            "Generation 4, best fitness = 0.6093\n",
            "Generation 8, best fitness = 0.6100\n",
            "------------\n",
            "Iteration  9\n",
            "Generation 1, best fitness = 0.6067\n",
            "Generation 2, best fitness = 0.6080\n",
            "Generation 3, best fitness = 0.6087\n",
            "Generation 5, best fitness = 0.6100\n",
            "------------\n"
          ]
        }
      ]
    },
    {
      "cell_type": "code",
      "source": [
        "weights"
      ],
      "metadata": {
        "colab": {
          "base_uri": "https://localhost:8080/"
        },
        "id": "lwthvEI_8hyb",
        "outputId": "93214037-6146-4cf3-c862-a94358d8f74a"
      },
      "execution_count": null,
      "outputs": [
        {
          "output_type": "execute_result",
          "data": {
            "text/plain": [
              "[0.2547621177422938,\n",
              " 0.1830630406559546,\n",
              " 0.2774713818612095,\n",
              " 0.28470345974054195]"
            ]
          },
          "metadata": {},
          "execution_count": 32
        }
      ]
    },
    {
      "cell_type": "code",
      "source": [
        "best_acc_predictions = calculate_ensemble_prediction(model_test_scores, weights)\n",
        "evaluate_model(test_labels, best_acc_predictions)"
      ],
      "metadata": {
        "colab": {
          "base_uri": "https://localhost:8080/",
          "height": 889
        },
        "id": "ku1bI_dr8uzy",
        "outputId": "2a7f46da-717b-4da5-d0cf-abbefbf194e4"
      },
      "execution_count": null,
      "outputs": [
        {
          "output_type": "stream",
          "name": "stdout",
          "text": [
            "Accuracy on test set: 0.8266048974189278\n",
            "                precision    recall  f1-score   support\n",
            "\n",
            "       Actinic     0.6667    0.5200    0.5843        50\n",
            "           BCC     0.6932    0.7625    0.7262        80\n",
            "Dermatofibroma     0.7500    0.5000    0.6000        18\n",
            "     Keratosis     0.6578    0.7410    0.6969       166\n",
            "      Melanoma     0.5450    0.6131    0.5770       168\n",
            "          Nevu     0.9322    0.9017    0.9167      1007\n",
            "      Vascular     0.8636    0.8636    0.8636        22\n",
            "\n",
            "      accuracy                         0.8266      1511\n",
            "     macro avg     0.7298    0.7003    0.7092      1511\n",
            "  weighted avg     0.8344    0.8266    0.8292      1511\n",
            "\n"
          ]
        },
        {
          "output_type": "display_data",
          "data": {
            "text/plain": [
              "<Figure size 720x720 with 2 Axes>"
            ],
            "image/png": "[encoded data removed]"
          },
          "metadata": {
            "needs_background": "light"
          }
        }
      ]
    }
  ]
}